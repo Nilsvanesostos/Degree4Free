{
 "cells": [
  {
   "cell_type": "markdown",
   "id": "e18d09f5-c0f9-4984-b342-d10faa1a4855",
   "metadata": {
    "id": "e18d09f5-c0f9-4984-b342-d10faa1a4855"
   },
   "source": [
    "# Preprocessing of the data"
   ]
  },
  {
   "cell_type": "code",
   "execution_count": 1,
   "id": "93babd58-f3b1-441e-a937-82294f18d5d1",
   "metadata": {
    "id": "93babd58-f3b1-441e-a937-82294f18d5d1"
   },
   "outputs": [],
   "source": [
    "import pyspark\n",
    "from pyspark.sql import SparkSession\n",
    "import pyspark.sql.functions as fn\n",
    "from pyspark.sql.window import Window\n",
    "from pyspark.sql.types import StructType, StructField, StringType, ArrayType, IntegerType, DateType, FloatType\n",
    "import datetime\n",
    "import random\n",
    "import sys\n",
    "# import os\n",
    "import pyarrow\n",
    "import pandas as pd"
   ]
  },
  {
   "cell_type": "markdown",
   "id": "ab0e866a-bd9a-49bb-81a2-c97ae601e39b",
   "metadata": {
    "id": "ab0e866a-bd9a-49bb-81a2-c97ae601e39b"
   },
   "source": [
    "This two cells should be used for connecting with HDFS. But honestly I have no idea."
   ]
  },
  {
   "cell_type": "code",
   "execution_count": 2,
   "id": "ed900c97-3ac4-4835-a48d-1d7554f73543",
   "metadata": {
    "id": "ed900c97-3ac4-4835-a48d-1d7554f73543"
   },
   "outputs": [],
   "source": [
    "# # Set environment variables (if not already set)\n",
    "# os.environ['SPARK_HOME'] = 'C:/spark'\n",
    "# os.environ['HADOOP_HOME'] = 'C:/spark'  # This is optional, needed only if Hadoop is required\n",
    "\n",
    "# # Ensure the path includes SPARK_HOME/bin\n",
    "# os.environ['PATH'] += os.pathsep + os.path.join(os.environ['SPARK_HOME'], 'bin')"
   ]
  },
  {
   "cell_type": "code",
   "execution_count": 3,
   "id": "bd80810c-cbc5-4ff4-8fba-33aa00725845",
   "metadata": {
    "id": "bd80810c-cbc5-4ff4-8fba-33aa00725845"
   },
   "outputs": [],
   "source": [
    "# os.environ['PYSPARK_PYTHON'] = sys.executable\n",
    "# os.environ['PYSPARK_DRIVER_PYTHON'] = sys.executable\n",
    "# # os.environ['GOOGLE_APPLICATION_CREDENTIALS'] = \"gcs_config.json\"\n",
    "# os.environ[\"JAVA_HOME\"] = \"C:/Program Files/Java/jdk-11.0.7\"\n",
    "# os.environ[\"SPARK_HOME\"] = \"C:/spark\"\n",
    "# # findspark.init()\n",
    "\n",
    "# spark = SparkSession.builder \\\n",
    "#     .config(\"spark.pyspark.python\", \"/path/to/python3\") \\\n",
    "#     .config(\"spark.pyspark.driver.python\", \"/path/to/python3\") \\\n",
    "#     .getOrCreate()"
   ]
  },
  {
   "cell_type": "markdown",
   "id": "8356393d",
   "metadata": {
    "id": "8356393d"
   },
   "source": [
    "The first thing we have to do is create a Spark session that we will use for the preprocessing of the data."
   ]
  },
  {
   "cell_type": "code",
   "execution_count": 4,
   "id": "e0e47271-0357-453e-83fc-f622e3ab9cc2",
   "metadata": {
    "id": "e0e47271-0357-453e-83fc-f622e3ab9cc2"
   },
   "outputs": [
    {
     "name": "stderr",
     "output_type": "stream",
     "text": [
      "24/05/28 22:26:35 WARN Utils: Your hostname, LAPTOP-4EV3P84J resolves to a loopback address: 127.0.1.1; using 172.31.136.208 instead (on interface eth0)\n",
      "24/05/28 22:26:35 WARN Utils: Set SPARK_LOCAL_IP if you need to bind to another address\n",
      "Setting default log level to \"WARN\".\n",
      "To adjust logging level use sc.setLogLevel(newLevel). For SparkR, use setLogLevel(newLevel).\n",
      "24/05/28 22:26:38 WARN NativeCodeLoader: Unable to load native-hadoop library for your platform... using builtin-java classes where applicable\n"
     ]
    }
   ],
   "source": [
    "# Create a Spark session to work with Dataframes\n",
    "spark = SparkSession.builder.appName(\"BDM\").getOrCreate()\n",
    "# Create a Spark context to work with RDDs\n",
    "sc = pyspark.SparkContext.getOrCreate()"
   ]
  },
  {
   "cell_type": "markdown",
   "id": "fec46525-0985-4a41-b33b-f117171d2219",
   "metadata": {
    "id": "fec46525-0985-4a41-b33b-f117171d2219"
   },
   "source": [
    "## Loading the data"
   ]
  },
  {
   "cell_type": "markdown",
   "id": "1029a145",
   "metadata": {
    "id": "1029a145"
   },
   "source": [
    "We have data that comes from different sources, therefore we have to load it into Spark. However, all of them will have their own structure, so we have to create the respective dataframes."
   ]
  },
  {
   "cell_type": "code",
   "execution_count": 206,
   "id": "b0f34f8c-a213-41ca-aa2d-b3ea4587eb45",
   "metadata": {
    "id": "b0f34f8c-a213-41ca-aa2d-b3ea4587eb45"
   },
   "outputs": [
    {
     "name": "stderr",
     "output_type": "stream",
     "text": [
      "                                                                                \r"
     ]
    }
   ],
   "source": [
    "# Read the Parquet file into a DataFrame\n",
    "programs_Nils = spark.read.parquet(\"parquet/programs.parquet\")\n",
    "programs_Enxhi = spark.read.parquet(\"parquet/masters_ERASMUS.parquet\")\n",
    "scholarships_Enxhi = spark.read.parquet(\"parquet/scholarships_ERASMUS.parquet\")\n",
    "scholarships_Pepe = spark.read.parquet(\"parquet/scholarships&unis.parquet\")\n",
    "scholarships_Nils = spark.read.parquet(\"parquet/scholarships_ministery.parquet\")\n",
    "comments_Enxhi = spark.read.parquet(\"parquet/comments_ERASMUS.parquet\")"
   ]
  },
  {
   "cell_type": "code",
   "execution_count": 207,
   "id": "3263b50d-9365-4644-b311-7adb2b11c25f",
   "metadata": {
    "id": "3263b50d-9365-4644-b311-7adb2b11c25f"
   },
   "outputs": [],
   "source": [
    "programs_Nils = programs_Nils.select(programs_Nils.degree.alias(\"Title\"),\\\n",
    "                                     programs_Nils.university.alias(\"University\"),\\\n",
    "                                     programs_Nils.url.alias(\"URL\"),\\\n",
    "                                     programs_Nils.description.alias(\"Description\"),\\\n",
    "                                     programs_Nils.eligible_score.alias(\"EligibleScore\"),\\\n",
    "                                     programs_Nils.english_lvl.alias(\"EnglishLvl\"),\\\n",
    "                                     programs_Nils.location.alias(\"Location\"),\\\n",
    "                                     programs_Nils.spanish_lvl.alias(\"SpanishLvl\"),\\\n",
    "                                     programs_Nils.type.alias(\"Type\"),\\\n",
    "                                     programs_Nils.duration.alias(\"Duration\"),\\\n",
    "                                     programs_Nils.ap_date.alias(\"ApplicationDate\"),\\\n",
    "                                     programs_Nils.st_date.alias(\"StartingDate\"),\\\n",
    "                                     programs_Nils.prerequisite_bachelor.alias(\"BachelorNeeded\"))\n",
    "\n",
    "programs_Enxhi = programs_Enxhi.select(programs_Enxhi.Title,\\\n",
    "                                       fn.col(\"Program URL\").alias(\"URL\"),\\\n",
    "                                       programs_Enxhi.Location,\\\n",
    "                                       programs_Enxhi.Spanish_Universities.alias(\"University\"),\\\n",
    "                                       fn.col(\"Detailed Description\").alias(\"Description\"),\\\n",
    "                                       programs_Enxhi.Duration_Years.alias(\"Duration\"),\\\n",
    "                                       fn.col(\"Application Date\").alias(\"ApplicationDate\"),\\\n",
    "                                       fn.col(\"Start Date\").alias(\"StartingDate\"),\\\n",
    "                                       programs_Enxhi.Type,\\\n",
    "                                       programs_Enxhi.eligible_score.alias(\"EligibleScore\"),\\\n",
    "                                       programs_Enxhi.eligible_lvl.alias(\"EnglishLvl\"),\\\n",
    "                                       programs_Enxhi.prerequisite_bachelor.alias(\"BachelorNeeded\"),\\\n",
    "                                       programs_Enxhi.spanish_lvl.alias(\"SpanishLvl\"))\n",
    "\n",
    "scholarships_Enxhi = scholarships_Enxhi.select(scholarships_Enxhi.AwardName,\\\n",
    "                                               scholarships_Enxhi.Spanish_Universities.alias(\"University\"),\\\n",
    "                                               scholarships_Enxhi.Description,\\\n",
    "                                               scholarships_Enxhi.Deadline,\\\n",
    "                                               scholarships_Enxhi.Type,\\\n",
    "                                               scholarships_Enxhi.eligible_score.alias(\"EligibleScore\"),\\\n",
    "                                               scholarships_Enxhi.eligible_lvl.alias(\"EnglishLvl\"),\\\n",
    "                                               scholarships_Enxhi.prerequisite_bachelor.alias(\"BachelorNeeded\"),\\\n",
    "                                               scholarships_Enxhi.spanish_lvl.alias(\"SpanishLvl\"),\\\n",
    "                                               scholarships_Enxhi.Duration_Years.alias(\"Duration\"),\\\n",
    "                                               scholarships_Enxhi.Nationality,\\\n",
    "                                               scholarships_Enxhi.Amount,\\\n",
    "                                               scholarships_Enxhi.NumAwards,\\\n",
    "                                               scholarships_Enxhi.MinAge,\\\n",
    "                                               scholarships_Enxhi.MaxAge,\\\n",
    "                                               scholarships_Enxhi.AcademicPerformance)\n",
    "\n",
    "scholarships_Pepe = scholarships_Pepe.select(scholarships_Pepe.AwardName,\\\n",
    "                                             scholarships_Pepe.Description,\\\n",
    "                                             scholarships_Pepe.Deadline,\\\n",
    "                                             scholarships_Pepe.Type,\\\n",
    "                                             scholarships_Pepe.EligibleScore,\\\n",
    "                                             scholarships_Pepe.EnglishLvl,\\\n",
    "                                             scholarships_Pepe.BachelorNeeded,\\\n",
    "                                             scholarships_Pepe.SpanishLvl,\\\n",
    "                                             scholarships_Pepe.Nationality,\\\n",
    "                                             scholarships_Pepe.Amount,\\\n",
    "                                             scholarships_Pepe.NumAwards,\\\n",
    "                                             scholarships_Pepe.MinAge,\\\n",
    "                                             scholarships_Pepe.MaxAge,\\\n",
    "                                             scholarships_Pepe.AcademicPerformance,\\\n",
    "                                             scholarships_Pepe.UID,\\\n",
    "                                             scholarships_Pepe.PID)\n",
    "\n",
    "scholarships_Nils = scholarships_Nils.select(scholarships_Nils.AwardName,\\\n",
    "                                             scholarships_Nils.Description,\\\n",
    "                                             scholarships_Nils.Deadline,\\\n",
    "                                             scholarships_Nils.Type,\\\n",
    "                                             scholarships_Nils.EligibleScore,\\\n",
    "                                             scholarships_Nils.EnglishLvl,\\\n",
    "                                             scholarships_Nils.BachelorNeeded,\\\n",
    "                                             scholarships_Nils.SpanishLvl,\\\n",
    "                                             scholarships_Nils.Nationality,\\\n",
    "                                             scholarships_Nils.Amount,\\\n",
    "                                             scholarships_Nils.NumAwards,\\\n",
    "                                             scholarships_Nils.MinAge,\\\n",
    "                                             scholarships_Nils.MaxAge,\\\n",
    "                                             scholarships_Nils.AcademicPerformance)\n",
    "\n",
    "comments_Enxhi = comments_Enxhi.select(comments_Enxhi.Title,\\\n",
    "                                       comments_Enxhi.Comment_1,\\\n",
    "                                       comments_Enxhi.Comment_2,\\\n",
    "                                       comments_Enxhi.Comment_3,\\\n",
    "                                       comments_Enxhi.Comment_4,\\\n",
    "                                       comments_Enxhi.Comment_5,\\\n",
    "                                       comments_Enxhi.Comment_6,\\\n",
    "                                       comments_Enxhi.Comment_7,\\\n",
    "                                       comments_Enxhi.Comment_8)"
   ]
  },
  {
   "cell_type": "markdown",
   "id": "e512e85f-ef19-419f-918b-8aa93feb0805",
   "metadata": {
    "id": "e512e85f-ef19-419f-918b-8aa93feb0805"
   },
   "source": [
    "## Transform the data"
   ]
  },
  {
   "cell_type": "markdown",
   "id": "5cf3144c-bb40-4b43-9d99-08e4f254fd5d",
   "metadata": {
    "id": "5cf3144c-bb40-4b43-9d99-08e4f254fd5d"
   },
   "source": [
    "### PROGRAMS"
   ]
  },
  {
   "cell_type": "markdown",
   "id": "b809e109",
   "metadata": {
    "id": "b809e109"
   },
   "source": [
    "For the progrms, we have 2 different sources:"
   ]
  },
  {
   "cell_type": "code",
   "execution_count": 208,
   "id": "529a7f7f-53de-43c2-9fd7-4ce816ff5252",
   "metadata": {
    "id": "529a7f7f-53de-43c2-9fd7-4ce816ff5252"
   },
   "outputs": [],
   "source": [
    "# We are only interested in some of the columns for now.\n",
    "programs_Nils = programs_Nils.select(\"Title\",\"Type\",\"University\",\"Description\",\"URL\",\"Duration\", \"Location\",\"ApplicationDate\",\\\n",
    "            \"StartingDate\",\"EligibleScore\",\"EnglishLvl\",\"SpanishLvl\",\"BachelorNeeded\")\n",
    "programs_Enxhi = programs_Enxhi.select(\"Title\",\"Type\",\"University\",\"Description\",\"URL\",\"Duration\", \"Location\",\"ApplicationDate\",\\\n",
    "            \"StartingDate\",\"EligibleScore\",\"EnglishLvl\",\"SpanishLvl\",\"BachelorNeeded\")"
   ]
  },
  {
   "cell_type": "markdown",
   "id": "82402dea",
   "metadata": {
    "id": "82402dea"
   },
   "source": [
    "Hence, the programs we will be considering will be the union of these 2 dataframes:"
   ]
  },
  {
   "cell_type": "code",
   "execution_count": 209,
   "id": "cb58a503-43f0-4249-adde-2b3b3f802bac",
   "metadata": {
    "id": "cb58a503-43f0-4249-adde-2b3b3f802bac"
   },
   "outputs": [],
   "source": [
    "# We can now combine both datasets\n",
    "programs_df = programs_Nils.union(programs_Enxhi)\n",
    "\n",
    "# And create an ID for every row\n",
    "window_spec = Window.partitionBy(fn.lit(1)).orderBy(fn.monotonically_increasing_id())\n",
    "programs_df = programs_df.withColumn(\"ID\", fn.row_number().over(window_spec))"
   ]
  },
  {
   "cell_type": "markdown",
   "id": "b93a2e23",
   "metadata": {
    "id": "b93a2e23"
   },
   "source": [
    "The column that contains the Score needed to be accepted in the program is currently a string, for the future we will convert it to an Integer."
   ]
  },
  {
   "cell_type": "code",
   "execution_count": 210,
   "id": "3429bf9c-94ba-4d55-8251-59d903e043e8",
   "metadata": {
    "id": "3429bf9c-94ba-4d55-8251-59d903e043e8"
   },
   "outputs": [
    {
     "name": "stderr",
     "output_type": "stream",
     "text": [
      "[Stage 604:========>        (1 + 1) / 2][Stage 649:===========>     (2 + 1) / 3]\r"
     ]
    }
   ],
   "source": [
    "# Turn EligibleScore into a Integer\n",
    "programs_df = programs_df.withColumn(\"EligibleScore\", fn.split(fn.col(\"EligibleScore\"), \"/\")[0].cast(\"int\"))"
   ]
  },
  {
   "cell_type": "markdown",
   "id": "7c68af90",
   "metadata": {
    "id": "7c68af90"
   },
   "source": [
    "The columns with the languages criteria is also a string. Let us define an order between the different language levels in the dataset."
   ]
  },
  {
   "cell_type": "code",
   "execution_count": 211,
   "id": "3c1ecb46-459f-4618-b64b-5e0e81eb8b73",
   "metadata": {
    "id": "3c1ecb46-459f-4618-b64b-5e0e81eb8b73"
   },
   "outputs": [],
   "source": [
    "# Define an order for the language levels\n",
    "# First, we fill the null values with 'None'\n",
    "programs_df = programs_df.fillna({'SpanishLvl': 'None'})\n",
    "\n",
    "# Define the order of the language levels\n",
    "order = {\n",
    "    \"None\": 0,\n",
    "    \"A1\": 1,\n",
    "    \"A2\": 2,\n",
    "    \"B1\": 3,\n",
    "    \"B2\": 4,\n",
    "    \"C1\": 5,\n",
    "    \"C2\": 6\n",
    "}\n",
    "\n",
    "# Map the column EnglishLvl\n",
    "programs_df = programs_df.withColumn(\"orderEnglish\", fn.when(fn.col(\"EnglishLvl\") == \"None\", order[\"None\"])\n",
    "                             .when(fn.col(\"EnglishLvl\") == \"A1\", order[\"A1\"])\n",
    "                             .when(fn.col(\"EnglishLvl\") == \"A2\", order[\"A2\"])\n",
    "                             .when(fn.col(\"EnglishLvl\") == \"B1\", order[\"B1\"])\n",
    "                             .when(fn.col(\"EnglishLvl\") == \"B2\", order[\"B2\"])\n",
    "                             .when(fn.col(\"EnglishLvl\") == \"C1\", order[\"C1\"])\n",
    "                             .when(fn.col(\"EnglishLvl\") == \"C2\", order[\"C2\"]))\n",
    "\n",
    "# Map the column SpanishLvl\n",
    "programs_df = programs_df.withColumn(\"orderSpanish\", fn.when(fn.col(\"SpanishLvl\") == \"None\", order[\"None\"])\n",
    "                             .when(fn.col(\"SpanishLvl\") == \"A1\", order[\"A1\"])\n",
    "                             .when(fn.col(\"SpanishLvl\") == \"A2\", order[\"A2\"])\n",
    "                             .when(fn.col(\"SpanishLvl\") == \"B1\", order[\"B1\"])\n",
    "                             .when(fn.col(\"SpanishLvl\") == \"B2\", order[\"B2\"])\n",
    "                             .when(fn.col(\"SpanishLvl\") == \"C1\", order[\"C1\"])\n",
    "                             .when(fn.col(\"SpanishLvl\") == \"C2\", order[\"C2\"]))"
   ]
  },
  {
   "cell_type": "markdown",
   "id": "53aeb3a4",
   "metadata": {
    "id": "53aeb3a4"
   },
   "source": [
    "The programs' dataset contains a column with the university to which the program belongs and the location of the country it is in. Since the universities repeat every now and then, we can create a dataframe with the information for each university."
   ]
  },
  {
   "cell_type": "code",
   "execution_count": 212,
   "id": "696a4d5f-462f-49a9-be50-f40a13bdb6ee",
   "metadata": {
    "id": "696a4d5f-462f-49a9-be50-f40a13bdb6ee"
   },
   "outputs": [],
   "source": [
    "# Create a df for the universities\n",
    "universities_df = programs_df.select(\"University\",\"Location\").distinct()\n",
    "# Assign an ID to each of them\n",
    "window_spec = Window.partitionBy(fn.lit(1)).orderBy(fn.monotonically_increasing_id())\n",
    "universities_df = universities_df.withColumn(\"uni_ID\", fn.row_number().over(window_spec))"
   ]
  },
  {
   "cell_type": "markdown",
   "id": "a4750ecd-3b4a-4013-860f-fda5773a82dc",
   "metadata": {
    "id": "a4750ecd-3b4a-4013-860f-fda5773a82dc"
   },
   "source": [
    "Once created a dataframe for universities with its own ID, we can drop the university from the programs' dataframe and leave just a foreign key to the universities' dataframe."
   ]
  },
  {
   "cell_type": "code",
   "execution_count": 213,
   "id": "0442bda9-d5bf-4527-8bcb-fc3b5d945e7c",
   "metadata": {
    "id": "0442bda9-d5bf-4527-8bcb-fc3b5d945e7c"
   },
   "outputs": [],
   "source": [
    "# Join both datasets\n",
    "joined_df = programs_df.join(universities_df, programs_df.University == universities_df.University, 'left')\n",
    "joined_df = joined_df.select(\"ID\",\"Title\",\"Type\",\"uni_ID\",\"Description\",\"URL\",\"Duration\",\"ApplicationDate\",\\\n",
    "            \"StartingDate\",\"EligibleScore\",\"EnglishLvl\",\"SpanishLvl\",\"BachelorNeeded\")"
   ]
  },
  {
   "cell_type": "markdown",
   "id": "364cabbf-20a3-4b63-a380-bf2ad2351275",
   "metadata": {
    "id": "364cabbf-20a3-4b63-a380-bf2ad2351275"
   },
   "source": [
    "### SCHOLARSHIPS"
   ]
  },
  {
   "cell_type": "markdown",
   "id": "1430d17b",
   "metadata": {
    "id": "1430d17b"
   },
   "source": [
    "The scholarships come from two different sources, the first one (scholarships_Enxhi) will contain the Erasmus Mundus grants and the other one (scholarships_Pepe) contains any other grant."
   ]
  },
  {
   "cell_type": "code",
   "execution_count": 214,
   "id": "0e7a6856-0e0d-4cc9-91eb-17f695d92245",
   "metadata": {
    "id": "0e7a6856-0e0d-4cc9-91eb-17f695d92245"
   },
   "outputs": [],
   "source": [
    "# We are only interested in some of the columns for now.\n",
    "scholarships1 = scholarships_Enxhi.select(\"AwardName\",\"Description\",\"Nationality\",\\\n",
    "            \"Amount\",\"NumAwards\", \"Deadline\",\"EligibleScore\",\"EnglishLvl\",\"SpanishLvl\",\\\n",
    "            \"BachelorNeeded\",\"MinAge\",\"MaxAge\",\"AcademicPerformance\",\"Type\")\n",
    "scholarships2 = scholarships_Pepe.select(\"AwardName\",\"Description\",\"Nationality\",\\\n",
    "            \"Amount\",\"NumAwards\", \"Deadline\",\"EligibleScore\",\"EnglishLvl\",\"SpanishLvl\",\\\n",
    "            \"BachelorNeeded\",\"MinAge\",\"MaxAge\",\"AcademicPerformance\",\"Type\")\n",
    "scholarships3 = scholarships_Nils.select(\"AwardName\",\"Description\",\"Nationality\",\\\n",
    "            \"Amount\",\"NumAwards\", \"Deadline\",\"EligibleScore\",\"EnglishLvl\",\"SpanishLvl\",\\\n",
    "            \"BachelorNeeded\",\"MinAge\",\"MaxAge\",\"AcademicPerformance\",\"Type\")"
   ]
  },
  {
   "cell_type": "markdown",
   "id": "66d03c5e",
   "metadata": {
    "id": "66d03c5e"
   },
   "source": [
    "Hence, the scholarships from our dataset will be the union of these 2 datasets."
   ]
  },
  {
   "cell_type": "code",
   "execution_count": 215,
   "id": "71ed0fd8",
   "metadata": {
    "id": "71ed0fd8"
   },
   "outputs": [],
   "source": [
    "# We can now combine both datasets\n",
    "scholarships_df = scholarships1.union(scholarships2).union(scholarships3)\n",
    "\n",
    "# And create an ID for every row\n",
    "window_spec = Window.partitionBy(fn.lit(1)).orderBy(fn.monotonically_increasing_id())\n",
    "scholarships_df = scholarships_df.withColumn(\"ID\", fn.row_number().over(window_spec))"
   ]
  },
  {
   "cell_type": "markdown",
   "id": "63dbbf80-781d-46e0-a3e8-e953fd7e3ac1",
   "metadata": {
    "id": "63dbbf80-781d-46e0-a3e8-e953fd7e3ac1"
   },
   "source": [
    "As before, let us turn the EligibleScore column into an Integer"
   ]
  },
  {
   "cell_type": "code",
   "execution_count": 216,
   "id": "cf5a8d3e-85cc-4e5e-a0d6-af1b6f0924fe",
   "metadata": {
    "id": "cf5a8d3e-85cc-4e5e-a0d6-af1b6f0924fe"
   },
   "outputs": [],
   "source": [
    "# Turn EligibleScore into an Integer\n",
    "scholarships_df = scholarships_df.withColumn(\"EligibleScore\", fn.split(fn.col(\"EligibleScore\"), \"/\")[0].cast(\"int\"))"
   ]
  },
  {
   "cell_type": "markdown",
   "id": "693693e6",
   "metadata": {
    "id": "693693e6"
   },
   "source": [
    "Analogously as previosly, let us define an order among the language levels required."
   ]
  },
  {
   "cell_type": "code",
   "execution_count": 217,
   "id": "ffe32385",
   "metadata": {
    "id": "ffe32385"
   },
   "outputs": [],
   "source": [
    "# Define an order for the language levels\n",
    "# First, we fill the null values with 'None'\n",
    "scholarships_df = scholarships_df.fillna({'SpanishLvl': 'None'})\n",
    "scholarships_df = scholarships_df.fillna({'EnglishLvl': 'None'})\n",
    "\n",
    "# Define the order of the language levels\n",
    "order = {\n",
    "    \"None\": 0,\n",
    "    \"A1\": 1,\n",
    "    \"A2\": 2,\n",
    "    \"B1\": 3,\n",
    "    \"B2\": 4,\n",
    "    \"C1\": 5,\n",
    "    \"C2\": 6\n",
    "}\n",
    "\n",
    "# Map the column EnglishLvl\n",
    "scholarships_df = scholarships_df.withColumn(\"orderEnglish\", fn.when(fn.col(\"EnglishLvl\") == \"None\", order[\"None\"])\n",
    "                             .when(fn.col(\"EnglishLvl\") == \"A1\", order[\"A1\"])\n",
    "                             .when(fn.col(\"EnglishLvl\") == \"A2\", order[\"A2\"])\n",
    "                             .when(fn.col(\"EnglishLvl\") == \"B1\", order[\"B1\"])\n",
    "                             .when(fn.col(\"EnglishLvl\") == \"B2\", order[\"B2\"])\n",
    "                             .when(fn.col(\"EnglishLvl\") == \"C1\", order[\"C1\"])\n",
    "                             .when(fn.col(\"EnglishLvl\") == \"C2\", order[\"C2\"]))\n",
    "\n",
    "# Map the column SpanishLvl\n",
    "scholarships_df = scholarships_df.withColumn(\"orderSpanish\", fn.when(fn.col(\"SpanishLvl\") == \"None\", order[\"None\"])\n",
    "                             .when(fn.col(\"SpanishLvl\") == \"A1\", order[\"A1\"])\n",
    "                             .when(fn.col(\"SpanishLvl\") == \"A2\", order[\"A2\"])\n",
    "                             .when(fn.col(\"SpanishLvl\") == \"B1\", order[\"B1\"])\n",
    "                             .when(fn.col(\"SpanishLvl\") == \"B2\", order[\"B2\"])\n",
    "                             .when(fn.col(\"SpanishLvl\") == \"C1\", order[\"C1\"])\n",
    "                             .when(fn.col(\"SpanishLvl\") == \"C2\", order[\"C2\"]))"
   ]
  },
  {
   "cell_type": "markdown",
   "id": "503ec3e3",
   "metadata": {
    "id": "503ec3e3"
   },
   "source": [
    "### Connection between PROGRAMS and SCHOLARSHIPS"
   ]
  },
  {
   "cell_type": "markdown",
   "id": "04f39e32",
   "metadata": {
    "id": "04f39e32"
   },
   "source": [
    "We have to define the relations between scholarships and the programs that they are eligible for. First we will work with the dataset of Erasmus Mundus grants:"
   ]
  },
  {
   "cell_type": "code",
   "execution_count": 218,
   "id": "0910921d-41ba-460a-a71c-7f28fb655f5b",
   "metadata": {
    "id": "0910921d-41ba-460a-a71c-7f28fb655f5b"
   },
   "outputs": [],
   "source": [
    "# Filter the Erasmus Mundus grants\n",
    "erasmus_mundus = scholarships_df.filter(scholarships_df['Type'] == \"Erasmus Mundus\")\n",
    "\n",
    "# Assign a foreign key to the program it is eligible for\n",
    "program_fk = programs_df.select(programs_df.ID.alias(\"program_fk\"),\"Title\")\n",
    "sch_pr_1 = erasmus_mundus.join(program_fk, erasmus_mundus.AwardName == program_fk.Title, 'left')\n",
    "sch_pr_1 = sch_pr_1.select(\"ID\",\"program_fk\")"
   ]
  },
  {
   "cell_type": "markdown",
   "id": "0a2bb153-c537-4263-bab7-018928f102e9",
   "metadata": {
    "id": "0a2bb153-c537-4263-bab7-018928f102e9"
   },
   "source": [
    "Let us now do the same for the ministery grants:"
   ]
  },
  {
   "cell_type": "code",
   "execution_count": 219,
   "id": "8505a072-d0c5-4212-b733-1bc59b5e0f85",
   "metadata": {
    "id": "8505a072-d0c5-4212-b733-1bc59b5e0f85"
   },
   "outputs": [],
   "source": [
    "# Filter the ministery grants and the programs\n",
    "min_sch = scholarships_df.filter(scholarships_df['Type'] == \"Ministery\")\n",
    "min_sch = min_sch.select(\"ID\")\n",
    "\n",
    "# Join them to every program\n",
    "min_sch = min_sch.crossJoin(program_fk.select(\"program_fk\"))"
   ]
  },
  {
   "cell_type": "markdown",
   "id": "98e263aa-5744-453a-a7de-377994e4d7cd",
   "metadata": {
    "id": "98e263aa-5744-453a-a7de-377994e4d7cd"
   },
   "source": [
    "There are also scholarships centered in either Bachelor's or Master's programs:"
   ]
  },
  {
   "cell_type": "code",
   "execution_count": 220,
   "id": "60e1a2c8-2ead-466e-bb20-503df74a0dae",
   "metadata": {
    "id": "60e1a2c8-2ead-466e-bb20-503df74a0dae"
   },
   "outputs": [],
   "source": [
    "# Filter the scholarships for bachelor and master:\n",
    "bach_sch = scholarships_df.filter(scholarships_df['Type'] == \"Bachelor\")\n",
    "mas_sch = scholarships_df.filter(scholarships_df['Type'] == \"Master\")\n",
    "\n",
    "bach_sch = bach_sch.select(\"ID\")\n",
    "mas_sch = mas_sch.select(\"ID\")\n",
    "\n",
    "# Filter the programs on bachelors and master\n",
    "bach_pr = programs_df.filter(programs_df['Type'] == \"Bachelor\").select(programs_df.ID.alias(\"program_fk\"))\n",
    "mas_pr = programs_df.filter(programs_df['Type'] == \"Master\").select(programs_df.ID.alias(\"program_fk\"))\n",
    "\n",
    "# Cross the IDs\n",
    "sch_pr_bach = bach_sch.crossJoin(bach_pr)\n",
    "sch_pr_mas = mas_sch.crossJoin(mas_pr)\n",
    "\n",
    "# Union both dataframes\n",
    "sch_pr_3 = sch_pr_bach.union(sch_pr_mas)"
   ]
  },
  {
   "cell_type": "markdown",
   "id": "926be1cc-32ab-49d9-a7ae-bafdf4191c38",
   "metadata": {
    "id": "926be1cc-32ab-49d9-a7ae-bafdf4191c38"
   },
   "source": [
    "Finally, we have the rest of the scholarships in the other dataset. The dataframe with all the information will be the following:"
   ]
  },
  {
   "cell_type": "code",
   "execution_count": 221,
   "id": "99418780-b056-4ffd-a0ad-efe22ec158fa",
   "metadata": {
    "id": "99418780-b056-4ffd-a0ad-efe22ec158fa"
   },
   "outputs": [],
   "source": [
    "other_sch = scholarships_df.filter(scholarships_df['Type'] == \"Other\")\n",
    "other_sch = other_sch.select(\"ID\",\"AwardName\")\n",
    "\n",
    "other_sch = other_sch.join(scholarships_Pepe, other_sch.AwardName == scholarships_Pepe.AwardName, 'left')\n",
    "other_sch = other_sch.select(\"ID\",\"PID\")"
   ]
  },
  {
   "cell_type": "markdown",
   "id": "eb99930c-0b2a-44a8-9f26-b97e3a9bf0a2",
   "metadata": {
    "id": "eb99930c-0b2a-44a8-9f26-b97e3a9bf0a2"
   },
   "source": [
    "However, now we have to assign each of the ID's to each of the programs ID's that appear in the list."
   ]
  },
  {
   "cell_type": "code",
   "execution_count": 222,
   "id": "60a86cbb-8f46-45e0-a276-d02b8e4c7229",
   "metadata": {
    "id": "60a86cbb-8f46-45e0-a276-d02b8e4c7229"
   },
   "outputs": [],
   "source": [
    "# Turn the column PID into an array\n",
    "other_sch = other_sch.withColumn(\"PID\", fn.split(other_sch[\"PID\"], \",\"))\n",
    "# Explode the array column to create a new row for each ID\n",
    "other_sch = other_sch.withColumn(\"PID_single\", fn.explode(other_sch[\"PID\"]))\n",
    "\n",
    "sch_pr_2 = other_sch.select(\"ID\",other_sch.PID_single.alias(\"program_fk\"))"
   ]
  },
  {
   "cell_type": "markdown",
   "id": "79e1eb84-fabc-4362-b3d7-3a73bdf8b3d7",
   "metadata": {
    "id": "79e1eb84-fabc-4362-b3d7-3a73bdf8b3d7"
   },
   "source": [
    "Then, the connection between scholarships and programs will be the union of these 2 dataframes."
   ]
  },
  {
   "cell_type": "code",
   "execution_count": 223,
   "id": "16e66078-1351-4092-b32d-97cf23650ac6",
   "metadata": {
    "id": "16e66078-1351-4092-b32d-97cf23650ac6"
   },
   "outputs": [],
   "source": [
    "sch_pr = sch_pr_1.union(sch_pr_2).union(sch_pr_3).union(min_sch)"
   ]
  },
  {
   "cell_type": "markdown",
   "id": "3e1261d5-428d-44db-8b56-b18077c8e9ec",
   "metadata": {
    "id": "3e1261d5-428d-44db-8b56-b18077c8e9ec"
   },
   "source": [
    "### Reviews"
   ]
  },
  {
   "cell_type": "markdown",
   "id": "8246a5e7-fe42-4df9-a98a-cefdc1a8f867",
   "metadata": {
    "id": "8246a5e7-fe42-4df9-a98a-cefdc1a8f867"
   },
   "source": [
    "In this section, we will generate random reviews. First, let us define the generator:"
   ]
  },
  {
   "cell_type": "code",
   "execution_count": 224,
   "id": "e2df7d0c-9ca0-46a0-8f9e-9c1bcaaf5e01",
   "metadata": {
    "id": "e2df7d0c-9ca0-46a0-8f9e-9c1bcaaf5e01"
   },
   "outputs": [],
   "source": [
    "from faker import Faker\n",
    "from faker.providers import BaseProvider\n",
    "\n",
    "class UniversityProgramReviewProvider(BaseProvider):\n",
    "    def university_program_review(self):\n",
    "        commentDB = pd.read_csv(\"comments_df.csv\", sep='=')\n",
    "        reviews = commentDB['comment'].tolist()\n",
    "\n",
    "        review = self.random_element(reviews)\n",
    "\n",
    "        return review\n",
    "\n",
    "fake = Faker()\n",
    "fake.add_provider(UniversityProgramReviewProvider)"
   ]
  },
  {
   "cell_type": "markdown",
   "id": "aef5dcc4-e9ad-4c92-a8d2-a4d98772273e",
   "metadata": {
    "id": "aef5dcc4-e9ad-4c92-a8d2-a4d98772273e"
   },
   "source": [
    "Subsequently, we can create the dataframe."
   ]
  },
  {
   "cell_type": "code",
   "execution_count": 225,
   "id": "c022075c-10a4-4589-a367-1f7326d33017",
   "metadata": {
    "id": "c022075c-10a4-4589-a367-1f7326d33017"
   },
   "outputs": [],
   "source": [
    "reviews = programs_df.select(programs_df.ID.alias(\"program_ID\"), 'Title')\n",
    "# Generate a random number of reviews per program\n",
    "reviews = reviews.withColumn('num_reviews',fn.floor(fn.rand() * (15 - 3 + 1) + 5))\n",
    "\n",
    "# Define the comment and date generator\n",
    "def generate_comments(num_comments):\n",
    "    return [fake.university_program_review() for _ in range(num_comments)]\n",
    "def generate_date():\n",
    "    return fake.date_this_year()\n",
    "\n",
    "# Register the UDF\n",
    "generate_comments_udf = fn.udf(generate_comments, ArrayType(StringType()))\n",
    "generate_date_udf = fn.udf(generate_date, DateType())\n",
    "\n",
    "# Add the \"comments\" column using the UDF\n",
    "reviews = reviews.withColumn('comments', generate_comments_udf(reviews['num_reviews']))\n",
    "# reviews.show()\n",
    "\n",
    "# Explode the array column to create a new row for each comment\n",
    "reviews = reviews.withColumn(\"comment\", fn.explode(reviews['comments']))\n",
    "\n",
    "# Generate a random date for every comment\n",
    "reviews = reviews.withColumn(\"date\", generate_date_udf())\n",
    "\n",
    "# Get the columns we will use\n",
    "reviews = reviews.select(reviews.program_ID.alias(\"program_fk\"),\"date\",\"comment\")"
   ]
  },
  {
   "cell_type": "markdown",
   "id": "72f15762-ebee-46dc-b8fb-b9ee003845e8",
   "metadata": {
    "id": "72f15762-ebee-46dc-b8fb-b9ee003845e8"
   },
   "source": [
    "Let's add also some comments scrapped by Enxhi:"
   ]
  },
  {
   "cell_type": "code",
   "execution_count": 226,
   "id": "e37cd621-1411-4671-b7c0-be3ed3bca866",
   "metadata": {
    "id": "e37cd621-1411-4671-b7c0-be3ed3bca866"
   },
   "outputs": [],
   "source": [
    "# Turn the column comment into an array\n",
    "comments_Enxhi = comments_Enxhi.withColumn(\"Array\", fn.array(\"Comment_1\",\"Comment_2\",\"Comment_3\",\"Comment_4\", \\\n",
    "                                                            \"Comment_5\",\"Comment_6\",\"Comment_7\",\"Comment_8\"))\n",
    "\n",
    "# Explode the array column to create a new row for each comment\n",
    "comments_Enxhi = comments_Enxhi.withColumn(\"comment\", fn.explode(comments_Enxhi[\"Array\"]))\n",
    "\n",
    "# Drop the rows with NULL values\n",
    "comments_Enxhi = comments_Enxhi.dropna(subset=[\"comment\"])\n",
    "\n",
    "# Generate a random date for every comment\n",
    "comments_Enxhi = comments_Enxhi.withColumn(\"date\", generate_date_udf())\n",
    "\n",
    "# Add the program_ID to which the comment refers\n",
    "comments_Enxhi = comments_Enxhi.join(program_fk, comments_Enxhi.Title == program_fk.Title, 'left')\n",
    "\n",
    "# Filter the columns we will use\n",
    "comments_Enxhi = comments_Enxhi.select(\"program_fk\",\"date\",\"comment\")"
   ]
  },
  {
   "cell_type": "markdown",
   "id": "39535e53-3966-4dfa-9169-e97f82559251",
   "metadata": {
    "id": "39535e53-3966-4dfa-9169-e97f82559251"
   },
   "source": [
    "Now let's union both datasets and add an ID:"
   ]
  },
  {
   "cell_type": "code",
   "execution_count": 227,
   "id": "12ce51a2-39e9-44f8-814e-0c8ad7c2a8c4",
   "metadata": {
    "id": "12ce51a2-39e9-44f8-814e-0c8ad7c2a8c4"
   },
   "outputs": [],
   "source": [
    "reviews = reviews.union(comments_Enxhi)\n",
    "\n",
    "# Add an ID for every row\n",
    "window_spec = Window.partitionBy(fn.lit(1)).orderBy(fn.monotonically_increasing_id())\n",
    "reviews = reviews.withColumn(\"ID\", fn.row_number().over(window_spec))\n",
    "reviews = reviews.select(\"ID\", \"program_fk\", \"date\", \"comment\")"
   ]
  },
  {
   "cell_type": "markdown",
   "id": "4037b9c9-ddca-447f-ba01-d669e927fa81",
   "metadata": {
    "id": "4037b9c9-ddca-447f-ba01-d669e927fa81"
   },
   "source": [
    "### Users"
   ]
  },
  {
   "cell_type": "markdown",
   "id": "f0ec08d0-e13d-470e-a447-33d13a559701",
   "metadata": {
    "id": "f0ec08d0-e13d-470e-a447-33d13a559701"
   },
   "source": [
    "In this section, we will generate users based on the reviews made. For now, we will have one user for every review in the sistem."
   ]
  },
  {
   "cell_type": "code",
   "execution_count": 228,
   "id": "10b1ec4a-1597-4c24-ab56-876495a81534",
   "metadata": {
    "id": "10b1ec4a-1597-4c24-ab56-876495a81534",
    "outputId": "87087f57-b3f1-414d-c83c-6372c57bcaad"
   },
   "outputs": [],
   "source": [
    "# Create the dataframe with the number of users\n",
    "users = reviews.select(\"ID\", \"date\")\n",
    "\n",
    "# Define the name and email generator\n",
    "def generate_name():\n",
    "    return fake.name()\n",
    "def generate_email(name):\n",
    "    return f'{name.replace(\" \", \".\").lower()}@{fake.domain_name()}'\n",
    "# UDF to generate random date within the current year\n",
    "def generate_register_date(max_date):\n",
    "    current_year = datetime.datetime.now().year\n",
    "    start_date = datetime.date(current_year, 1, 1)\n",
    "    end_date = max_date\n",
    "    # Generate a date in the range given\n",
    "    random_date = fake.date_between(start_date=start_date, end_date=end_date)\n",
    "    return random_date\n",
    "\n",
    "# Register the UDF\n",
    "generate_name_udf = fn.udf(generate_name, StringType())\n",
    "generate_email_udf = fn.udf(generate_email, StringType())\n",
    "generate_register_date_udf = fn.udf(generate_register_date, DateType())\n",
    "\n",
    "# Generate a random name column using the UDF\n",
    "users = users.withColumn('name', generate_name_udf())\n",
    "\n",
    "# Generate a random email for every comment\n",
    "users = users.withColumn(\"email\", generate_email_udf(fn.col(\"name\")))\n",
    "\n",
    "# Generate a random register date\n",
    "users = users.withColumn(\"register_date\", generate_register_date_udf(fn.col(\"date\")))\n",
    "\n",
    "# Colect the columns we are interested in\n",
    "users = users.select(users.ID.alias(\"comment_fk\"),\"name\",\"email\",\"register_date\")\n",
    "\n",
    "# Add an ID for every row\n",
    "window_spec = Window.partitionBy(fn.lit(1)).orderBy(fn.monotonically_increasing_id())\n",
    "users = users.withColumn(\"ID\", fn.row_number().over(window_spec))"
   ]
  },
  {
   "cell_type": "markdown",
   "id": "c7f83118-7b97-4c12-9b03-325466319c52",
   "metadata": {
    "id": "c7f83118-7b97-4c12-9b03-325466319c52"
   },
   "source": [
    "## Predictive analysis on the reviews"
   ]
  },
  {
   "cell_type": "markdown",
   "id": "fb9b51ce-906e-4fc5-a621-2e0bd3f5d415",
   "metadata": {
    "id": "fb9b51ce-906e-4fc5-a621-2e0bd3f5d415"
   },
   "source": [
    "### Positive/negative comments"
   ]
  },
  {
   "cell_type": "markdown",
   "id": "f5df570d-18ce-4aab-bfb6-7317ac1c73e8",
   "metadata": {
    "id": "f5df570d-18ce-4aab-bfb6-7317ac1c73e8"
   },
   "source": [
    "In this section, we will classify the reviews as good or bad experiences with the program. In order to do this, we will we will use sentence embeddings to capture the semantic meaning of a review and then apply a similarity measure to classify them.\n",
    "First of all, let's load the sentence embedding model:"
   ]
  },
  {
   "cell_type": "code",
   "execution_count": 104,
   "id": "ca3be223-1671-4386-8ba2-14a2a9915b8b",
   "metadata": {
    "colab": {
     "base_uri": "https://localhost:8080/"
    },
    "id": "ca3be223-1671-4386-8ba2-14a2a9915b8b",
    "outputId": "b5430d67-1f2a-4a1e-d2ab-82e80789325e"
   },
   "outputs": [
    {
     "name": "stderr",
     "output_type": "stream",
     "text": [
      "/home/nilsvanesostos/.local/lib/python3.10/site-packages/tqdm/auto.py:21: TqdmWarning: IProgress not found. Please update jupyter and ipywidgets. See https://ipywidgets.readthedocs.io/en/stable/user_install.html\n",
      "  from .autonotebook import tqdm as notebook_tqdm\n",
      "/home/nilsvanesostos/.local/lib/python3.10/site-packages/huggingface_hub/file_download.py:1132: FutureWarning: `resume_download` is deprecated and will be removed in version 1.0.0. Downloads always resume when possible. If you want to force a new download, use `force_download=True`.\n",
      "  warnings.warn(\n"
     ]
    }
   ],
   "source": [
    "from sentence_transformers import SentenceTransformer\n",
    "\n",
    "# Load pre-trained model\n",
    "model = SentenceTransformer('all-MiniLM-L6-v2')"
   ]
  },
  {
   "cell_type": "markdown",
   "id": "61146a65-97d2-474f-bc3e-e0301c4e0116",
   "metadata": {
    "id": "61146a65-97d2-474f-bc3e-e0301c4e0116"
   },
   "source": [
    "Define a UDF to extract the embeddings:"
   ]
  },
  {
   "cell_type": "code",
   "execution_count": null,
   "id": "df2d96a7-d875-4f6e-aa7c-92e87d3b37ed",
   "metadata": {
    "id": "df2d96a7-d875-4f6e-aa7c-92e87d3b37ed"
   },
   "outputs": [],
   "source": [
    "import numpy as np\n",
    "\n",
    "# Define a UDF to convert sentences to embeddings\n",
    "def embed_sentence(sentence):\n",
    "    embedding = model.encode(sentence)\n",
    "    return embedding.tolist()\n",
    "\n",
    "embed_sentence_udf = fn.udf(embed_sentence, ArrayType(FloatType()))\n",
    "\n",
    "# We will be using the following comments\n",
    "df = reviews.select(\"comment\").distinct()\n",
    "\n",
    "# Apply the UDF to create a new column with embeddings\n",
    "df = df.withColumn(\"embedding\", embed_sentence_udf(df[\"comment\"]))"
   ]
  },
  {
   "cell_type": "markdown",
   "id": "1cf7020c-7e37-466e-8026-612b5bdb5023",
   "metadata": {
    "id": "1cf7020c-7e37-466e-8026-612b5bdb5023"
   },
   "source": [
    "Calculate the similarity of the comments:"
   ]
  },
  {
   "cell_type": "code",
   "execution_count": null,
   "id": "f4d8634a-dbeb-492c-a63c-65321d14700b",
   "metadata": {
    "id": "f4d8634a-dbeb-492c-a63c-65321d14700b"
   },
   "outputs": [],
   "source": [
    "good_comments = [\"This product is great!\", \"Excellent!\", \"I love this.\"]\n",
    "bad_comments = [\"I hate this item.\", \"Terrible.\", \"Not good.\"]\n",
    "\n",
    "# Calculate embeddings for good and bad comments\n",
    "good_embeddings = np.array([model.encode(comment) for comment in good_comments])\n",
    "bad_embeddings = np.array([model.encode(comment) for comment in bad_comments])\n",
    "\n",
    "# Calculate the average embedding for good and bad comments\n",
    "avg_good_embedding = np.mean(good_embeddings, axis=0)\n",
    "avg_bad_embedding = np.mean(bad_embeddings, axis=0)"
   ]
  },
  {
   "cell_type": "markdown",
   "id": "4796642a-975c-41c5-a544-adc0aa6cb061",
   "metadata": {
    "id": "4796642a-975c-41c5-a544-adc0aa6cb061"
   },
   "source": [
    "Define a UDF that classifies the comments into good or bad comments based on the similarity:"
   ]
  },
  {
   "cell_type": "code",
   "execution_count": null,
   "id": "1573eb3c-dbed-4f7f-a5ce-a80e17d2b8bb",
   "metadata": {
    "id": "1573eb3c-dbed-4f7f-a5ce-a80e17d2b8bb"
   },
   "outputs": [],
   "source": [
    "from scipy.spatial.distance import cosine\n",
    "\n",
    "def classify_comment(embedding):\n",
    "    good_sim = 1 - cosine(embedding, avg_good_embedding)\n",
    "    bad_sim = 1 - cosine(embedding, avg_bad_embedding)\n",
    "\n",
    "    if good_sim > bad_sim:\n",
    "        return [\"good\",str(good_sim),str(bad_sim)]\n",
    "    else:\n",
    "        return [\"bad\",str(good_sim),str(bad_sim)]\n",
    "\n",
    "classify_comment_udf = fn.udf(classify_comment, ArrayType(StringType()))\n",
    "\n",
    "# Apply the UDF to classify comments\n",
    "df = df.withColumn(\"classification\", classify_comment_udf(df[\"embedding\"]))"
   ]
  },
  {
   "cell_type": "code",
   "execution_count": null,
   "id": "b2e94c01-e610-48e0-85cb-f43c45f64cf8",
   "metadata": {
    "colab": {
     "base_uri": "https://localhost:8080/"
    },
    "id": "b2e94c01-e610-48e0-85cb-f43c45f64cf8",
    "outputId": "4e5df69e-4e9e-4fc0-fae4-8fcb6b8f33da"
   },
   "outputs": [
    {
     "name": "stdout",
     "output_type": "stream",
     "text": [
      "+--------------------+----------+------------+------------+\n",
      "|             comment|prediction|    good_sim|     bad_sim|\n",
      "+--------------------+----------+------------+------------+\n",
      "|Communication fro...|      good|  0.13901278|  0.11705129|\n",
      "|The curriculum wa...|      good| 0.011831992| 0.008354577|\n",
      "|Internship opport...|       bad| 0.017751738|   0.1227179|\n",
      "|The faculty were ...|      good| 0.088462695|0.0015573871|\n",
      "|The campus enviro...|       bad|-0.004088284| 0.053471178|\n",
      "|Career services a...|      good| 0.044052273| -0.06112507|\n",
      "|The program's emp...|      good|  0.10806196| 0.020436887|\n",
      "|The program provi...|      good|  0.16384432|   0.1028979|\n",
      "|The balance betwe...|      good|  0.23738039|  0.11627041|\n",
      "|Some of the cours...|       bad| 0.040760186|  0.15326233|\n",
      "|The program provi...|      good|  0.15691768| 0.031590585|\n",
      "|Administrative st...|       bad| -0.02483379|  0.19224489|\n",
      "|The curriculum wa...|       bad|-0.017305221|  0.15942295|\n",
      "|There is little t...|       bad|  0.02711295| 0.108032696|\n",
      "|I felt that some ...|       bad|   0.0325614|  0.13095379|\n",
      "|I appreciated the...|      good|  0.14769338|  0.04510718|\n",
      "|The program's foc...|      good|  0.11111827| 0.023047162|\n",
      "|I was impressed b...|      good|  0.21211287| 0.089485176|\n",
      "|The collaborative...|      good|  0.17591473|-0.023087442|\n",
      "|The faculty's ded...|      good|  0.13913128|  0.03896307|\n",
      "+--------------------+----------+------------+------------+\n",
      "only showing top 20 rows\n",
      "\n"
     ]
    }
   ],
   "source": [
    "# Turn the classifier into three different columns\n",
    "df = df.withColumn(\"prediction\", fn.col(\"classification\").getItem(0))\n",
    "df = df.withColumn(\"good_sim\", fn.col(\"classification\").getItem(1))\n",
    "df = df.withColumn(\"bad_sim\", fn.col(\"classification\").getItem(2))\n",
    "df = df.drop(\"classification\")\n",
    "\n",
    "# Convert the good_sim and bad_sim into FloatType columns\n",
    "df = df.withColumn(\"good_sim_float\", fn.col(\"good_sim\").cast(\"float\")).drop(\"good_sim\")\n",
    "df = df.withColumn(\"bad_sim_float\", fn.col(\"bad_sim\").cast(\"float\")).drop(\"bad_sim\")\n",
    "df = df.select(\"comment\",\"prediction\",df.good_sim_float.alias(\"good_sim\"),df.bad_sim_float.alias(\"bad_sim\"))\n",
    "\n",
    "df.show()"
   ]
  },
  {
   "cell_type": "code",
   "execution_count": null,
   "id": "GPNgBjZHbuCA",
   "metadata": {
    "colab": {
     "base_uri": "https://localhost:8080/",
     "height": 573
    },
    "id": "GPNgBjZHbuCA",
    "outputId": "305afc63-a33c-4ba2-ebcf-f7706aeec450"
   },
   "outputs": [
    {
     "data": {
      "image/png": "[encoded data removed]",
      "text/plain": [
       "<Figure size 1000x600 with 1 Axes>"
      ]
     },
     "metadata": {},
     "output_type": "display_data"
    }
   ],
   "source": [
    "import matplotlib.pyplot as plt\n",
    "import seaborn as sns\n",
    "\n",
    "# Convert to Pandas Dataframe\n",
    "df_plot = df.toPandas()\n",
    "\n",
    "# Set style for the plot\n",
    "sns.set(style=\"whitegrid\")\n",
    "\n",
    "# Create the scatter plot\n",
    "plt.figure(figsize=(10, 6))\n",
    "sns.scatterplot(data=df_plot, x=\"good_sim\", y=\"bad_sim\", hue=\"prediction\", palette=\"viridis\", s=100)\n",
    "\n",
    "# Set plot labels and title\n",
    "plt.title(\"Good Similarity vs Bad Similarity by Classification\")\n",
    "plt.xlabel(\"Good Similarity\")\n",
    "plt.ylabel(\"Bad Similarity\")\n",
    "\n",
    "# Show the plot\n",
    "plt.show()"
   ]
  },
  {
   "cell_type": "markdown",
   "id": "8e7d403b-b198-403b-8ae1-073f06dc3b24",
   "metadata": {
    "id": "8e7d403b-b198-403b-8ae1-073f06dc3b24"
   },
   "source": [
    "Finally, let us save the results in a file."
   ]
  },
  {
   "cell_type": "code",
   "execution_count": null,
   "id": "cnRtXKoQYadL",
   "metadata": {
    "id": "cnRtXKoQYadL"
   },
   "outputs": [],
   "source": [
    "df.write.csv(\"/content/predictions.csv\", header=True)"
   ]
  },
  {
   "cell_type": "markdown",
   "id": "93db78b8-84c6-4771-81d9-aa74f327fd9f",
   "metadata": {},
   "source": [
    "### Recall the accuracy of the binary classifier"
   ]
  },
  {
   "cell_type": "markdown",
   "id": "718fc293-f02e-4972-ae91-3aab34039c0e",
   "metadata": {},
   "source": [
    "Since some data used was generated randomly, we have label for a big part of the comment's dataframe. We will compute the accuracy as the division between the correct prediction and the total amount of comments labelled."
   ]
  },
  {
   "cell_type": "code",
   "execution_count": 45,
   "id": "33f8a5da-b93d-465b-99cd-46275e887a45",
   "metadata": {},
   "outputs": [
    {
     "name": "stdout",
     "output_type": "stream",
     "text": [
      "+--------------------+-----+----------+\n",
      "|             comment|label|prediction|\n",
      "+--------------------+-----+----------+\n",
      "|The faculty were ...| good|      good|\n",
      "|The program's int...| good|      good|\n",
      "|The faculty membe...| good|      good|\n",
      "|The program's app...| good|      good|\n",
      "|The program had a...| good|      good|\n",
      "|Internship opport...|  bad|       bad|\n",
      "|The capstone proj...| good|      good|\n",
      "|The program's com...| good|      good|\n",
      "|I appreciated the...| good|      good|\n",
      "|Professors are of...|  bad|      good|\n",
      "|The program offer...| good|      good|\n",
      "|I felt well-prepa...| good|      good|\n",
      "|The coursework wa...| good|      good|\n",
      "|The curriculum wa...| good|      good|\n",
      "|Advisors are avai...| good|      good|\n",
      "|The program's fle...| good|      good|\n",
      "|The program's foc...| good|      good|\n",
      "|Technology in cla...|  bad|      good|\n",
      "|The workload was ...| good|       bad|\n",
      "|Grading is incons...|  bad|       bad|\n",
      "+--------------------+-----+----------+\n",
      "only showing top 20 rows\n",
      "\n"
     ]
    }
   ],
   "source": [
    "# Load the data\n",
    "df1 = spark.read.csv('dfs/binaryClassification.csv', header=True, inferSchema=True,sep=',')\n",
    "df1 = df1.select(df1.comment.alias(\"comment1\"),\"prediction\").distinct()\n",
    "df2 = spark.read.csv('comments_df.csv', header=True, inferSchema=True,sep='=').select(\"comment\",\"label\").distinct()\n",
    "\n",
    "# Join the data\n",
    "df = df1.join(df2, df1.comment1 == df2.comment, 'inner').select(\"comment\",\"label\",\"prediction\")\n",
    "df.show()"
   ]
  },
  {
   "cell_type": "code",
   "execution_count": 46,
   "id": "1f2407d1-0e70-4954-b01e-9203b9cfef5f",
   "metadata": {},
   "outputs": [],
   "source": [
    "# Get the amount of rows in which label == prediction\n",
    "filtered_df = df.filter(df.label == df.prediction)"
   ]
  },
  {
   "cell_type": "code",
   "execution_count": 49,
   "id": "d2198c9e-e376-41b5-a84c-374399f7e30e",
   "metadata": {},
   "outputs": [
    {
     "name": "stdout",
     "output_type": "stream",
     "text": [
      "The accuracy of the model will be 0.8309859154929577\n"
     ]
    }
   ],
   "source": [
    "print(f\"The accuracy of the model will be {filtered_df.count()/df.count()}\")"
   ]
  },
  {
   "cell_type": "markdown",
   "id": "3e0d59a6-8ffa-4db2-a45d-331c0db06dfb",
   "metadata": {
    "id": "3e0d59a6-8ffa-4db2-a45d-331c0db06dfb"
   },
   "source": [
    "### Topic of the comment"
   ]
  },
  {
   "cell_type": "markdown",
   "id": "58d60ff2-284b-40f2-9e98-ff2486346a53",
   "metadata": {
    "id": "58d60ff2-284b-40f2-9e98-ff2486346a53"
   },
   "source": [
    "In this section, we want to classify the comments depending on the topic they cover. For example, some comments talk about schedule, teachers or courses. We will use embedding extraction and then K-Means to cluster group with similar reviews."
   ]
  },
  {
   "cell_type": "code",
   "execution_count": 31,
   "id": "3fb95809-6fa6-4e45-b692-851409ceedee",
   "metadata": {
    "id": "3fb95809-6fa6-4e45-b692-851409ceedee"
   },
   "outputs": [],
   "source": [
    "from pyspark.ml.feature import VectorAssembler\n",
    "from pyspark.ml.clustering import KMeans\n",
    "import re\n",
    "\n",
    "# UDF for basic text cleaning\n",
    "def clean_text(text):\n",
    "    text = text.lower()\n",
    "    text = re.sub(r'\\W', ' ', text)\n",
    "    text = re.sub(r'\\s+', ' ', text)\n",
    "    return text.strip()\n",
    "\n",
    "# We will be using the following comments\n",
    "df = reviews.select(\"comment\").distinct()\n",
    "\n",
    "clean_text_udf = fn.udf(clean_text, StringType())\n",
    "df = df.withColumn('cleaned_review', clean_text_udf(fn.col('comment')))\n",
    "\n",
    "# Define a UDF to convert sentences to embeddings\n",
    "def embed_sentence(sentence):\n",
    "    embedding = model.encode(sentence)\n",
    "    return embedding.tolist()\n",
    "\n",
    "embed_sentence_udf = fn.udf(embed_sentence, ArrayType(FloatType()))\n",
    "\n",
    "# Apply the UDF to create a new column with embeddings\n",
    "df = df.withColumn(\"embedding\", embed_sentence_udf(df[\"comment\"]))\n",
    "\n",
    "# Expand Embeddings into multiple columns with the different embeddings\n",
    "num_dimensions = len(df.select(\"embedding\").first()[0])\n",
    "\n",
    "for i in range(num_dimensions):\n",
    "    df = df.withColumn(f\"embedding_{i+1}\", fn.col(\"embedding\")[i])"
   ]
  },
  {
   "cell_type": "code",
   "execution_count": 32,
   "id": "a2bdd34d-0506-4157-9236-ffd20525d619",
   "metadata": {
    "id": "a2bdd34d-0506-4157-9236-ffd20525d619"
   },
   "outputs": [],
   "source": [
    "embedding_columns = [f\"embedding_{i+1}\" for i in range(num_dimensions)]\n",
    "\n",
    "# Convert embeddings into a feature vector\n",
    "assembler = VectorAssembler(inputCols=embedding_columns, outputCol='features')\n",
    "df = assembler.transform(df)\n",
    "\n",
    "# Perform K-Means clustering\n",
    "kmeans = KMeans(k=3, seed=1, featuresCol='features', predictionCol='topic')\n",
    "model = kmeans.fit(df)\n",
    "df = model.transform(df)\n",
    "\n",
    "# Show reviews grouped by topic\n",
    "collected_df = df.groupBy(\"topic\").agg(fn.collect_list(\"comment\"))\n",
    "# collected_df.show()"
   ]
  },
  {
   "cell_type": "code",
   "execution_count": 33,
   "id": "BPPyQ2Q3ZWlg",
   "metadata": {
    "id": "BPPyQ2Q3ZWlg"
   },
   "outputs": [],
   "source": [
    "# Tokenize the comments by splitting on whitespace and converting to lowercase\n",
    "df = df.withColumn('tokenized', fn.split(fn.lower(fn.col('cleaned_review')), ' ')) # In the future we have to use col('cleaned_review') or col('comment')\n",
    "df = df.withColumn('token',fn.explode(fn.col('tokenized')))\n",
    "\n",
    "# Filter out common stop words\n",
    "stop_words = set([\"the\", \"is\", \"are\", \"a\", \"an\", \"and\", \"in\", \"to\", \"with\", \"for\", \"of\", \"on\", \"it\", \"this\", \"that\", \"too\", \"i\", \"love\", \"great\", \"flexible\",\"was\",\"not\",\"am\",\"my\",\"me\",\"but\",\"very\",\"were\",\"though\"])\n",
    "df_filtered = df.filter(~fn.col('token').isin(stop_words))\n",
    "\n",
    "# Group by topic and token, then count occurrences\n",
    "word_freq = df_filtered.groupBy('topic', 'token').count().orderBy('topic', 'count', ascending=[True, False])\n",
    "\n",
    "# Define the number of top words you want to extract\n",
    "top_n = 1\n",
    "\n",
    "# Extract top N words for each topic\n",
    "top_words = word_freq.groupBy('topic').agg(fn.collect_list('token').alias('tokens'), fn.collect_list('count').alias('counts'))\n",
    "top_words = top_words.withColumn('top_tokens',fn.slice(fn.col('tokens'), 1, top_n))\n",
    "\n",
    "# Show the top words for each topic\n",
    "# top_words.select('topic', 'top_tokens').show()"
   ]
  },
  {
   "cell_type": "code",
   "execution_count": 34,
   "id": "j3a2fXcVaLVw",
   "metadata": {
    "id": "j3a2fXcVaLVw"
   },
   "outputs": [],
   "source": [
    "# Turn the array top_token into a string with the topic\n",
    "top_words = top_words.withColumn(\"top_token\", fn.col(\"top_tokens\").getItem(0))\n",
    "top_words = top_words.select('topic','top_token')\n",
    "\n",
    "# Join top_words with the dataframe\n",
    "df = df.join(top_words, df.topic == top_words.topic, 'left')"
   ]
  },
  {
   "cell_type": "code",
   "execution_count": 35,
   "id": "YuSm3IQc94N4",
   "metadata": {
    "id": "YuSm3IQc94N4"
   },
   "outputs": [],
   "source": [
    "from pyspark.ml.feature import PCA\n",
    "\n",
    "\n",
    "# Reduce dimensionality using PCA\n",
    "pca = PCA(k=2, inputCol=\"features\", outputCol=\"pca_features\")\n",
    "pca_model = pca.fit(df)\n",
    "df = pca_model.transform(df)\n",
    "\n",
    "# Select PCA features and cluster\n",
    "pandas_df = df.select(\"pca_features\", df.top_token.alias(\"topic\")).toPandas()\n",
    "pandas_df[['pca_x', 'pca_y']] = pandas_df['pca_features'].apply(lambda x: pd.Series(x.toArray()))"
   ]
  },
  {
   "cell_type": "code",
   "execution_count": 36,
   "id": "d_LL6CfZ-TVi",
   "metadata": {
    "colab": {
     "base_uri": "https://localhost:8080/",
     "height": 573
    },
    "id": "d_LL6CfZ-TVi",
    "outputId": "e709053f-214e-4875-fa2e-3ba89b52f234"
   },
   "outputs": [
    {
     "data": {
      "image/png": "[encoded data removed]",
      "text/plain": [
       "<Figure size 1000x600 with 1 Axes>"
      ]
     },
     "metadata": {},
     "output_type": "display_data"
    }
   ],
   "source": [
    "import matplotlib.pyplot as plt\n",
    "import seaborn as sns\n",
    "\n",
    "# Set style for the plot\n",
    "sns.set(style=\"whitegrid\")\n",
    "\n",
    "# Create a scatter plot of the PCA components\n",
    "plt.figure(figsize=(10, 6))\n",
    "sns.scatterplot(x=\"pca_x\", y=\"pca_y\", hue=\"topic\", palette=\"viridis\", data=pandas_df, legend=\"full\", s=100)\n",
    "\n",
    "# Set plot labels and title\n",
    "plt.title(\"KMeans Clustering of Embeddings\")\n",
    "plt.xlabel(\"PCA Component 1\")\n",
    "plt.ylabel(\"PCA Component 2\")\n",
    "\n",
    "# Show the plot\n",
    "plt.show()"
   ]
  },
  {
   "cell_type": "code",
   "execution_count": null,
   "id": "smsgXo7F_bc8",
   "metadata": {
    "id": "smsgXo7F_bc8"
   },
   "outputs": [],
   "source": [
    "df.write.csv(\"/content/clustering.csv\",sep=';',header=True)"
   ]
  },
  {
   "cell_type": "markdown",
   "id": "5abbd973-a57e-4db5-86d5-a92a61caa6bc",
   "metadata": {},
   "source": [
    "### Add the ML features in Reviews "
   ]
  },
  {
   "cell_type": "markdown",
   "id": "74d5fe03-e295-427e-b2d6-8f29a20bf321",
   "metadata": {},
   "source": [
    "Finally, we can add the new features in the Review's dataframe"
   ]
  },
  {
   "cell_type": "code",
   "execution_count": null,
   "id": "a723386c-eea7-4516-98e3-22e9c1e8fc61",
   "metadata": {},
   "outputs": [],
   "source": [
    "# Load the data\n",
    "df1 = spark.read.csv('parquet/feedback.csv', header=True, inferSchema=True,sep=';').select(\"comment\",\"classification\").distinct()\n",
    "df2 = spark.read.csv('parquet/topics.csv', header=True, inferSchema=True,sep=';').select(\"comment\",\"top_token\").distinct()\n",
    "\n",
    "df1 = df1.withColumnRenamed(\"comment\", \"comment_1\")\n",
    "df2 = df2.withColumnRenamed(\"comment\", \"comment_2\")\n",
    "\n",
    "\n",
    "# Join the dfs with the review's df\n",
    "reviews = reviews.join(df1, reviews.comment == df1.comment_1, 'left').join(df2, reviews.comment == df2.comment_2, 'left')\n",
    "reviews = reviews.select(\"ID\", \"program_fk\", \"date\", reviews.comment,reviews.classification.alias(\"feedback\"),\\\n",
    "                         reviews.top_token.alias(\"topic\"))"
   ]
  },
  {
   "cell_type": "markdown",
   "id": "4991fe98-f20a-4eba-b6e3-ddb58cf65ad4",
   "metadata": {},
   "source": [
    "### Recommendation system on program titles"
   ]
  },
  {
   "cell_type": "code",
   "execution_count": 48,
   "id": "fd424c20-dfd5-4f0c-afed-b4b9618f2f30",
   "metadata": {},
   "outputs": [
    {
     "name": "stdout",
     "output_type": "stream",
     "text": [
      "+---+--------------------+------+--------------------+\n",
      "| ID|               Title|uni_ID|          University|\n",
      "+---+--------------------+------+--------------------+\n",
      "|  1|Degree in Tourism...|    39|Polytechnic Unive...|\n",
      "|  2|Degree in Busines...|    35|Open University o...|\n",
      "|  3|Degree in Anthrop...|    20|               (Set)|\n",
      "|  4|Degree in Arts fr...|    35|Open University o...|\n",
      "|  5|Degree in Applied...|    35|Open University o...|\n",
      "|  6|Degree in Politic...|    35|Open University o...|\n",
      "|  7|Degree in Social ...|    35|Open University o...|\n",
      "|  8|Degree in Communi...|    35|Open University o...|\n",
      "|  9|Degree in Crimino...|    35|Open University o...|\n",
      "| 10|Degree in Law fro...|    35|Open University o...|\n",
      "| 11|Degree in Digital...|    35|Open University o...|\n",
      "| 12|Degree in Economi...|    35|Open University o...|\n",
      "| 13|Degree in Primary...|    35|Open University o...|\n",
      "| 14|Degree in Social ...|    35|Open University o...|\n",
      "| 15|Degree in Managem...|    20|               (Set)|\n",
      "| 16|Degree in History...|    20|               (Set)|\n",
      "| 17|Degree in Humanit...|    35|Open University o...|\n",
      "| 18|Degree in Informa...|    35|Open University o...|\n",
      "| 19|Degree in Telecom...|    35|Open University o...|\n",
      "| 20|Degree in Compute...|    35|Open University o...|\n",
      "+---+--------------------+------+--------------------+\n",
      "only showing top 20 rows\n",
      "\n"
     ]
    }
   ],
   "source": [
    "# Get the dataframe to be used \n",
    "df1 = joined_df.select('ID',joined_df.uni_ID.alias('uni_fk'),'Title')\n",
    "df2 = universities_df.select('uni_ID','University')\n",
    "df = df1.join(df2, df1.uni_fk == df2.uni_ID,'left').select('ID','Title','uni_ID','University')\n",
    "df.show()"
   ]
  },
  {
   "cell_type": "code",
   "execution_count": 49,
   "id": "cb2ca0c1-e125-4e36-9bc5-01bff59593a3",
   "metadata": {},
   "outputs": [
    {
     "name": "stdout",
     "output_type": "stream",
     "text": [
      "+---+--------------------+--------------------+\n",
      "| ID|               Title|       final_program|\n",
      "+---+--------------------+--------------------+\n",
      "|  1|Degree in Tourism...|Degree in Tourism...|\n",
      "|  2|Degree in Busines...|Degree in Busines...|\n",
      "|  3|Degree in Anthrop...|Degree in Anthrop...|\n",
      "|  4|Degree in Arts fr...|Degree in Arts fr...|\n",
      "|  5|Degree in Applied...|Degree in Applied...|\n",
      "|  6|Degree in Politic...|Degree in Politic...|\n",
      "|  7|Degree in Social ...|Degree in Social ...|\n",
      "|  8|Degree in Communi...|Degree in Communi...|\n",
      "|  9|Degree in Crimino...|Degree in Crimino...|\n",
      "| 10|Degree in Law fro...|Degree in Law fro...|\n",
      "| 11|Degree in Digital...|Degree in Digital...|\n",
      "| 12|Degree in Economi...|Degree in Economi...|\n",
      "| 13|Degree in Primary...|Degree in Primary...|\n",
      "| 14|Degree in Social ...|Degree in Social ...|\n",
      "| 15|Degree in Managem...|Degree in Managem...|\n",
      "| 16|Degree in History...|Degree in History...|\n",
      "| 17|Degree in Humanit...|Degree in Humanit...|\n",
      "| 18|Degree in Informa...|Degree in Informa...|\n",
      "| 19|Degree in Telecom...|Degree in Telecom...|\n",
      "| 20|Degree in Compute...|Degree in Compute...|\n",
      "+---+--------------------+--------------------+\n",
      "only showing top 20 rows\n",
      "\n"
     ]
    }
   ],
   "source": [
    "# Split Program and University in an array of words\n",
    "df = df.withColumn(\"wordsProgram\", fn.split(fn.col(\"Title\"), \" \")) \\\n",
    "       .withColumn(\"wordsUni\", fn.split(fn.col(\"University\"), \" \"))\n",
    "\n",
    "# Keep the words from wordsProgram that not appear in wordsUni\n",
    "df = df.withColumn(\"result\", fn.array_except(\"wordsProgram\", \"wordsUni\")) \\\n",
    "       .withColumn(\"final_program\", fn.concat_ws(\" \", \"result\")) \\\n",
    "       .select('ID','Title','final_program')\n",
    "df.show()\n"
   ]
  },
  {
   "cell_type": "code",
   "execution_count": 50,
   "id": "a2027b18-375e-4814-9bd1-d60870d1328f",
   "metadata": {},
   "outputs": [
    {
     "name": "stderr",
     "output_type": "stream",
     "text": [
      "[nltk_data] Downloading package stopwords to\n",
      "[nltk_data]     /home/nilsvanesostos/nltk_data...\n",
      "[nltk_data]   Package stopwords is already up-to-date!\n"
     ]
    },
    {
     "data": {
      "text/plain": [
       "True"
      ]
     },
     "execution_count": 50,
     "metadata": {},
     "output_type": "execute_result"
    }
   ],
   "source": [
    "import nltk\n",
    "nltk.download('stopwords')"
   ]
  },
  {
   "cell_type": "code",
   "execution_count": 51,
   "id": "30a621df-e825-4a4a-93e9-03c8e29e0b79",
   "metadata": {},
   "outputs": [
    {
     "name": "stdout",
     "output_type": "stream",
     "text": [
      "+---+--------------------+--------------------+--------------------+\n",
      "| ID|               Title|       final_program|       cleaned_title|\n",
      "+---+--------------------+--------------------+--------------------+\n",
      "|  1|Degree in Tourism...|Degree in Tourism...|      degree tourism|\n",
      "|  2|Degree in Busines...|Degree in Busines...|degree business a...|\n",
      "|  3|Degree in Anthrop...|Degree in Anthrop...|degree anthropolo...|\n",
      "|  4|Degree in Arts fr...|Degree in Arts fr...|         degree arts|\n",
      "|  5|Degree in Applied...|Degree in Applied...|degree applied da...|\n",
      "|  6|Degree in Politic...|Degree in Politic...|degree political ...|\n",
      "|  7|Degree in Social ...|Degree in Social ...|degree social sci...|\n",
      "|  8|Degree in Communi...|Degree in Communi...|degree communication|\n",
      "|  9|Degree in Crimino...|Degree in Crimino...|  degree criminology|\n",
      "| 10|Degree in Law fro...|Degree in Law fro...|          degree law|\n",
      "| 11|Degree in Digital...|Degree in Digital...|degree digital de...|\n",
      "| 12|Degree in Economi...|Degree in Economi...|    degree economics|\n",
      "| 13|Degree in Primary...|Degree in Primary...|degree primary ed...|\n",
      "| 14|Degree in Social ...|Degree in Social ...|degree social edu...|\n",
      "| 15|Degree in Managem...|Degree in Managem...|degree management...|\n",
      "| 16|Degree in History...|Degree in History...|degree history, g...|\n",
      "| 17|Degree in Humanit...|Degree in Humanit...|   degree humanities|\n",
      "| 18|Degree in Informa...|Degree in Informa...|degree informatio...|\n",
      "| 19|Degree in Telecom...|Degree in Telecom...|degree telecommun...|\n",
      "| 20|Degree in Compute...|Degree in Compute...|degree computer e...|\n",
      "+---+--------------------+--------------------+--------------------+\n",
      "only showing top 20 rows\n",
      "\n"
     ]
    }
   ],
   "source": [
    "from nltk.corpus import stopwords\n",
    "from sklearn.feature_extraction.text import TfidfVectorizer\n",
    "from sklearn.metrics.pairwise import cosine_similarity\n",
    "\n",
    "stop_words = set(stopwords.words('english'))\n",
    "\n",
    "def clean_text(text):\n",
    "    words = text.lower().split()\n",
    "    cleaned_words = [word for word in words if word not in stop_words]\n",
    "    return ' '.join(cleaned_words)\n",
    "\n",
    "clean_text_udf = fn.udf(clean_text, StringType())\n",
    "df = df.withColumn(\"cleaned_title\", clean_text_udf(df[\"final_program\"]))\n",
    "df.show()"
   ]
  },
  {
   "cell_type": "code",
   "execution_count": null,
   "id": "6f07ad92-ff50-4eb8-93a0-2f0ac153cdf8",
   "metadata": {},
   "outputs": [
    {
     "name": "stderr",
     "output_type": "stream",
     "text": [
      "                                                                                \r"
     ]
    }
   ],
   "source": [
    "# Collect cleaned titles into a list\n",
    "titles = df.select(\"cleaned_title\").rdd.flatMap(lambda x: x).collect()\n",
    "\n",
    "# Use TfidfVectorizer to transform titles into TF-IDF vectors\n",
    "vectorizer = TfidfVectorizer()\n",
    "tfidf_matrix = vectorizer.fit_transform(titles)\n",
    "\n",
    "# Compute cosine similarity matrix\n",
    "cosine_sim = cosine_similarity(tfidf_matrix)\n",
    "cosine_sim_df = pd.DataFrame(cosine_sim)"
   ]
  },
  {
   "cell_type": "code",
   "execution_count": null,
   "id": "af5b250f-1514-42bf-bda9-774578fe0b9c",
   "metadata": {},
   "outputs": [],
   "source": [
    "def get_recommendations(title, cosine_sim=cosine_sim_df):\n",
    "    idx = df.select(\"cleaned_title\").rdd.flatMap(lambda x: x).collect().index(title)\n",
    "    sim_scores = list(enumerate(cosine_sim[idx]))\n",
    "    sim_scores = sorted(sim_scores, key=lambda x: x[1], reverse=True)\n",
    "    sim_scores = sim_scores[1:6]  # Top 5 similar titles\n",
    "    program_indices = [i[0] for i in sim_scores]\n",
    "    \n",
    "    # Collect the titles corresponding to the program indices\n",
    "    titles = df.select(\"title\").rdd.flatMap(lambda x: x).collect()\n",
    "    recommended_titles = [titles[i] for i in program_indices]\n",
    "    \n",
    "    return recommended_titles"
   ]
  },
  {
   "cell_type": "code",
   "execution_count": null,
   "id": "98ebae7f-e0d0-4751-96ad-d2b7e35e9f02",
   "metadata": {},
   "outputs": [],
   "source": [
    "pandas_df = df.toPandas()\n",
    "final_df = pd.DataFrame(columns=['Title','Recommedation1','Recommedation2','Recommedation3','Recommedation4','Recommedation5'])\n",
    "\n",
    "for program_title in pandas_df['cleaned_title']:\n",
    "    recommendations = get_recommendations(program_title)\n",
    "    \n",
    "\n",
    "    new_row = {'Title': program_title, 'Recommedation1': recommendations[0], \\\n",
    "               'Recommedation2': recommendations[1],'Recommedation3': recommendations[2], \\\n",
    "               'Recommedation4': recommendations[3],'Recommendation5':recommendations[5]}\n",
    "    new_df = pd.DataFrame(new_row, index=[0])\n",
    "    final_df = pd.concat([final_df, new_df], ignore_index=False)\n",
    "    \n",
    "# program_title = \"Degree in Economics from the Open University of Catalonia\"\n",
    "# recommendations = get_recommendations(clean_text(program_title))"
   ]
  },
  {
   "cell_type": "code",
   "execution_count": null,
   "id": "1156da2f-de75-4187-9142-5bf5ab3725da",
   "metadata": {},
   "outputs": [],
   "source": [
    "final_df.to_csv('dfs/recommendations.csv',sep='=',index=False)"
   ]
  },
  {
   "cell_type": "code",
   "execution_count": 229,
   "id": "8bb891f4-cdb7-4d0c-a194-2a5f0542ce26",
   "metadata": {},
   "outputs": [
    {
     "name": "stderr",
     "output_type": "stream",
     "text": [
      "                                                                                \r"
     ]
    },
    {
     "name": "stdout",
     "output_type": "stream",
     "text": [
      "+----------+--------------------+--------------------+--------------------+--------------------+--------------------+--------------------+\n",
      "|program_ID|               Title|     Recommendation1|     Recommendation2|     Recommendation3|     Recommendation4|     Recommendation5|\n",
      "+----------+--------------------+--------------------+--------------------+--------------------+--------------------+--------------------+\n",
      "|         1|Degree in Tourism...|Degree in Tourism...|Degree in Tourism...|Degree in Tourism...|Degree in Tourism...|Degree in Tourism...|\n",
      "|         2|Degree in Busines...|Degree in Busines...|Degree in Busines...|Degree in Busines...|Degree in Busines...|Degree in Busines...|\n",
      "|         3|Degree in Anthrop...|Master's Degree i...|Master's Degree i...|Degree in Tourism...|Degree in Tourism...|Master's Degree i...|\n",
      "|         4|Degree in Arts fr...|Degree in Arts an...|Master's Degree i...|Master's Degree i...|Degree in Visual ...|Degree in Fine Ar...|\n",
      "|         5|Degree in Applied...|Degree in Applied...|Degree in Data Sc...|Degree in Data Sc...|Degree in Data Sc...|Degree in Data Sc...|\n",
      "|         6|Degree in Politic...|Degree in Politic...|Degree in Politic...|Degree in Politic...|Degree in Politic...|Degree in Politic...|\n",
      "|         7|Degree in Social ...|University Master...|Master's Degree i...|Master's Degree i...|Master's Degree i...|Master's Degree i...|\n",
      "|         8|Degree in Communi...|Degree in Communi...|Degree in Communi...|Degree in Communi...|Degree in Communi...|Degree in Communi...|\n",
      "|         9|Degree in Crimino...|Degree in Crimino...|Degree in Crimino...|Degree in Crimino...|Degree in Crimino...|Degree in Crimino...|\n",
      "|        10|Degree in Law fro...|Degree in Law fro...|Degree in Law fro...|Degree in Law fro...|Degree in Law fro...|Degree in Law fro...|\n",
      "|        11|Degree in Digital...|Master's Degree i...|Master's Degree i...|Degree in Digital...|Degree in Digital...|Degree in Fashion...|\n",
      "|        12|Degree in Economi...|Degree in Economi...|Degree in Economi...|Degree in Economi...|Degree in Economi...|Degree in Economi...|\n",
      "|        13|Degree in Primary...|Degree in Primary...|Degree in Primary...|Degree in Primary...|Degree in Primary...|Degree in Primary...|\n",
      "|        14|Degree in Social ...|Degree in Social ...|Degree in Social ...|Degree in Social ...|Degree in Social ...|Degree in Social ...|\n",
      "|        15|Degree in Managem...|Degree in Tourism...|Degree in Managem...|University Master...|Master's Degree i...|Master's Degree i...|\n",
      "|        16|Degree in History...|Degree in History...|Degree in Art His...|Degree in Geograp...|Degree in Geograp...|Degree in History...|\n",
      "|        17|Degree in Humanit...|Degree in Humanities|Degree in Humanit...|Degree in Humanit...|Degree in Humanit...|Degree in Humanit...|\n",
      "|        18|Degree in Informa...|Degree in Informa...|Degree in Informa...|Degree in Informa...|Degree in Informa...|Degree in Informa...|\n",
      "|        19|Degree in Telecom...|Degree in Telecom...|Degree in Telecom...|Degree in Telecom...|Degree in Telecom...|Degree in Telecom...|\n",
      "|        20|Degree in Compute...|Degree in Compute...|Degree in Compute...|Degree in Compute...|Degree in Compute...|Degree in Compute...|\n",
      "+----------+--------------------+--------------------+--------------------+--------------------+--------------------+--------------------+\n",
      "only showing top 20 rows\n",
      "\n"
     ]
    }
   ],
   "source": [
    "df = spark.read.csv('dfs/recommendations.csv', header=True, inferSchema=True, sep='=')\n",
    "df = df.select('Cleaned Title','Recommendation1','Recommendation2','Recommendation3','Recommendation4','Recommendation5')\n",
    "\n",
    "# And create an ID for every row\n",
    "window_spec = Window.partitionBy(fn.lit(1)).orderBy(fn.monotonically_increasing_id())\n",
    "df = df.withColumn(\"program_ID\", fn.row_number().over(window_spec))\n",
    "\n",
    "# Join the original df with this one\n",
    "df = df.join(programs_df, df.program_ID == programs_df.ID, 'left').select('program_ID','Title','Recommendation1',\\\n",
    "             'Recommendation2','Recommendation3','Recommendation4','Recommendation5')\n",
    "df.show()"
   ]
  },
  {
   "cell_type": "code",
   "execution_count": 230,
   "id": "f818b1eb-18d8-4d8b-a20e-ad15dc1356dd",
   "metadata": {},
   "outputs": [
    {
     "name": "stderr",
     "output_type": "stream",
     "text": [
      "                                                                                \r"
     ]
    },
    {
     "name": "stdout",
     "output_type": "stream",
     "text": [
      "+----------+--------------------+--------------------+\n",
      "|program_ID|               Title|           final_rec|\n",
      "+----------+--------------------+--------------------+\n",
      "|         1|Degree in Tourism...|[Degree in Touris...|\n",
      "|         2|Degree in Busines...|[Degree in Busine...|\n",
      "|         3|Degree in Anthrop...|[Master's Degree ...|\n",
      "|         4|Degree in Arts fr...|[Degree in Arts a...|\n",
      "|         5|Degree in Applied...|[Degree in Applie...|\n",
      "|         6|Degree in Politic...|[Degree in Politi...|\n",
      "|         7|Degree in Social ...|[University Maste...|\n",
      "|         8|Degree in Communi...|[Degree in Commun...|\n",
      "|         9|Degree in Crimino...|[Degree in Crimin...|\n",
      "|        10|Degree in Law fro...|[Degree in Law fr...|\n",
      "|        11|Degree in Digital...|[Master's Degree ...|\n",
      "|        12|Degree in Economi...|[Degree in Econom...|\n",
      "|        13|Degree in Primary...|[Degree in Primar...|\n",
      "|        14|Degree in Social ...|[Degree in Social...|\n",
      "|        15|Degree in Managem...|[Degree in Touris...|\n",
      "|        16|Degree in History...|[Degree in Histor...|\n",
      "|        17|Degree in Humanit...|[Degree in Humani...|\n",
      "|        18|Degree in Informa...|[Degree in Inform...|\n",
      "|        19|Degree in Telecom...|[Degree in Teleco...|\n",
      "|        20|Degree in Compute...|[Degree in Comput...|\n",
      "+----------+--------------------+--------------------+\n",
      "only showing top 20 rows\n",
      "\n"
     ]
    }
   ],
   "source": [
    "# Combine an array with all the recommendations \n",
    "df = df.withColumn(\"Recommendations\", fn.array(\"Recommendation1\", \"Recommendation2\", \"Recommendation3\", \"Recommendation4\", \"Recommendation5\"))\n",
    "\n",
    "# Drop the columns we will no longer use\n",
    "df = df.drop('Recommendation1','Recommendation2','Recommendation3','Recommendation4','Recommendation5')\n",
    "\n",
    "# Check if there there is a recommendation that is the actuall element\n",
    "df = df.withColumn(\"final_rec\", fn.expr(\"filter(Recommendations, x -> x != Title)\")) \\\n",
    "       .drop('Recommendations')\n",
    "\n",
    "df.show()"
   ]
  },
  {
   "cell_type": "code",
   "execution_count": 231,
   "id": "febc11c3-fd41-498b-afbf-0002f5074b61",
   "metadata": {},
   "outputs": [
    {
     "name": "stderr",
     "output_type": "stream",
     "text": [
      "[Stage 604:========>        (1 + 1) / 2][Stage 649:===========>     (2 + 1) / 3]\r"
     ]
    },
    {
     "name": "stdout",
     "output_type": "stream",
     "text": [
      "+--------------------+--------+--------------------+--------------------+--------------------+--------+--------+--------------------+------------+-------------+----------+----------+--------------+---+------------+------------+\n",
      "|               Title|    Type|          University|         Description|                 URL|Duration|Location|     ApplicationDate|StartingDate|EligibleScore|EnglishLvl|SpanishLvl|BachelorNeeded| ID|orderEnglish|orderSpanish|\n",
      "+--------------------+--------+--------------------+--------------------+--------------------+--------+--------+--------------------+------------+-------------+----------+----------+--------------+---+------------+------------+\n",
      "|Degree in Tourism...|Bachelor|Polytechnic Unive...|Degree in Tourism...|https://polytechn...|       4|   Spain|31/05/2025-31/07/...|      Sep-25|            7|        A2|        B2|         false|  1|           2|           4|\n",
      "|Degree in Busines...|Bachelor|Open University o...|Degree in Busines...|https://openunive...|       4|   Spain|03/05/2025-03/07/...|      Sep-25|            6|        B2|        B2|         false|  2|           4|           4|\n",
      "|Degree in Anthrop...|Bachelor|               (Set)|Degree in Anthrop...|https://(set)/1bc...|       4|   Spain|13/04/2025-13/06/...|      Sep-25|            7|        A2|        B2|         false|  3|           2|           4|\n",
      "|Degree in Arts fr...|Bachelor|Open University o...|Degree in Arts fr...|https://openunive...|       4|   Spain|25/04/2025-25/06/...|      Sep-25|            8|        C1|        B2|         false|  4|           5|           4|\n",
      "|Degree in Applied...|Bachelor|Open University o...|Degree in Applied...|https://openunive...|       4|   Spain|15/05/2025-15/07/...|      Sep-25|            5|        C1|        B2|         false|  5|           5|           4|\n",
      "|Degree in Politic...|Bachelor|Open University o...|Degree in Politic...|https://openunive...|       4|   Spain|01/05/2025-01/07/...|      Sep-25|            6|        B2|        B2|         false|  6|           4|           4|\n",
      "|Degree in Social ...|Bachelor|Open University o...|Degree in Social ...|https://openunive...|       4|   Spain|06/04/2025-06/06/...|      Sep-25|            8|        B1|        B2|         false|  7|           3|           4|\n",
      "|Degree in Communi...|Bachelor|Open University o...|Degree in Communi...|https://openunive...|       4|   Spain|25/05/2025-25/07/...|      Sep-25|            5|        C2|        B2|         false|  8|           6|           4|\n",
      "|Degree in Crimino...|Bachelor|Open University o...|Degree in Crimino...|https://openunive...|       4|   Spain|16/04/2025-16/06/...|      Sep-25|            6|        C2|        B2|         false|  9|           6|           4|\n",
      "|Degree in Law fro...|Bachelor|Open University o...|Degree in Law fro...|https://openunive...|       4|   Spain|26/05/2025-26/07/...|      Sep-25|            8|        A1|        B2|         false| 10|           1|           4|\n",
      "|Degree in Digital...|Bachelor|Open University o...|Degree in Digital...|https://openunive...|       4|   Spain|07/05/2025-07/07/...|      Sep-25|            8|        B1|        B2|         false| 11|           3|           4|\n",
      "|Degree in Economi...|Bachelor|Open University o...|Degree in Economi...|https://openunive...|       4|   Spain|09/04/2025-09/06/...|      Sep-25|            5|        A2|        B2|         false| 12|           2|           4|\n",
      "|Degree in Primary...|Bachelor|Open University o...|Degree in Primary...|https://openunive...|       4|   Spain|29/04/2025-29/06/...|      Sep-25|            5|        A2|        B2|         false| 13|           2|           4|\n",
      "|Degree in Social ...|Bachelor|Open University o...|Degree in Social ...|https://openunive...|       4|   Spain|06/05/2025-06/07/...|      Sep-25|            7|        B1|        B2|         false| 14|           3|           4|\n",
      "|Degree in Managem...|Bachelor|               (Set)|Degree in Managem...|https://(set)/a57...|       4|   Spain|07/04/2025-07/06/...|      Sep-25|            6|        A1|        B2|         false| 15|           1|           4|\n",
      "|Degree in History...|Bachelor|               (Set)|Degree in History...|https://(set)/64d...|       4|   Spain|27/05/2025-27/07/...|      Sep-25|            5|        C1|        B2|         false| 16|           5|           4|\n",
      "|Degree in Humanit...|Bachelor|Open University o...|Degree in Humanit...|https://openunive...|       4|   Spain|09/04/2025-09/06/...|      Sep-25|            5|        A1|        B2|         false| 17|           1|           4|\n",
      "|Degree in Informa...|Bachelor|Open University o...|Degree in Informa...|https://openunive...|       4|   Spain|09/04/2025-09/06/...|      Sep-25|            5|        B2|        B2|         false| 18|           4|           4|\n",
      "|Degree in Telecom...|Bachelor|Open University o...|Degree in Telecom...|https://openunive...|       4|   Spain|07/04/2025-07/06/...|      Sep-25|            6|        A2|        B2|         false| 19|           2|           4|\n",
      "|Degree in Compute...|Bachelor|Open University o...|Degree in Compute...|https://openunive...|       4|   Spain|04/05/2025-04/07/...|      Sep-25|            8|        C1|        B2|         false| 20|           5|           4|\n",
      "+--------------------+--------+--------------------+--------------------+--------------------+--------+--------+--------------------+------------+-------------+----------+----------+--------------+---+------------+------------+\n",
      "only showing top 20 rows\n",
      "\n"
     ]
    },
    {
     "name": "stderr",
     "output_type": "stream",
     "text": [
      "                                                                                \r"
     ]
    }
   ],
   "source": [
    "programs_df.show()"
   ]
  },
  {
   "cell_type": "code",
   "execution_count": 232,
   "id": "9b4ade52-68ca-456c-9d9d-71dd62c9ad07",
   "metadata": {},
   "outputs": [
    {
     "name": "stderr",
     "output_type": "stream",
     "text": [
      "                                                                                \r"
     ]
    },
    {
     "name": "stdout",
     "output_type": "stream",
     "text": [
      "+----------+-------+--------------------+-------+--------------------+--------------------+--------------------+\n",
      "|program_ID|rec1_ID|     Recommendation1|rec2_ID|     Recommendation2|     Recommendation3|     Recommendation4|\n",
      "+----------+-------+--------------------+-------+--------------------+--------------------+--------------------+\n",
      "|         1|    119|Degree in Tourism...|   1504|Degree in Tourism...|Degree in Tourism...|Degree in Tourism...|\n",
      "|         1|    119|Degree in Tourism...|   1456|Degree in Tourism...|Degree in Tourism...|Degree in Tourism...|\n",
      "|         1|     34|Degree in Tourism...|   1504|Degree in Tourism...|Degree in Tourism...|Degree in Tourism...|\n",
      "|         1|     34|Degree in Tourism...|   1456|Degree in Tourism...|Degree in Tourism...|Degree in Tourism...|\n",
      "|         2|    597|Degree in Busines...|    690|Degree in Busines...|Degree in Busines...|Degree in Busines...|\n",
      "|         3|     85|Master's Degree i...|    108|Master's Degree i...|Degree in Tourism...|Degree in Tourism...|\n",
      "|         4|   9806|Degree in Arts an...|    878|Master's Degree i...|Master's Degree i...|Degree in Visual ...|\n",
      "|         5|   8585|Degree in Applied...|    599|Degree in Data Sc...|Degree in Data Sc...|Degree in Data Sc...|\n",
      "|         6|   1712|Degree in Politic...|   4529|Degree in Politic...|Degree in Politic...|Degree in Politic...|\n",
      "|         7|   9000|University Master...|   9260|Master's Degree i...|Master's Degree i...|Master's Degree i...|\n",
      "|         8|   1512|Degree in Communi...|   1623|Degree in Communi...|Degree in Communi...|Degree in Communi...|\n",
      "|         9|    747|Degree in Crimino...|   1513|Degree in Crimino...|Degree in Crimino...|Degree in Crimino...|\n",
      "|        10|    602|Degree in Law fro...|    695|Degree in Law fro...|Degree in Law fro...|Degree in Law fro...|\n",
      "|        11|   9134|Master's Degree i...|   9135|Master's Degree i...|Degree in Digital...|Degree in Digital...|\n",
      "|        12|    603|Degree in Economi...|    838|Degree in Economi...|Degree in Economi...|Degree in Economi...|\n",
      "|        13|   1983|Degree in Primary...|   2154|Degree in Primary...|Degree in Primary...|Degree in Primary...|\n",
      "|        14|    696|Degree in Social ...|   1515|Degree in Social ...|Degree in Social ...|Degree in Social ...|\n",
      "|        15|    119|Degree in Tourism...|   7228|Degree in Managem...|University Master...|Master's Degree i...|\n",
      "|        15|     34|Degree in Tourism...|   7228|Degree in Managem...|University Master...|Master's Degree i...|\n",
      "|        16|   2225|Degree in History...|   7229|Degree in Art His...|Degree in Geograp...|Degree in Geograp...|\n",
      "+----------+-------+--------------------+-------+--------------------+--------------------+--------------------+\n",
      "only showing top 20 rows\n",
      "\n"
     ]
    }
   ],
   "source": [
    "# Put every recommedation in different columns\n",
    "df = df.select(\n",
    "    \"program_ID\",\n",
    "    df[\"final_rec\"].getItem(0).alias(\"Recommendation1\"),\n",
    "    df[\"final_rec\"].getItem(1).alias(\"Recommendation2\"),\n",
    "    df[\"final_rec\"].getItem(2).alias(\"Recommendation3\"),\n",
    "    df[\"final_rec\"].getItem(3).alias(\"Recommendation4\")\n",
    ")\n",
    "\n",
    "# Join with programs_df and add the ID for every recommendation\n",
    "df = df.join(programs_df, df.Recommendation1 == programs_df.Title, 'inner')\n",
    "df = df.select('program_ID',df.ID.alias('rec1_ID'),'Recommendation1','Recommendation2','Recommendation3',\\\n",
    "       'Recommendation4')\n",
    "\n",
    "df = df.join(programs_df, df.Recommendation2 == programs_df.Title, 'left')\n",
    "df = df.select('program_ID','rec1_ID','Recommendation1',df.ID.alias('rec2_ID'),'Recommendation2','Recommendation3',\\\n",
    "       'Recommendation4')\n",
    "df.show()\n",
    "\n",
    "df = df.join(programs_df, df.Recommendation3 == programs_df.Title, 'left')\n",
    "df = df.select('program_ID','rec1_ID','Recommendation1','rec2_ID','Recommendation2',df.ID.alias('rec3_ID'),'Recommendation3',\\\n",
    "       'Recommendation4')\n",
    "\n",
    "df = df.join(programs_df, df.Recommendation4 == programs_df.Title, 'left')\n",
    "df = df.select('program_ID','rec1_ID','Recommendation1','rec2_ID','Recommendation2','rec3_ID','Recommendation3',\\\n",
    "       df.ID.alias('rec4_ID'),'Recommendation4')"
   ]
  },
  {
   "cell_type": "code",
   "execution_count": 233,
   "id": "c52dfe82-34ac-4af4-928f-a313ead21084",
   "metadata": {},
   "outputs": [
    {
     "name": "stderr",
     "output_type": "stream",
     "text": [
      "[Stage 604:========>        (1 + 1) / 2][Stage 649:===========>     (2 + 1) / 3]\r"
     ]
    },
    {
     "name": "stdout",
     "output_type": "stream",
     "text": [
      "+----------+-------+--------------------+-------+--------------------+-------+--------------------+-------+--------------------+\n",
      "|program_ID|rec1_ID|     Recommendation1|rec2_ID|     Recommendation2|rec3_ID|     Recommendation3|rec4_ID|     Recommendation4|\n",
      "+----------+-------+--------------------+-------+--------------------+-------+--------------------+-------+--------------------+\n",
      "|         1|    119|Degree in Tourism...|   1504|Degree in Tourism...|   1855|Degree in Tourism...|   2059|Degree in Tourism...|\n",
      "|         2|    597|Degree in Busines...|    690|Degree in Busines...|    825|Degree in Busines...|   1021|Degree in Busines...|\n",
      "|         3|     85|Master's Degree i...|    108|Master's Degree i...|  10692|Degree in Tourism...|    119|Degree in Tourism...|\n",
      "|         4|   9806|Degree in Arts an...|    878|Master's Degree i...|    945|Master's Degree i...|   1971|Degree in Visual ...|\n",
      "|         5|   8585|Degree in Applied...|    599|Degree in Data Sc...|   2251|Degree in Data Sc...|   2732|Degree in Data Sc...|\n",
      "|         6|   1712|Degree in Politic...|   4529|Degree in Politic...|   3406|Degree in Politic...|   4693|Degree in Politic...|\n",
      "|         7|   9000|University Master...|   9260|Master's Degree i...|   6920|Master's Degree i...|   5153|Master's Degree i...|\n",
      "|         8|   1512|Degree in Communi...|   1623|Degree in Communi...|   1976|Degree in Communi...|   2254|Degree in Communi...|\n",
      "|         9|    747|Degree in Crimino...|   1513|Degree in Crimino...|   1715|Degree in Crimino...|   1978|Degree in Crimino...|\n",
      "|        10|    602|Degree in Law fro...|    695|Degree in Law fro...|    748|Degree in Law fro...|    835|Degree in Law fro...|\n",
      "|        11|   9134|Master's Degree i...|   9135|Master's Degree i...|   2258|Degree in Digital...|   9498|Degree in Digital...|\n",
      "|        12|    603|Degree in Economi...|    838|Degree in Economi...|   1626|Degree in Economi...|   1717|Degree in Economi...|\n",
      "|        13|   1983|Degree in Primary...|   2154|Degree in Primary...|   2532|Degree in Primary...|   2591|Degree in Primary...|\n",
      "|        14|    696|Degree in Social ...|   1515|Degree in Social ...|   2261|Degree in Social ...|   2592|Degree in Social ...|\n",
      "|        15|    119|Degree in Tourism...|   7228|Degree in Managem...|     80|University Master...|     43|Master's Degree i...|\n",
      "|        16|   2225|Degree in History...|   7229|Degree in Art His...|   1518|Degree in Geograp...|   1723|Degree in Geograp...|\n",
      "|        17|  10391|Degree in Humanities|    845|Degree in Humanit...|   1519|Degree in Humanit...|   1630|Degree in Humanit...|\n",
      "|        18|   3425|Degree in Informa...|   3647|Degree in Informa...|   4728|Degree in Informa...|   5201|Degree in Informa...|\n",
      "|        19|   1046|Degree in Telecom...|   1264|Degree in Telecom...|   3653|Degree in Telecom...|   9666|Degree in Telecom...|\n",
      "|        20|    614|Degree in Compute...|    705|Degree in Compute...|    851|Degree in Compute...|   1061|Degree in Compute...|\n",
      "+----------+-------+--------------------+-------+--------------------+-------+--------------------+-------+--------------------+\n",
      "only showing top 20 rows\n",
      "\n"
     ]
    },
    {
     "name": "stderr",
     "output_type": "stream",
     "text": [
      "                                                                                \r"
     ]
    }
   ],
   "source": [
    "df = df.dropDuplicates([\"program_ID\"])\n",
    "\n",
    "df.show()"
   ]
  },
  {
   "cell_type": "code",
   "execution_count": 234,
   "id": "ec974aa1-3804-4018-9248-b319d1ba5aa5",
   "metadata": {},
   "outputs": [],
   "source": [
    "# We can drop the recommendations titles\n",
    "df = df.drop('Recommendation1','Recommendation2','Recommendation3','Recommendation4')\n",
    "\n",
    "# Join with the program_df to get the final version of the dataframe\n",
    "ref_df = programs_df.join(df, programs_df.ID == df.program_ID,'left')\n",
    "ref_df = ref_df.drop('program_ID')"
   ]
  },
  {
   "cell_type": "code",
   "execution_count": 235,
   "id": "26a78bea-4c5b-421e-8f2c-adb06b18f12f",
   "metadata": {},
   "outputs": [
    {
     "name": "stderr",
     "output_type": "stream",
     "text": [
      "                                                                                \r"
     ]
    },
    {
     "name": "stdout",
     "output_type": "stream",
     "text": [
      "+--------------------+--------+--------------------+--------------------+--------------------+--------+--------+--------------------+------------+-------------+----------+----------+--------------+---+------------+------------+-------+-------+-------+-------+\n",
      "|               Title|    Type|          University|         Description|                 URL|Duration|Location|     ApplicationDate|StartingDate|EligibleScore|EnglishLvl|SpanishLvl|BachelorNeeded| ID|orderEnglish|orderSpanish|rec1_ID|rec2_ID|rec3_ID|rec4_ID|\n",
      "+--------------------+--------+--------------------+--------------------+--------------------+--------+--------+--------------------+------------+-------------+----------+----------+--------------+---+------------+------------+-------+-------+-------+-------+\n",
      "|Degree in Tourism...|Bachelor|Polytechnic Unive...|Degree in Tourism...|https://polytechn...|       4|   Spain|31/05/2025-31/07/...|      Sep-25|            7|        A2|        B2|         false|  1|           2|           4|    119|   1504|   1855|   2059|\n",
      "|Degree in Busines...|Bachelor|Open University o...|Degree in Busines...|https://openunive...|       4|   Spain|03/05/2025-03/07/...|      Sep-25|            6|        B2|        B2|         false|  2|           4|           4|    597|    690|    825|   1021|\n",
      "|Degree in Anthrop...|Bachelor|               (Set)|Degree in Anthrop...|https://(set)/1bc...|       4|   Spain|13/04/2025-13/06/...|      Sep-25|            7|        A2|        B2|         false|  3|           2|           4|     85|    108|  10692|    119|\n",
      "|Degree in Arts fr...|Bachelor|Open University o...|Degree in Arts fr...|https://openunive...|       4|   Spain|25/04/2025-25/06/...|      Sep-25|            8|        C1|        B2|         false|  4|           5|           4|   9806|    878|    945|   1971|\n",
      "|Degree in Applied...|Bachelor|Open University o...|Degree in Applied...|https://openunive...|       4|   Spain|15/05/2025-15/07/...|      Sep-25|            5|        C1|        B2|         false|  5|           5|           4|   8585|    599|   2251|   2732|\n",
      "|Degree in Politic...|Bachelor|Open University o...|Degree in Politic...|https://openunive...|       4|   Spain|01/05/2025-01/07/...|      Sep-25|            6|        B2|        B2|         false|  6|           4|           4|   1712|   4529|   3406|   4693|\n",
      "|Degree in Social ...|Bachelor|Open University o...|Degree in Social ...|https://openunive...|       4|   Spain|06/04/2025-06/06/...|      Sep-25|            8|        B1|        B2|         false|  7|           3|           4|   9000|   9260|   6920|   5153|\n",
      "|Degree in Communi...|Bachelor|Open University o...|Degree in Communi...|https://openunive...|       4|   Spain|25/05/2025-25/07/...|      Sep-25|            5|        C2|        B2|         false|  8|           6|           4|   1512|   1623|   1976|   2254|\n",
      "|Degree in Crimino...|Bachelor|Open University o...|Degree in Crimino...|https://openunive...|       4|   Spain|16/04/2025-16/06/...|      Sep-25|            6|        C2|        B2|         false|  9|           6|           4|    747|   1513|   1715|   1978|\n",
      "|Degree in Law fro...|Bachelor|Open University o...|Degree in Law fro...|https://openunive...|       4|   Spain|26/05/2025-26/07/...|      Sep-25|            8|        A1|        B2|         false| 10|           1|           4|    602|    695|    748|    835|\n",
      "|Degree in Digital...|Bachelor|Open University o...|Degree in Digital...|https://openunive...|       4|   Spain|07/05/2025-07/07/...|      Sep-25|            8|        B1|        B2|         false| 11|           3|           4|   9134|   9135|   2258|   9498|\n",
      "|Degree in Economi...|Bachelor|Open University o...|Degree in Economi...|https://openunive...|       4|   Spain|09/04/2025-09/06/...|      Sep-25|            5|        A2|        B2|         false| 12|           2|           4|    603|    838|   1626|   1717|\n",
      "|Degree in Primary...|Bachelor|Open University o...|Degree in Primary...|https://openunive...|       4|   Spain|29/04/2025-29/06/...|      Sep-25|            5|        A2|        B2|         false| 13|           2|           4|   1983|   2154|   2532|   2591|\n",
      "|Degree in Social ...|Bachelor|Open University o...|Degree in Social ...|https://openunive...|       4|   Spain|06/05/2025-06/07/...|      Sep-25|            7|        B1|        B2|         false| 14|           3|           4|    696|   1515|   2261|   2592|\n",
      "|Degree in Managem...|Bachelor|               (Set)|Degree in Managem...|https://(set)/a57...|       4|   Spain|07/04/2025-07/06/...|      Sep-25|            6|        A1|        B2|         false| 15|           1|           4|    119|   7228|     80|     43|\n",
      "|Degree in History...|Bachelor|               (Set)|Degree in History...|https://(set)/64d...|       4|   Spain|27/05/2025-27/07/...|      Sep-25|            5|        C1|        B2|         false| 16|           5|           4|   2225|   7229|   1518|   1723|\n",
      "|Degree in Humanit...|Bachelor|Open University o...|Degree in Humanit...|https://openunive...|       4|   Spain|09/04/2025-09/06/...|      Sep-25|            5|        A1|        B2|         false| 17|           1|           4|  10391|    845|   1519|   1630|\n",
      "|Degree in Informa...|Bachelor|Open University o...|Degree in Informa...|https://openunive...|       4|   Spain|09/04/2025-09/06/...|      Sep-25|            5|        B2|        B2|         false| 18|           4|           4|   3425|   3647|   4728|   5201|\n",
      "|Degree in Telecom...|Bachelor|Open University o...|Degree in Telecom...|https://openunive...|       4|   Spain|07/04/2025-07/06/...|      Sep-25|            6|        A2|        B2|         false| 19|           2|           4|   1046|   1264|   3653|   9666|\n",
      "|Degree in Compute...|Bachelor|Open University o...|Degree in Compute...|https://openunive...|       4|   Spain|04/05/2025-04/07/...|      Sep-25|            8|        C1|        B2|         false| 20|           5|           4|    614|    705|    851|   1061|\n",
      "+--------------------+--------+--------------------+--------------------+--------------------+--------+--------+--------------------+------------+-------------+----------+----------+--------------+---+------------+------------+-------+-------+-------+-------+\n",
      "only showing top 20 rows\n",
      "\n"
     ]
    }
   ],
   "source": [
    "ref_df = ref_df.orderBy(\"ID\")\n",
    "ref_df.show()"
   ]
  },
  {
   "cell_type": "markdown",
   "id": "a901d1f0-53e9-483e-9329-2edf808a5d56",
   "metadata": {
    "id": "a901d1f0-53e9-483e-9329-2edf808a5d56"
   },
   "source": [
    "## Define the dataframes"
   ]
  },
  {
   "cell_type": "markdown",
   "id": "3f62d57b",
   "metadata": {
    "id": "3f62d57b"
   },
   "source": [
    "Now, we will prepare the datasets for its insertion in the graph."
   ]
  },
  {
   "cell_type": "markdown",
   "id": "6c600ae6-c1c0-42cf-885f-a95a8f4851f9",
   "metadata": {
    "id": "6c600ae6-c1c0-42cf-885f-a95a8f4851f9"
   },
   "source": [
    "### From_df"
   ]
  },
  {
   "cell_type": "code",
   "execution_count": 236,
   "id": "7f5a9ba9-5879-4529-bdae-90717d9bb449",
   "metadata": {
    "id": "7f5a9ba9-5879-4529-bdae-90717d9bb449"
   },
   "outputs": [],
   "source": [
    "# Define the dataframe with the relation between programs and universities\n",
    "from_df = joined_df.select(\"ID\",\"uni_ID\")\n",
    "from_df = joined_df.select(joined_df.ID.alias(\"START_ID\"),joined_df.uni_ID.alias(\"END_ID\"))"
   ]
  },
  {
   "cell_type": "markdown",
   "id": "fd4d053e-3b7d-4f45-a88d-6ff2cc20b8f1",
   "metadata": {
    "id": "fd4d053e-3b7d-4f45-a88d-6ff2cc20b8f1"
   },
   "source": [
    "### Programs_df"
   ]
  },
  {
   "cell_type": "code",
   "execution_count": 237,
   "id": "cf089bb2-b054-4466-9498-3567e190527d",
   "metadata": {
    "id": "cf089bb2-b054-4466-9498-3567e190527d"
   },
   "outputs": [],
   "source": [
    "# Define the dataframe with the semantics of programs\n",
    "programs_df = programs_df.select(programs_df.ID.alias(\"program_ID\"),programs_df.Title,\\\n",
    "              programs_df.Type,programs_df.Description,programs_df.URL,programs_df.Duration,\\\n",
    "              programs_df.ApplicationDate,programs_df.StartingDate,programs_df.EligibleScore,\\\n",
    "              programs_df.EnglishLvl,programs_df.SpanishLvl,programs_df.BachelorNeeded)"
   ]
  },
  {
   "cell_type": "markdown",
   "id": "048f5b30-b728-4ce4-893b-0e3bb0a91888",
   "metadata": {},
   "source": [
    "### Recommended_df"
   ]
  },
  {
   "cell_type": "code",
   "execution_count": 238,
   "id": "5874446b-debd-407e-b653-78a1152d50d1",
   "metadata": {},
   "outputs": [
    {
     "name": "stderr",
     "output_type": "stream",
     "text": [
      "[Stage 604:========>        (1 + 1) / 2][Stage 649:===========>     (2 + 1) / 3]\r"
     ]
    }
   ],
   "source": [
    "# Define the dataframe with the recommendations for each program\n",
    "recomendations1_df = ref_df.select(ref_df.ID.alias(\"START_ID\"),ref_df.rec1_ID.alias(\"END_ID\"))\n",
    "recomendations2_df = ref_df.select(ref_df.ID.alias(\"START_ID\"),ref_df.rec2_ID.alias(\"END_ID\"))\n",
    "recomendations3_df = ref_df.select(ref_df.ID.alias(\"START_ID\"),ref_df.rec3_ID.alias(\"END_ID\"))\n",
    "recomendations4_df = ref_df.select(ref_df.ID.alias(\"START_ID\"),ref_df.rec4_ID.alias(\"END_ID\"))\n",
    "# The recommended_df will be the union of all this dataframes\n",
    "recommended_df = recomendations1_df.union(recomendations2_df).union(recomendations3_df).union(recomendations4_df)"
   ]
  },
  {
   "cell_type": "markdown",
   "id": "2ea9d978-0de2-45d6-b4f3-18944c37ceed",
   "metadata": {
    "id": "2ea9d978-0de2-45d6-b4f3-18944c37ceed"
   },
   "source": [
    "### Universities_df"
   ]
  },
  {
   "cell_type": "code",
   "execution_count": 239,
   "id": "5198fa07-ae77-4f79-9c95-9466b215e525",
   "metadata": {
    "id": "5198fa07-ae77-4f79-9c95-9466b215e525"
   },
   "outputs": [],
   "source": [
    "# Define the dataframe with the semantics of universities\n",
    "universities_df = universities_df.select(universities_df.uni_ID.alias(\"ID\"),universities_df.University.alias(\"Name\"),\\\n",
    "                  universities_df.Location)"
   ]
  },
  {
   "cell_type": "markdown",
   "id": "b111da41-8f1e-4302-b1e5-f1397a8dc346",
   "metadata": {
    "id": "b111da41-8f1e-4302-b1e5-f1397a8dc346"
   },
   "source": [
    "### Scholarships_df"
   ]
  },
  {
   "cell_type": "code",
   "execution_count": 240,
   "id": "8387497e-97a4-4d6e-b2be-dd98135d2cde",
   "metadata": {
    "id": "8387497e-97a4-4d6e-b2be-dd98135d2cde"
   },
   "outputs": [],
   "source": [
    "scholarships_df = scholarships_df.select(\"ID\",\"AwardName\",\"Deadline\",\"EligibleScore\",\"EnglishLvl\",\\\n",
    "            \"BachelorNeeded\",\"SpanishLvl\", \"Nationality\",\"Amount\",\"NumAwards\",\"MinAge\",\"MaxAge\",\\\n",
    "            \"AcademicPerformance\")"
   ]
  },
  {
   "cell_type": "markdown",
   "id": "4beac572-aff2-43fd-a018-b3bcac629ac7",
   "metadata": {
    "id": "4beac572-aff2-43fd-a018-b3bcac629ac7"
   },
   "source": [
    "### Eligible_for_df"
   ]
  },
  {
   "cell_type": "code",
   "execution_count": 241,
   "id": "903ed88f-4f04-456b-b95d-ddea0609c7aa",
   "metadata": {
    "id": "903ed88f-4f04-456b-b95d-ddea0609c7aa",
    "scrolled": true
   },
   "outputs": [],
   "source": [
    "# Define the dataframe with the relation between scholarships and programs\n",
    "eligible_for_df = sch_pr.select(sch_pr.ID.alias(\"START_ID\"),sch_pr.program_fk.alias(\"END_ID\"))"
   ]
  },
  {
   "cell_type": "markdown",
   "id": "dbc19a7a-60bb-4f3f-9f4c-444bd91c5e15",
   "metadata": {
    "id": "dbc19a7a-60bb-4f3f-9f4c-444bd91c5e15"
   },
   "source": [
    "### Reviews_df"
   ]
  },
  {
   "cell_type": "markdown",
   "id": "02d6c9b6-28fb-4099-b84c-ee243fe45ea9",
   "metadata": {
    "id": "02d6c9b6-28fb-4099-b84c-ee243fe45ea9"
   },
   "source": [
    "This dataframe will consist on the different comments of the database."
   ]
  },
  {
   "cell_type": "code",
   "execution_count": 197,
   "id": "b08afc2e-3451-4e42-8014-88cc50750963",
   "metadata": {
    "id": "b08afc2e-3451-4e42-8014-88cc50750963"
   },
   "outputs": [
    {
     "name": "stderr",
     "output_type": "stream",
     "text": [
      "[Stage 604:============================>                            (1 + 1) / 2]\r"
     ]
    }
   ],
   "source": [
    "reviews_df = spark.read.csv('dfs/reviews.csv', header=True, inferSchema=True, sep='=')\n",
    "# reviews_df = reviews.select(reviews.ID.alias(\"review_ID\"),\"date\",\"comment\",\"feedback\",\"topic\").distinct()"
   ]
  },
  {
   "cell_type": "markdown",
   "id": "7eee768b-a6c4-460b-b9c6-2b1a63d3de1d",
   "metadata": {
    "id": "7eee768b-a6c4-460b-b9c6-2b1a63d3de1d"
   },
   "source": [
    "### Opinions_df"
   ]
  },
  {
   "cell_type": "markdown",
   "id": "a3288e76-105a-450a-a8da-ca2e97094ad6",
   "metadata": {
    "id": "a3288e76-105a-450a-a8da-ca2e97094ad6"
   },
   "source": [
    "This dataframe will contain the relationship between reviews_df and programs_df."
   ]
  },
  {
   "cell_type": "code",
   "execution_count": 198,
   "id": "2468ca7c-b9a9-4a3c-ac30-c7bf7086d7b6",
   "metadata": {
    "id": "2468ca7c-b9a9-4a3c-ac30-c7bf7086d7b6"
   },
   "outputs": [
    {
     "name": "stderr",
     "output_type": "stream",
     "text": [
      "[Stage 604:============================>                            (1 + 1) / 2]\r"
     ]
    }
   ],
   "source": [
    "opinions_df = spark.read.csv('dfs/opinions.csv', header=True, inferSchema=True, sep='=')\n",
    "# opinions_df = reviews.select(reviews.ID.alias(\"START_ID\"),reviews.program_fk.alias(\"END_ID\"))"
   ]
  },
  {
   "cell_type": "markdown",
   "id": "b1b1e2c1-e6ee-4f85-aca3-9a2a405a5e56",
   "metadata": {
    "id": "b1b1e2c1-e6ee-4f85-aca3-9a2a405a5e56"
   },
   "source": [
    "### Users_df"
   ]
  },
  {
   "cell_type": "markdown",
   "id": "694777e4-a40a-4e62-92c8-c31417d4a7e9",
   "metadata": {
    "id": "694777e4-a40a-4e62-92c8-c31417d4a7e9"
   },
   "source": [
    "This df encodes the information regarding users."
   ]
  },
  {
   "cell_type": "code",
   "execution_count": 199,
   "id": "1f8ba664-12a9-4121-9df8-b2ab337d375d",
   "metadata": {
    "id": "1f8ba664-12a9-4121-9df8-b2ab337d375d"
   },
   "outputs": [],
   "source": [
    "users_df = users.select(users.ID.alias(\"user_ID\"),\"name\",\"email\",\"register_date\").distinct()"
   ]
  },
  {
   "cell_type": "markdown",
   "id": "b45efda3-d344-44bd-8876-365199233b5a",
   "metadata": {
    "id": "b45efda3-d344-44bd-8876-365199233b5a"
   },
   "source": [
    "### Writes"
   ]
  },
  {
   "cell_type": "markdown",
   "id": "80f46d60-afbe-4a86-b77b-a7ab593ab0d8",
   "metadata": {
    "id": "80f46d60-afbe-4a86-b77b-a7ab593ab0d8"
   },
   "source": [
    "This df will contain the relationship between Users and Reviews."
   ]
  },
  {
   "cell_type": "code",
   "execution_count": 200,
   "id": "86e998e4-a697-465e-88b8-2e3e538df111",
   "metadata": {
    "id": "86e998e4-a697-465e-88b8-2e3e538df111"
   },
   "outputs": [],
   "source": [
    "writes_df = users.select(users.ID.alias(\"START_ID\"),users.comment_fk.alias(\"END_ID\"))"
   ]
  },
  {
   "cell_type": "markdown",
   "id": "49edfe55-5230-4c13-8266-2f636aa539ef",
   "metadata": {
    "id": "49edfe55-5230-4c13-8266-2f636aa539ef"
   },
   "source": [
    "### Save the dataframes"
   ]
  },
  {
   "cell_type": "markdown",
   "id": "0c458711-95ff-436e-a3e6-fb0530fb06b3",
   "metadata": {
    "id": "0c458711-95ff-436e-a3e6-fb0530fb06b3"
   },
   "source": [
    "First we convert the Spark Dataframes into Pandas Dataframes."
   ]
  },
  {
   "cell_type": "code",
   "execution_count": 31,
   "id": "51ff6911-27a9-4cc9-907b-33560f3ff02b",
   "metadata": {
    "id": "51ff6911-27a9-4cc9-907b-33560f3ff02b",
    "scrolled": true
   },
   "outputs": [],
   "source": [
    "# programs_df = programs_df.toPandas()\n",
    "# universities_df = universities_df.toPandas()\n",
    "# from_df = from_df.toPandas()\n",
    "# scholarships_df = scholarships_df.toPandas()\n",
    "# eligible_for_df = eligible_for_df.toPandas()\n",
    "# reviews_df = reviews_df.toPandas()\n",
    "# opinions_df = opinions_df.toPandas()\n",
    "# users_df = users_df.toPandas()\n",
    "# writes_df = writes_df.toPandas()\n",
    "# recommended_df = recommended_df.toPandas()\n",
    "\n",
    "programs_df = pd.read_csv('dfs/programs.csv',sep='=')\n",
    "universities_df = pd.read_csv('dfs/universities.csv',sep='=')\n",
    "from_df = pd.read_csv('dfs/from.csv',sep='=')\n",
    "scholarships_df = pd.read_csv('dfs/scholarships.csv',sep='=')\n",
    "eligible_for_df = pd.read_csv('dfs/eligible_for.csv',sep='=')\n",
    "reviews_df = pd.read_csv('dfs/reviews.csv',sep='=')\n",
    "opinions_df = pd.read_csv('dfs/opinions.csv',sep='=')\n",
    "users_df = pd.read_csv('dfs/users.csv',sep='=')\n",
    "writes_df = pd.read_csv('dfs/writes.csv',sep='=')\n",
    "recommended_df = pd.read_csv('dfs/recommends.csv',sep='=')"
   ]
  },
  {
   "cell_type": "markdown",
   "id": "496bea0b-9f50-4161-880e-c76ea451cc32",
   "metadata": {
    "id": "496bea0b-9f50-4161-880e-c76ea451cc32"
   },
   "source": [
    "Then, we save the dataframes in files."
   ]
  },
  {
   "cell_type": "code",
   "execution_count": 263,
   "id": "89e26db8-73da-4c1f-909f-ea07cdcb3890",
   "metadata": {
    "id": "89e26db8-73da-4c1f-909f-ea07cdcb3890"
   },
   "outputs": [
    {
     "name": "stderr",
     "output_type": "stream",
     "text": [
      "Exception in thread \"serve-DataFrame\" java.net.SocketTimeoutException: Accept timed out\n",
      "\tat java.net.PlainSocketImpl.socketAccept(Native Method)\n",
      "\tat java.net.AbstractPlainSocketImpl.accept(AbstractPlainSocketImpl.java:409)\n",
      "\tat java.net.ServerSocket.implAccept(ServerSocket.java:560)\n",
      "\tat java.net.ServerSocket.accept(ServerSocket.java:528)\n",
      "\tat org.apache.spark.security.SocketAuthServer$$anon$1.run(SocketAuthServer.scala:65)\n"
     ]
    }
   ],
   "source": [
    "programs_df.to_csv('dfs/programs.csv',sep='=',index=False)\n",
    "universities_df.to_csv('dfs/universities.csv',sep='=',index=False)\n",
    "from_df.to_csv('dfs/from.csv',sep='=',index=False)\n",
    "scholarships_df.to_csv('dfs/scholarships.csv',sep='=',index=False)\n",
    "eligible_for_df.to_csv('dfs/eligible_for.csv',sep='=',index=False)\n",
    "reviews_df.to_csv('dfs/reviews.csv',sep='=',index=False)\n",
    "opinions_df.to_csv('dfs/opinions.csv',sep='=',index=False)\n",
    "users_df.to_csv('dfs/users.csv',sep='=',index=False)\n",
    "writes_df.to_csv('dfs/writes.csv',sep='=',index=False)\n",
    "recommended_df.to_csv('dfs/recommends.csv',sep='=',index=False)"
   ]
  },
  {
   "cell_type": "markdown",
   "id": "7fc87285-637f-45b4-acf0-5e114e35f525",
   "metadata": {
    "id": "7fc87285-637f-45b4-acf0-5e114e35f525"
   },
   "source": [
    "# Creation of the KG"
   ]
  },
  {
   "cell_type": "markdown",
   "id": "9313b765-5bdf-4b88-8fbc-c4a3355ab0ba",
   "metadata": {
    "id": "9313b765-5bdf-4b88-8fbc-c4a3355ab0ba"
   },
   "source": [
    "## TBOX Definition"
   ]
  },
  {
   "cell_type": "code",
   "execution_count": 33,
   "id": "adfafd18-ac20-4386-8daa-1f6b45f8d4d6",
   "metadata": {
    "id": "adfafd18-ac20-4386-8daa-1f6b45f8d4d6"
   },
   "outputs": [],
   "source": [
    "from rdflib import Graph, Namespace, Literal\n",
    "from rdflib.namespace import RDFS, RDF, XSD\n",
    "import pandas as pd"
   ]
  },
  {
   "cell_type": "markdown",
   "id": "fc37f9dd-acd3-4a01-a44f-e165a015b633",
   "metadata": {
    "id": "fc37f9dd-acd3-4a01-a44f-e165a015b633"
   },
   "source": [
    "Define the namespace,"
   ]
  },
  {
   "cell_type": "code",
   "execution_count": 34,
   "id": "c646cdee-f2ce-406e-b353-12ee332da2cc",
   "metadata": {
    "id": "c646cdee-f2ce-406e-b353-12ee332da2cc"
   },
   "outputs": [],
   "source": [
    "BDM = Namespace('http://www.example.edu/')"
   ]
  },
  {
   "cell_type": "markdown",
   "id": "f0deca0a-d493-4b48-aa0e-3bd8e925f495",
   "metadata": {
    "id": "f0deca0a-d493-4b48-aa0e-3bd8e925f495"
   },
   "source": [
    "In this section, we want to define the TBOX, that is, the conceptual level of entities and their inter-relationships."
   ]
  },
  {
   "cell_type": "code",
   "execution_count": 35,
   "id": "33ef648d-9f88-420b-947e-a9fdfa711bf7",
   "metadata": {
    "id": "33ef648d-9f88-420b-947e-a9fdfa711bf7"
   },
   "outputs": [],
   "source": [
    "g = Graph()\n",
    "g.bind(\"BDM\", BDM)"
   ]
  },
  {
   "cell_type": "markdown",
   "id": "39b307f6-ca1b-4a67-abf0-e603a1ba27d5",
   "metadata": {
    "id": "39b307f6-ca1b-4a67-abf0-e603a1ba27d5"
   },
   "source": [
    "### Classes"
   ]
  },
  {
   "cell_type": "code",
   "execution_count": 36,
   "id": "d15794eb-14fa-4e81-85d5-c9062da54aad",
   "metadata": {
    "id": "d15794eb-14fa-4e81-85d5-c9062da54aad"
   },
   "outputs": [
    {
     "data": {
      "text/plain": [
       "<Graph identifier=N53f55423170a4ed3aea6e7472aa83ad0 (<class 'rdflib.graph.Graph'>)>"
      ]
     },
     "execution_count": 36,
     "metadata": {},
     "output_type": "execute_result"
    }
   ],
   "source": [
    "g.add((BDM.program,RDF.type,RDFS.Class))\n",
    "g.add((BDM.university,RDF.type,RDFS.Class))\n",
    "g.add((BDM.scholarship,RDF.type,RDFS.Class))\n",
    "g.add((BDM.review,RDF.type,RDFS.Class))\n",
    "g.add((BDM.user,RDF.type,RDFS.Class))"
   ]
  },
  {
   "cell_type": "markdown",
   "id": "fa063352-70df-445c-8c5f-631cd33e8050",
   "metadata": {
    "id": "fa063352-70df-445c-8c5f-631cd33e8050"
   },
   "source": [
    "### Subclasses"
   ]
  },
  {
   "cell_type": "code",
   "execution_count": 37,
   "id": "c8548a10-d065-4918-ba9f-23b80813cc0a",
   "metadata": {
    "id": "c8548a10-d065-4918-ba9f-23b80813cc0a"
   },
   "outputs": [
    {
     "data": {
      "text/plain": [
       "<Graph identifier=N53f55423170a4ed3aea6e7472aa83ad0 (<class 'rdflib.graph.Graph'>)>"
      ]
     },
     "execution_count": 37,
     "metadata": {},
     "output_type": "execute_result"
    }
   ],
   "source": [
    "g.add((BDM.bachelor,RDFS.subClassOf,BDM.program))\n",
    "g.add((BDM.master,RDFS.subClassOf,BDM.program))"
   ]
  },
  {
   "cell_type": "markdown",
   "id": "ab12c2f6-78e2-4add-a216-a4996c99d471",
   "metadata": {
    "id": "ab12c2f6-78e2-4add-a216-a4996c99d471"
   },
   "source": [
    "### Properties"
   ]
  },
  {
   "cell_type": "code",
   "execution_count": 38,
   "id": "0c3a2300-f933-431e-b109-81943d59800a",
   "metadata": {
    "id": "0c3a2300-f933-431e-b109-81943d59800a"
   },
   "outputs": [
    {
     "data": {
      "text/plain": [
       "<Graph identifier=N53f55423170a4ed3aea6e7472aa83ad0 (<class 'rdflib.graph.Graph'>)>"
      ]
     },
     "execution_count": 38,
     "metadata": {},
     "output_type": "execute_result"
    }
   ],
   "source": [
    "# For the properties of program:\n",
    "g.add((BDM.program_ID,RDF.type,RDF.Property))\n",
    "g.add((BDM.program_ID,RDFS.domain,BDM.program))\n",
    "\n",
    "g.add((BDM.title,RDF.type,RDF.Property))\n",
    "g.add((BDM.title,RDFS.domain,BDM.program))\n",
    "\n",
    "g.add((BDM.desciption,RDF.type,RDF.Property))\n",
    "g.add((BDM.description,RDFS.domain,BDM.program))\n",
    "\n",
    "g.add((BDM.url,RDF.type,RDF.Property))\n",
    "g.add((BDM.url,RDFS.domain,BDM.program))\n",
    "\n",
    "g.add((BDM.duration,RDF.type,RDF.Property))\n",
    "g.add((BDM.duration,RDFS.domain,BDM.program))\n",
    "\n",
    "g.add((BDM.ap_date,RDF.type,RDF.Property))\n",
    "g.add((BDM.ap_date,RDFS.domain,BDM.program))\n",
    "\n",
    "g.add((BDM.st_date,RDF.type,RDF.Property))\n",
    "g.add((BDM.st_date,RDFS.domain,BDM.program))\n",
    "\n",
    "g.add((BDM.score,RDF.type,RDF.Property))\n",
    "g.add((BDM.score,RDFS.domain,BDM.program))\n",
    "\n",
    "g.add((BDM.eng_lvl,RDF.type,RDF.Property))\n",
    "g.add((BDM.eng_lvl,RDFS.domain,BDM.program))\n",
    "\n",
    "g.add((BDM.spa_lvl,RDF.type,RDF.Property))\n",
    "g.add((BDM.spa_lvl,RDFS.domain,BDM.program))\n",
    "\n",
    "g.add((BDM.bachelor_needed,RDF.type,RDF.Property))\n",
    "g.add((BDM.bachelor_needed,RDFS.domain,BDM.program))\n",
    "\n",
    "# For the properties of university:\n",
    "g.add((BDM.uni_ID,RDF.type,RDF.Property))\n",
    "g.add((BDM.uni_ID,RDFS.domain,BDM.university))\n",
    "\n",
    "g.add((BDM.name,RDF.type,RDF.Property))\n",
    "g.add((BDM.name,RDFS.domain,BDM.university))\n",
    "\n",
    "g.add((BDM.location,RDF.type,RDF.Property))\n",
    "g.add((BDM.location,RDFS.domain,BDM.university))\n",
    "\n",
    "# For the properties of scholarship:\n",
    "g.add((BDM.sch_ID,RDF.type,RDF.Property))\n",
    "g.add((BDM.sch_ID,RDFS.domain,BDM.scholarship))\n",
    "\n",
    "g.add((BDM.award_name,RDF.type,RDF.Property))\n",
    "g.add((BDM.award_name,RDFS.domain,BDM.scholarship))\n",
    "\n",
    "g.add((BDM.deadline,RDF.type,RDF.Property))\n",
    "g.add((BDM.deadline,RDFS.domain,BDM.scholarship))\n",
    "\n",
    "g.add((BDM.score,RDF.type,RDF.Property))\n",
    "g.add((BDM.score,RDFS.domain,BDM.scholarship))\n",
    "\n",
    "g.add((BDM.eng_lvl,RDF.type,RDF.Property))\n",
    "g.add((BDM.eng_lvl,RDFS.domain,BDM.scholarship))\n",
    "\n",
    "g.add((BDM.spa_lvl,RDF.type,RDF.Property))\n",
    "g.add((BDM.spa_lvl,RDFS.domain,BDM.scholarship))\n",
    "\n",
    "g.add((BDM.bachelor_needed,RDF.type,RDF.Property))\n",
    "g.add((BDM.bachelor_needed,RDFS.domain,BDM.scholarship))\n",
    "\n",
    "g.add((BDM.nationality,RDF.type,RDF.Property))\n",
    "g.add((BDM.nationality,RDFS.domain,BDM.scholarship))\n",
    "\n",
    "g.add((BDM.amount,RDF.type,RDF.Property))\n",
    "g.add((BDM.amount,RDFS.domain,BDM.scholarship))\n",
    "\n",
    "g.add((BDM.num_awards,RDF.type,RDF.Property))\n",
    "g.add((BDM.num_awards,RDFS.domain,BDM.scholarship))\n",
    "\n",
    "g.add((BDM.min_age,RDF.type,RDF.Property))\n",
    "g.add((BDM.min_age,RDFS.domain,BDM.scholarship))\n",
    "\n",
    "g.add((BDM.max_age,RDF.type,RDF.Property))\n",
    "g.add((BDM.max_age,RDFS.domain,BDM.scholarship))\n",
    "\n",
    "g.add((BDM.academic_perf,RDF.type,RDF.Property))\n",
    "g.add((BDM.academic_perf,RDFS.domain,BDM.scholarship))\n",
    "\n",
    "# For the properties of user:\n",
    "g.add((BDM.user_ID,RDF.type,RDF.Property))\n",
    "g.add((BDM.user_ID,RDFS.domain,BDM.user))\n",
    "\n",
    "g.add((BDM.name,RDF.type,RDF.Property))\n",
    "g.add((BDM.name,RDFS.domain,BDM.user))\n",
    "\n",
    "g.add((BDM.email,RDF.type,RDF.Property))\n",
    "g.add((BDM.email,RDFS.domain,BDM.user))\n",
    "\n",
    "g.add((BDM.register_date,RDF.type,RDF.Property))\n",
    "g.add((BDM.register_date,RDFS.domain,BDM.user))\n",
    "\n",
    "# For the properties of review:\n",
    "g.add((BDM.review_ID,RDF.type,RDF.Property))\n",
    "g.add((BDM.review_ID,RDFS.domain,BDM.review))\n",
    "\n",
    "g.add((BDM.date,RDF.type,RDF.Property))\n",
    "g.add((BDM.date,RDFS.domain,BDM.review))\n",
    "\n",
    "g.add((BDM.comment,RDF.type,RDF.Property))\n",
    "g.add((BDM.comment,RDFS.domain,BDM.review))\n",
    "\n",
    "g.add((BDM.feedback,RDF.type,RDF.Property))\n",
    "g.add((BDM.feedback,RDFS.domain,BDM.review))\n",
    "\n",
    "g.add((BDM.topic,RDF.type,RDF.Property))\n",
    "g.add((BDM.topic,RDFS.domain,BDM.review))"
   ]
  },
  {
   "cell_type": "markdown",
   "id": "bfc5832b-df83-460e-a464-8fde003a5ad4",
   "metadata": {
    "id": "bfc5832b-df83-460e-a464-8fde003a5ad4"
   },
   "source": [
    "### Relationships"
   ]
  },
  {
   "cell_type": "code",
   "execution_count": 39,
   "id": "8e2e4279-d74c-4b08-8d2d-e736537d7a4e",
   "metadata": {
    "id": "8e2e4279-d74c-4b08-8d2d-e736537d7a4e"
   },
   "outputs": [
    {
     "data": {
      "text/plain": [
       "<Graph identifier=N53f55423170a4ed3aea6e7472aa83ad0 (<class 'rdflib.graph.Graph'>)>"
      ]
     },
     "execution_count": 39,
     "metadata": {},
     "output_type": "execute_result"
    }
   ],
   "source": [
    "# For the relationship between Program and University:\n",
    "g.add((BDM.from_uni,RDF.type,RDF.Property))\n",
    "g.add((BDM.from_uni,RDFS.domain,BDM.program))\n",
    "g.add((BDM.from_uni,RDFS.range,BDM.university))\n",
    "g.add((BDM.program,BDM.from_uni,BDM.university))\n",
    "\n",
    "# For the relationship between Scholarship and University\n",
    "g.add((BDM.eligible_for,RDF.type,RDF.Property))\n",
    "g.add((BDM.eligible_for,RDFS.domain,BDM.scholarship))\n",
    "g.add((BDM.eligible_for,RDFS.range,BDM.program))\n",
    "g.add((BDM.scholarship,BDM.eligible_for,BDM.program))\n",
    "\n",
    "# For the relationship between Review and Program\n",
    "g.add((BDM.opinion_of,RDF.type,RDF.Property))\n",
    "g.add((BDM.opinion_of,RDFS.domain,BDM.review))\n",
    "g.add((BDM.opinion_of,RDFS.range,BDM.program))\n",
    "g.add((BDM.review,BDM.opinion_of,BDM.program))\n",
    "\n",
    "# For the relationship between User and Review\n",
    "g.add((BDM.writes,RDF.type,RDF.Property))\n",
    "g.add((BDM.writes,RDFS.domain,BDM.user))\n",
    "g.add((BDM.writes,RDFS.range,BDM.review))\n",
    "g.add((BDM.user,BDM.writes,BDM.review))\n",
    "\n",
    "# For the relationship between Program and Program\n",
    "g.add((BDM.recommends,RDF.type,RDF.Property))\n",
    "g.add((BDM.recommends,RDFS.domain,BDM.program))\n",
    "g.add((BDM.recommends,RDFS.range,BDM.program))\n",
    "g.add((BDM.program,BDM.recommends,BDM.program))"
   ]
  },
  {
   "cell_type": "markdown",
   "id": "2e43271d-1a6d-4499-b4cc-608c678581bf",
   "metadata": {
    "id": "2e43271d-1a6d-4499-b4cc-608c678581bf"
   },
   "source": [
    "### Serialize"
   ]
  },
  {
   "cell_type": "code",
   "execution_count": 40,
   "id": "1a2a6821-c324-454e-b47f-eaceea299c61",
   "metadata": {
    "id": "1a2a6821-c324-454e-b47f-eaceea299c61"
   },
   "outputs": [
    {
     "data": {
      "text/plain": [
       "<Graph identifier=N53f55423170a4ed3aea6e7472aa83ad0 (<class 'rdflib.graph.Graph'>)>"
      ]
     },
     "execution_count": 40,
     "metadata": {},
     "output_type": "execute_result"
    }
   ],
   "source": [
    "g.serialize('tbox.ttl',format='turtle')"
   ]
  },
  {
   "cell_type": "markdown",
   "id": "21928b8d-bb2f-45f0-98fa-2308924e54d8",
   "metadata": {
    "id": "21928b8d-bb2f-45f0-98fa-2308924e54d8"
   },
   "source": [
    "## ABOX Definition"
   ]
  },
  {
   "cell_type": "markdown",
   "id": "e15f4486-f405-4b34-8e9e-e93c0e89e033",
   "metadata": {
    "id": "e15f4486-f405-4b34-8e9e-e93c0e89e033"
   },
   "source": [
    "### Pogram (Bachelor and Master)"
   ]
  },
  {
   "cell_type": "code",
   "execution_count": 41,
   "id": "433c1632-d6df-41ca-a1f5-a20d922cad03",
   "metadata": {
    "id": "433c1632-d6df-41ca-a1f5-a20d922cad03"
   },
   "outputs": [],
   "source": [
    "for index,row in programs_df.iterrows():\n",
    "    if row['Type'] == 'Bachelor':\n",
    "        # Connect with the element\n",
    "        g.add((BDM.program+\"/\"+str(row['program_ID']),RDF.type,BDM.bachelor))\n",
    "    else:\n",
    "        # Connect with the element\n",
    "        g.add((BDM.program+\"/\"+str(row['program_ID']),RDF.type,BDM.master))\n",
    "\n",
    "    # Load all the properties\n",
    "    g.add((BDM.program+\"/\"+str(row['program_ID']),BDM.program_ID, Literal(str(row['program_ID']), datatype=XSD.string)))\n",
    "    g.add((BDM.program+\"/\"+str(row['program_ID']),BDM.title, Literal(row['Title'], datatype=XSD.string)))\n",
    "    g.add((BDM.program+\"/\"+str(row['program_ID']),BDM.description, Literal(row['Description'], datatype=XSD.string)))\n",
    "    g.add((BDM.program+\"/\"+str(row['program_ID']),BDM.url, Literal(row['URL'], datatype=XSD.string)))\n",
    "    g.add((BDM.program+\"/\"+str(row['program_ID']),BDM.duration, Literal(row['Duration'], datatype=XSD.int)))\n",
    "    g.add((BDM.program+\"/\"+str(row['program_ID']),BDM.ap_date, Literal(row['ApplicationDate'], datatype=XSD.string)))\n",
    "    g.add((BDM.program+\"/\"+str(row['program_ID']),BDM.st_date, Literal(row['StartingDate'], datatype=XSD.string)))\n",
    "    g.add((BDM.program+\"/\"+str(row['program_ID']),BDM.score, Literal(row['EligibleScore'], datatype=XSD.int)))\n",
    "    g.add((BDM.program+\"/\"+str(row['program_ID']),BDM.eng_lvl, Literal(row['EnglishLvl'], datatype=XSD.string)))\n",
    "    g.add((BDM.program+\"/\"+str(row['program_ID']),BDM.spa_lvl, Literal(row['SpanishLvl'], datatype=XSD.string)))\n",
    "    g.add((BDM.program+\"/\"+str(row['program_ID']),BDM.bachelor_needed, Literal(row['BachelorNeeded'], datatype=XSD.string)))"
   ]
  },
  {
   "cell_type": "markdown",
   "id": "2603e866-71f3-42fd-91c9-16c52ce117b9",
   "metadata": {},
   "source": [
    "### Recommends"
   ]
  },
  {
   "cell_type": "code",
   "execution_count": 42,
   "id": "ac44f1a1-9ba6-40f7-9872-3463e019bb6e",
   "metadata": {},
   "outputs": [],
   "source": [
    "for index,row in recommended_df.iterrows():\n",
    "    g.add((BDM.program+\"/\"+str(row['START_ID']),BDM.recommends,BDM.program+\"/\"+str(row['END_ID'])))"
   ]
  },
  {
   "cell_type": "markdown",
   "id": "e6272b08-6ed6-4f5b-8f1b-09d3257ebf5d",
   "metadata": {
    "id": "e6272b08-6ed6-4f5b-8f1b-09d3257ebf5d"
   },
   "source": [
    "### University"
   ]
  },
  {
   "cell_type": "code",
   "execution_count": 43,
   "id": "f697f7ce-0339-49b0-b9b4-47ba38398a04",
   "metadata": {
    "id": "f697f7ce-0339-49b0-b9b4-47ba38398a04"
   },
   "outputs": [],
   "source": [
    "for index,row in universities_df.iterrows():\n",
    "    # Connect with the element\n",
    "    g.add((BDM.university+\"/\"+str(row['ID']),RDF.type,BDM.university))\n",
    "    # Load all the properties\n",
    "    g.add((BDM.university+\"/\"+str(row['ID']),BDM.uni_ID, Literal(str(row['ID']), datatype=XSD.string)))\n",
    "    g.add((BDM.university+\"/\"+str(row['ID']),BDM.name, Literal(row['Name'], datatype=XSD.string)))\n",
    "    g.add((BDM.university+\"/\"+str(row['ID']),BDM.location, Literal(row['Location'], datatype=XSD.string)))"
   ]
  },
  {
   "cell_type": "markdown",
   "id": "c307e487-872d-4983-9426-7e95306d27b4",
   "metadata": {
    "id": "c307e487-872d-4983-9426-7e95306d27b4"
   },
   "source": [
    "### From"
   ]
  },
  {
   "cell_type": "code",
   "execution_count": 44,
   "id": "1b004eb7-bcfe-43e3-ba3c-b3ae0072e888",
   "metadata": {
    "id": "1b004eb7-bcfe-43e3-ba3c-b3ae0072e888"
   },
   "outputs": [],
   "source": [
    "for index,row in from_df.iterrows():\n",
    "    g.add((BDM.program+\"/\"+str(row['START_ID']),BDM.from_uni,BDM.university+\"/\"+str(row['END_ID'])))"
   ]
  },
  {
   "cell_type": "markdown",
   "id": "8a230789-609c-4390-9fa7-56c2b9e2ddd6",
   "metadata": {
    "id": "8a230789-609c-4390-9fa7-56c2b9e2ddd6"
   },
   "source": [
    "### Scholarship"
   ]
  },
  {
   "cell_type": "code",
   "execution_count": 45,
   "id": "a1779e4f-335b-4f8e-8cae-567dabd59f2d",
   "metadata": {
    "id": "a1779e4f-335b-4f8e-8cae-567dabd59f2d"
   },
   "outputs": [],
   "source": [
    "for index,row in scholarships_df.iterrows():\n",
    "    # Connect with the element\n",
    "    g.add((BDM.scholarship+\"/\"+str(row['ID']),RDF.type,BDM.scholarship))\n",
    "    # Load all the properties\n",
    "    g.add((BDM.scholarship+\"/\"+str(row['ID']),BDM.sch_ID, Literal(str(row['ID']), datatype=XSD.string)))\n",
    "    g.add((BDM.scholarship+\"/\"+str(row['ID']),BDM.award_name, Literal(row['AwardName'], datatype=XSD.string)))\n",
    "    g.add((BDM.scholarship+\"/\"+str(row['ID']),BDM.deadline, Literal(row['Deadline'], datatype=XSD.string)))\n",
    "    g.add((BDM.scholarship+\"/\"+str(row['ID']),BDM.deadline, Literal(row['Deadline'], datatype=XSD.string)))\n",
    "    g.add((BDM.scholarship+\"/\"+str(row['ID']),BDM.score, Literal(row['EligibleScore'], datatype=XSD.int)))\n",
    "    g.add((BDM.scholarship+\"/\"+str(row['ID']),BDM.eng_lvl, Literal(row['EnglishLvl'], datatype=XSD.string)))\n",
    "    g.add((BDM.scholarship+\"/\"+str(row['ID']),BDM.bachelor_needed, Literal(row['BachelorNeeded'], datatype=XSD.string)))\n",
    "    g.add((BDM.scholarship+\"/\"+str(row['ID']),BDM.spa_lvl, Literal(row['SpanishLvl'], datatype=XSD.string)))\n",
    "    g.add((BDM.scholarship+\"/\"+str(row['ID']),BDM.nationality, Literal(row['Nationality'], datatype=XSD.string)))\n",
    "    g.add((BDM.scholarship+\"/\"+str(row['ID']),BDM.amount, Literal(row['Amount'], datatype=XSD.string)))\n",
    "    g.add((BDM.scholarship+\"/\"+str(row['ID']),BDM.num_awards, Literal(row['NumAwards'], datatype=XSD.string)))\n",
    "    g.add((BDM.scholarship+\"/\"+str(row['ID']),BDM.min_age, Literal(row['MinAge'], datatype=XSD.string)))\n",
    "    g.add((BDM.scholarship+\"/\"+str(row['ID']),BDM.max_age, Literal(row['MaxAge'], datatype=XSD.string)))\n",
    "    g.add((BDM.scholarship+\"/\"+str(row['ID']),BDM.acedemic_perf, Literal(row['AcademicPerformance'], datatype=XSD.string)))"
   ]
  },
  {
   "cell_type": "markdown",
   "id": "990dfe6e-3a4e-4b9b-8ad8-1a0af1b2ab79",
   "metadata": {
    "id": "990dfe6e-3a4e-4b9b-8ad8-1a0af1b2ab79"
   },
   "source": [
    "### Eligible_for"
   ]
  },
  {
   "cell_type": "code",
   "execution_count": 46,
   "id": "3e00ab91-a449-45dd-b923-48d8024f40df",
   "metadata": {
    "id": "3e00ab91-a449-45dd-b923-48d8024f40df"
   },
   "outputs": [],
   "source": [
    "for index,row in eligible_for_df.iterrows():\n",
    "    g.add((BDM.scholarship+\"/\"+str(row['START_ID']),BDM.eligible_for,BDM.program+\"/\"+str(row['END_ID'])))"
   ]
  },
  {
   "cell_type": "markdown",
   "id": "8b6340e7-3203-49a1-8877-d1289cfdabda",
   "metadata": {
    "id": "8b6340e7-3203-49a1-8877-d1289cfdabda"
   },
   "source": [
    "### User"
   ]
  },
  {
   "cell_type": "code",
   "execution_count": 47,
   "id": "4c4dd393-d836-404d-a042-b940838c01d1",
   "metadata": {
    "id": "4c4dd393-d836-404d-a042-b940838c01d1"
   },
   "outputs": [],
   "source": [
    "for index,row in users_df.iterrows():\n",
    "    # Connect with the element\n",
    "    g.add((BDM.user+\"/\"+str(row['user_ID']),RDF.type,BDM.user))\n",
    "    # Load all the properties\n",
    "    g.add((BDM.user+\"/\"+str(row['user_ID']),BDM.user_ID, Literal(str(row['user_ID']), datatype=XSD.string)))\n",
    "    g.add((BDM.user+\"/\"+str(row['user_ID']),BDM.name, Literal(row['name'], datatype=XSD.string)))\n",
    "    g.add((BDM.user+\"/\"+str(row['user_ID']),BDM.email, Literal(row['email'], datatype=XSD.string)))\n",
    "    g.add((BDM.user+\"/\"+str(row['user_ID']),BDM.register_date, Literal(row['register_date'], datatype=XSD.date)))"
   ]
  },
  {
   "cell_type": "markdown",
   "id": "845a1c0d-3974-4d22-a250-45e5099525cb",
   "metadata": {
    "id": "845a1c0d-3974-4d22-a250-45e5099525cb"
   },
   "source": [
    "### Review"
   ]
  },
  {
   "cell_type": "code",
   "execution_count": 48,
   "id": "632565b3-5204-47ba-a91c-62e822bdd6a0",
   "metadata": {
    "id": "632565b3-5204-47ba-a91c-62e822bdd6a0"
   },
   "outputs": [],
   "source": [
    "for index,row in reviews_df.iterrows():\n",
    "    # Connect with the element\n",
    "    g.add((BDM.review+\"/\"+str(row['review_ID']),RDF.type,BDM.review))\n",
    "    # Load all the properties\n",
    "    g.add((BDM.review+\"/\"+str(row['review_ID']),BDM.review_ID, Literal(str(row['review_ID']), datatype=XSD.string)))\n",
    "    g.add((BDM.review+\"/\"+str(row['review_ID']),BDM.date, Literal(row['date'], datatype=XSD.date)))\n",
    "    g.add((BDM.review+\"/\"+str(row['review_ID']),BDM.comment, Literal(row['comment'], datatype=XSD.string)))\n",
    "    g.add((BDM.review+\"/\"+str(row['review_ID']),BDM.feedback, Literal(row['classification'], datatype=XSD.string)))\n",
    "    g.add((BDM.review+\"/\"+str(row['review_ID']),BDM.topic, Literal(row['top_token'], datatype=XSD.string)))"
   ]
  },
  {
   "cell_type": "markdown",
   "id": "03f6dd9b-5965-475c-ae6f-37db5841a224",
   "metadata": {
    "id": "03f6dd9b-5965-475c-ae6f-37db5841a224"
   },
   "source": [
    "### Opinion_of"
   ]
  },
  {
   "cell_type": "code",
   "execution_count": 49,
   "id": "f01881b0-d1e5-4dfa-94a9-d13ff7b1de34",
   "metadata": {
    "id": "f01881b0-d1e5-4dfa-94a9-d13ff7b1de34"
   },
   "outputs": [],
   "source": [
    "for index,row in opinions_df.iterrows():\n",
    "    g.add((BDM.review+\"/\"+str(row['START_ID']),BDM.opinion_of,BDM.program+\"/\"+str(row['END_ID'])))"
   ]
  },
  {
   "cell_type": "markdown",
   "id": "89e71a15-3c6a-4c5e-8850-5b659022f5d0",
   "metadata": {
    "id": "89e71a15-3c6a-4c5e-8850-5b659022f5d0"
   },
   "source": [
    "### Writes"
   ]
  },
  {
   "cell_type": "code",
   "execution_count": 50,
   "id": "fedd4f54-0753-4ef0-8c90-17d4c49bc0e8",
   "metadata": {
    "id": "fedd4f54-0753-4ef0-8c90-17d4c49bc0e8"
   },
   "outputs": [],
   "source": [
    "for index,row in writes_df.iterrows():\n",
    "    g.add((BDM.user+\"/\"+str(row['START_ID']),BDM.writes,BDM.review+\"/\"+str(row['END_ID'])))"
   ]
  },
  {
   "cell_type": "markdown",
   "id": "25f0bac9-bb90-48e5-8237-68cddc23c64a",
   "metadata": {
    "id": "25f0bac9-bb90-48e5-8237-68cddc23c64a"
   },
   "source": [
    "### Serialize"
   ]
  },
  {
   "cell_type": "code",
   "execution_count": 51,
   "id": "d6cb3b32-8db2-432e-aa48-2ed16d7e268e",
   "metadata": {
    "id": "d6cb3b32-8db2-432e-aa48-2ed16d7e268e"
   },
   "outputs": [
    {
     "data": {
      "text/plain": [
       "<Graph identifier=N53f55423170a4ed3aea6e7472aa83ad0 (<class 'rdflib.graph.Graph'>)>"
      ]
     },
     "execution_count": 51,
     "metadata": {},
     "output_type": "execute_result"
    }
   ],
   "source": [
    "g.serialize('abox.ttl',format='turtle')"
   ]
  },
  {
   "cell_type": "markdown",
   "id": "71dbe87a-e15e-452b-a91d-71b5de13a6a0",
   "metadata": {
    "id": "71dbe87a-e15e-452b-a91d-71b5de13a6a0"
   },
   "source": [
    "# Load the data in GraphDB"
   ]
  },
  {
   "cell_type": "markdown",
   "id": "88810dad-6bb0-4a3b-973a-19de0b164a1d",
   "metadata": {
    "id": "88810dad-6bb0-4a3b-973a-19de0b164a1d"
   },
   "source": [
    "We can load the graph and we will get something like this:"
   ]
  },
  {
   "attachments": {
    "208b38f0-c39b-4b6f-b037-d97a5134b1cd.png": {
     "image/png": "[encoded data removed]"
    }
   },
   "cell_type": "markdown",
   "id": "a8af824e-7f83-4ccc-8d4c-bd23bf547bdb",
   "metadata": {
    "id": "a8af824e-7f83-4ccc-8d4c-bd23bf547bdb"
   },
   "source": [
    "![schema.png](attachment:208b38f0-c39b-4b6f-b037-d97a5134b1cd.png)"
   ]
  }
 ],
 "metadata": {
  "colab": {
   "provenance": []
  },
  "kernelspec": {
   "display_name": "Python 3 (ipykernel)",
   "language": "python",
   "name": "python3"
  },
  "language_info": {
   "codemirror_mode": {
    "name": "ipython",
    "version": 3
   },
   "file_extension": ".py",
   "mimetype": "text/x-python",
   "name": "python",
   "nbconvert_exporter": "python",
   "pygments_lexer": "ipython3",
   "version": "3.10.12"
  }
 },
 "nbformat": 4,
 "nbformat_minor": 5
}
