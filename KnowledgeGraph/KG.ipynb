{
 "cells": [
  {
   "cell_type": "markdown",
   "id": "3b74ba19-8b2c-42d1-999c-0e3a631233e5",
   "metadata": {},
   "source": [
    "# Creation of the KG"
   ]
  },
  {
   "cell_type": "markdown",
   "id": "007da55e-95f5-4e76-b7e2-10420fa1573d",
   "metadata": {},
   "source": [
    "First, let us upload all the information"
   ]
  },
  {
   "cell_type": "code",
   "execution_count": 1,
   "id": "e86092e1-8dd6-4a05-9a4e-042ef2fab000",
   "metadata": {},
   "outputs": [],
   "source": [
    "import pandas as pd\n",
    "\n",
    "programs_df = pd.read_csv('dfs/programs.csv',sep='=')\n",
    "universities_df = pd.read_csv('dfs/universities.csv',sep='=')\n",
    "from_df = pd.read_csv('dfs/from.csv',sep='=')\n",
    "scholarships_df = pd.read_csv('dfs/scholarships.csv',sep='=')\n",
    "eligible_for_df = pd.read_csv('dfs/eligible_for.csv',sep='=')\n",
    "reviews_df = pd.read_csv('dfs/reviews.csv',sep='=')\n",
    "opinions_df = pd.read_csv('dfs/opinions.csv',sep='=')\n",
    "users_df = pd.read_csv('dfs/users.csv',sep='=')\n",
    "writes_df = pd.read_csv('dfs/writes.csv',sep='=')\n",
    "recommended_df = pd.read_csv('dfs/recommends.csv',sep='=')"
   ]
  },
  {
   "cell_type": "markdown",
   "id": "cb3adeb3-b235-4b35-aef9-84a9ce77c361",
   "metadata": {},
   "source": [
    "## TBOX Definition"
   ]
  },
  {
   "cell_type": "code",
   "execution_count": 2,
   "id": "7d536d1a-78da-401f-884a-76bacedb453b",
   "metadata": {},
   "outputs": [],
   "source": [
    "from rdflib import Graph, Namespace, Literal\n",
    "from rdflib.namespace import RDFS, RDF, XSD"
   ]
  },
  {
   "cell_type": "markdown",
   "id": "44e8c58e-d2c5-4505-91cc-4eec637c5509",
   "metadata": {
    "id": "fc37f9dd-acd3-4a01-a44f-e165a015b633"
   },
   "source": [
    "Define the namespace,"
   ]
  },
  {
   "cell_type": "code",
   "execution_count": 3,
   "id": "d0b517a4-d998-4ceb-a2a1-32460a098b22",
   "metadata": {
    "id": "c646cdee-f2ce-406e-b353-12ee332da2cc"
   },
   "outputs": [],
   "source": [
    "BDM = Namespace('http://www.example.edu/')"
   ]
  },
  {
   "cell_type": "markdown",
   "id": "fc6d99f0-ac38-45ba-91d9-25f7305c835b",
   "metadata": {
    "id": "f0deca0a-d493-4b48-aa0e-3bd8e925f495"
   },
   "source": [
    "In this section, we want to define the TBOX, that is, the conceptual level of entities and their inter-relationships."
   ]
  },
  {
   "cell_type": "code",
   "execution_count": 4,
   "id": "a14f97fb-115b-4717-a7f5-085a4b776255",
   "metadata": {
    "id": "33ef648d-9f88-420b-947e-a9fdfa711bf7"
   },
   "outputs": [],
   "source": [
    "g = Graph()\n",
    "g.bind(\"BDM\", BDM)"
   ]
  },
  {
   "cell_type": "markdown",
   "id": "63ba420e-ca62-4a19-b320-99a6c64fd46e",
   "metadata": {
    "id": "39b307f6-ca1b-4a67-abf0-e603a1ba27d5"
   },
   "source": [
    "### Classes"
   ]
  },
  {
   "cell_type": "code",
   "execution_count": 5,
   "id": "e87cd194-6c8c-420d-b466-c093260f7101",
   "metadata": {
    "id": "d15794eb-14fa-4e81-85d5-c9062da54aad"
   },
   "outputs": [
    {
     "data": {
      "text/plain": [
       "<Graph identifier=N9954af85338542e0bf775d1e63656b12 (<class 'rdflib.graph.Graph'>)>"
      ]
     },
     "execution_count": 5,
     "metadata": {},
     "output_type": "execute_result"
    }
   ],
   "source": [
    "g.add((BDM.program,RDF.type,RDFS.Class))\n",
    "g.add((BDM.university,RDF.type,RDFS.Class))\n",
    "g.add((BDM.scholarship,RDF.type,RDFS.Class))\n",
    "g.add((BDM.review,RDF.type,RDFS.Class))\n",
    "g.add((BDM.user,RDF.type,RDFS.Class))"
   ]
  },
  {
   "cell_type": "markdown",
   "id": "a541ee83-1f01-41cd-b383-45026ff65e37",
   "metadata": {
    "id": "fa063352-70df-445c-8c5f-631cd33e8050"
   },
   "source": [
    "### Subclasses"
   ]
  },
  {
   "cell_type": "code",
   "execution_count": 6,
   "id": "5a064dd3-3fd9-4417-aed1-c956e7019b3d",
   "metadata": {
    "id": "c8548a10-d065-4918-ba9f-23b80813cc0a"
   },
   "outputs": [
    {
     "data": {
      "text/plain": [
       "<Graph identifier=N9954af85338542e0bf775d1e63656b12 (<class 'rdflib.graph.Graph'>)>"
      ]
     },
     "execution_count": 6,
     "metadata": {},
     "output_type": "execute_result"
    }
   ],
   "source": [
    "g.add((BDM.bachelor,RDFS.subClassOf,BDM.program))\n",
    "g.add((BDM.master,RDFS.subClassOf,BDM.program))"
   ]
  },
  {
   "cell_type": "markdown",
   "id": "d93b094d-fb61-4dfd-be9b-00a608b114c3",
   "metadata": {
    "id": "ab12c2f6-78e2-4add-a216-a4996c99d471"
   },
   "source": [
    "### Properties"
   ]
  },
  {
   "cell_type": "code",
   "execution_count": 7,
   "id": "b6c3a5cc-9f74-4c4d-83ec-a9ac25c975f8",
   "metadata": {
    "id": "0c3a2300-f933-431e-b109-81943d59800a"
   },
   "outputs": [
    {
     "data": {
      "text/plain": [
       "<Graph identifier=N9954af85338542e0bf775d1e63656b12 (<class 'rdflib.graph.Graph'>)>"
      ]
     },
     "execution_count": 7,
     "metadata": {},
     "output_type": "execute_result"
    }
   ],
   "source": [
    "# For the properties of program:\n",
    "g.add((BDM.program_ID,RDF.type,RDF.Property))\n",
    "g.add((BDM.program_ID,RDFS.domain,BDM.program))\n",
    "\n",
    "g.add((BDM.title,RDF.type,RDF.Property))\n",
    "g.add((BDM.title,RDFS.domain,BDM.program))\n",
    "\n",
    "g.add((BDM.desciption,RDF.type,RDF.Property))\n",
    "g.add((BDM.description,RDFS.domain,BDM.program))\n",
    "\n",
    "g.add((BDM.url,RDF.type,RDF.Property))\n",
    "g.add((BDM.url,RDFS.domain,BDM.program))\n",
    "\n",
    "g.add((BDM.duration,RDF.type,RDF.Property))\n",
    "g.add((BDM.duration,RDFS.domain,BDM.program))\n",
    "\n",
    "g.add((BDM.ap_date,RDF.type,RDF.Property))\n",
    "g.add((BDM.ap_date,RDFS.domain,BDM.program))\n",
    "\n",
    "g.add((BDM.st_date,RDF.type,RDF.Property))\n",
    "g.add((BDM.st_date,RDFS.domain,BDM.program))\n",
    "\n",
    "g.add((BDM.score,RDF.type,RDF.Property))\n",
    "g.add((BDM.score,RDFS.domain,BDM.program))\n",
    "\n",
    "g.add((BDM.eng_lvl,RDF.type,RDF.Property))\n",
    "g.add((BDM.eng_lvl,RDFS.domain,BDM.program))\n",
    "\n",
    "g.add((BDM.spa_lvl,RDF.type,RDF.Property))\n",
    "g.add((BDM.spa_lvl,RDFS.domain,BDM.program))\n",
    "\n",
    "g.add((BDM.bachelor_needed,RDF.type,RDF.Property))\n",
    "g.add((BDM.bachelor_needed,RDFS.domain,BDM.program))\n",
    "\n",
    "# For the properties of university:\n",
    "g.add((BDM.uni_ID,RDF.type,RDF.Property))\n",
    "g.add((BDM.uni_ID,RDFS.domain,BDM.university))\n",
    "\n",
    "g.add((BDM.name,RDF.type,RDF.Property))\n",
    "g.add((BDM.name,RDFS.domain,BDM.university))\n",
    "\n",
    "g.add((BDM.location,RDF.type,RDF.Property))\n",
    "g.add((BDM.location,RDFS.domain,BDM.university))\n",
    "\n",
    "# For the properties of scholarship:\n",
    "g.add((BDM.sch_ID,RDF.type,RDF.Property))\n",
    "g.add((BDM.sch_ID,RDFS.domain,BDM.scholarship))\n",
    "\n",
    "g.add((BDM.award_name,RDF.type,RDF.Property))\n",
    "g.add((BDM.award_name,RDFS.domain,BDM.scholarship))\n",
    "\n",
    "g.add((BDM.deadline,RDF.type,RDF.Property))\n",
    "g.add((BDM.deadline,RDFS.domain,BDM.scholarship))\n",
    "\n",
    "g.add((BDM.score,RDF.type,RDF.Property))\n",
    "g.add((BDM.score,RDFS.domain,BDM.scholarship))\n",
    "\n",
    "g.add((BDM.eng_lvl,RDF.type,RDF.Property))\n",
    "g.add((BDM.eng_lvl,RDFS.domain,BDM.scholarship))\n",
    "\n",
    "g.add((BDM.spa_lvl,RDF.type,RDF.Property))\n",
    "g.add((BDM.spa_lvl,RDFS.domain,BDM.scholarship))\n",
    "\n",
    "g.add((BDM.bachelor_needed,RDF.type,RDF.Property))\n",
    "g.add((BDM.bachelor_needed,RDFS.domain,BDM.scholarship))\n",
    "\n",
    "g.add((BDM.nationality,RDF.type,RDF.Property))\n",
    "g.add((BDM.nationality,RDFS.domain,BDM.scholarship))\n",
    "\n",
    "g.add((BDM.amount,RDF.type,RDF.Property))\n",
    "g.add((BDM.amount,RDFS.domain,BDM.scholarship))\n",
    "\n",
    "g.add((BDM.num_awards,RDF.type,RDF.Property))\n",
    "g.add((BDM.num_awards,RDFS.domain,BDM.scholarship))\n",
    "\n",
    "g.add((BDM.min_age,RDF.type,RDF.Property))\n",
    "g.add((BDM.min_age,RDFS.domain,BDM.scholarship))\n",
    "\n",
    "g.add((BDM.max_age,RDF.type,RDF.Property))\n",
    "g.add((BDM.max_age,RDFS.domain,BDM.scholarship))\n",
    "\n",
    "g.add((BDM.academic_perf,RDF.type,RDF.Property))\n",
    "g.add((BDM.academic_perf,RDFS.domain,BDM.scholarship))\n",
    "\n",
    "# For the properties of user:\n",
    "g.add((BDM.user_ID,RDF.type,RDF.Property))\n",
    "g.add((BDM.user_ID,RDFS.domain,BDM.user))\n",
    "\n",
    "g.add((BDM.name,RDF.type,RDF.Property))\n",
    "g.add((BDM.name,RDFS.domain,BDM.user))\n",
    "\n",
    "g.add((BDM.email,RDF.type,RDF.Property))\n",
    "g.add((BDM.email,RDFS.domain,BDM.user))\n",
    "\n",
    "g.add((BDM.register_date,RDF.type,RDF.Property))\n",
    "g.add((BDM.register_date,RDFS.domain,BDM.user))\n",
    "\n",
    "# For the properties of review:\n",
    "g.add((BDM.review_ID,RDF.type,RDF.Property))\n",
    "g.add((BDM.review_ID,RDFS.domain,BDM.review))\n",
    "\n",
    "g.add((BDM.date,RDF.type,RDF.Property))\n",
    "g.add((BDM.date,RDFS.domain,BDM.review))\n",
    "\n",
    "g.add((BDM.comment,RDF.type,RDF.Property))\n",
    "g.add((BDM.comment,RDFS.domain,BDM.review))\n",
    "\n",
    "g.add((BDM.feedback,RDF.type,RDF.Property))\n",
    "g.add((BDM.feedback,RDFS.domain,BDM.review))\n",
    "\n",
    "g.add((BDM.topic,RDF.type,RDF.Property))\n",
    "g.add((BDM.topic,RDFS.domain,BDM.review))"
   ]
  },
  {
   "cell_type": "markdown",
   "id": "3c8f53e6-0bbf-46eb-b568-7897e8abb2bb",
   "metadata": {
    "id": "bfc5832b-df83-460e-a464-8fde003a5ad4"
   },
   "source": [
    "### Relationships"
   ]
  },
  {
   "cell_type": "code",
   "execution_count": 8,
   "id": "50dbed8c-a131-4589-9784-acce8b236380",
   "metadata": {
    "id": "8e2e4279-d74c-4b08-8d2d-e736537d7a4e"
   },
   "outputs": [
    {
     "data": {
      "text/plain": [
       "<Graph identifier=N9954af85338542e0bf775d1e63656b12 (<class 'rdflib.graph.Graph'>)>"
      ]
     },
     "execution_count": 8,
     "metadata": {},
     "output_type": "execute_result"
    }
   ],
   "source": [
    "# For the relationship between Program and University:\n",
    "g.add((BDM.from_uni,RDF.type,RDF.Property))\n",
    "g.add((BDM.from_uni,RDFS.domain,BDM.program))\n",
    "g.add((BDM.from_uni,RDFS.range,BDM.university))\n",
    "g.add((BDM.program,BDM.from_uni,BDM.university))\n",
    "\n",
    "# For the relationship between Scholarship and University\n",
    "g.add((BDM.eligible_for,RDF.type,RDF.Property))\n",
    "g.add((BDM.eligible_for,RDFS.domain,BDM.scholarship))\n",
    "g.add((BDM.eligible_for,RDFS.range,BDM.program))\n",
    "g.add((BDM.scholarship,BDM.eligible_for,BDM.program))\n",
    "\n",
    "# For the relationship between Review and Program\n",
    "g.add((BDM.opinion_of,RDF.type,RDF.Property))\n",
    "g.add((BDM.opinion_of,RDFS.domain,BDM.review))\n",
    "g.add((BDM.opinion_of,RDFS.range,BDM.program))\n",
    "g.add((BDM.review,BDM.opinion_of,BDM.program))\n",
    "\n",
    "# For the relationship between User and Review\n",
    "g.add((BDM.writes,RDF.type,RDF.Property))\n",
    "g.add((BDM.writes,RDFS.domain,BDM.user))\n",
    "g.add((BDM.writes,RDFS.range,BDM.review))\n",
    "g.add((BDM.user,BDM.writes,BDM.review))\n",
    "\n",
    "# For the relationship between Program and Program\n",
    "g.add((BDM.recommends,RDF.type,RDF.Property))\n",
    "g.add((BDM.recommends,RDFS.domain,BDM.program))\n",
    "g.add((BDM.recommends,RDFS.range,BDM.program))\n",
    "g.add((BDM.program,BDM.recommends,BDM.program))"
   ]
  },
  {
   "cell_type": "markdown",
   "id": "dbc783b5-aa33-4146-a60d-ad192b4942cd",
   "metadata": {
    "id": "2e43271d-1a6d-4499-b4cc-608c678581bf"
   },
   "source": [
    "### Serialize"
   ]
  },
  {
   "cell_type": "code",
   "execution_count": 9,
   "id": "b55d342c-a994-4a36-9b1e-fc208c84fa07",
   "metadata": {
    "id": "1a2a6821-c324-454e-b47f-eaceea299c61"
   },
   "outputs": [
    {
     "data": {
      "text/plain": [
       "<Graph identifier=N9954af85338542e0bf775d1e63656b12 (<class 'rdflib.graph.Graph'>)>"
      ]
     },
     "execution_count": 9,
     "metadata": {},
     "output_type": "execute_result"
    }
   ],
   "source": [
    "g.serialize('tbox.ttl',format='turtle')"
   ]
  },
  {
   "cell_type": "markdown",
   "id": "0ded4434-272c-4daa-a36d-4b1c3222c26a",
   "metadata": {
    "id": "21928b8d-bb2f-45f0-98fa-2308924e54d8"
   },
   "source": [
    "## ABOX Definition"
   ]
  },
  {
   "cell_type": "markdown",
   "id": "1b08c362-d573-4799-a62e-8eafbbedf821",
   "metadata": {
    "id": "e15f4486-f405-4b34-8e9e-e93c0e89e033"
   },
   "source": [
    "### Pogram (Bachelor and Master)"
   ]
  },
  {
   "cell_type": "code",
   "execution_count": 10,
   "id": "426637e3-c044-40f4-99ec-37ec162ab7ff",
   "metadata": {
    "id": "433c1632-d6df-41ca-a1f5-a20d922cad03"
   },
   "outputs": [],
   "source": [
    "for index,row in programs_df.iterrows():\n",
    "    if row['Type'] == 'Bachelor':\n",
    "        # Connect with the element\n",
    "        g.add((BDM.program+\"/\"+str(row['program_ID']),RDF.type,BDM.bachelor))\n",
    "    else:\n",
    "        # Connect with the element\n",
    "        g.add((BDM.program+\"/\"+str(row['program_ID']),RDF.type,BDM.master))\n",
    "\n",
    "    # Load all the properties\n",
    "    g.add((BDM.program+\"/\"+str(row['program_ID']),BDM.program_ID, Literal(str(row['program_ID']), datatype=XSD.string)))\n",
    "    g.add((BDM.program+\"/\"+str(row['program_ID']),BDM.title, Literal(row['Title'], datatype=XSD.string)))\n",
    "    g.add((BDM.program+\"/\"+str(row['program_ID']),BDM.description, Literal(row['Description'], datatype=XSD.string)))\n",
    "    g.add((BDM.program+\"/\"+str(row['program_ID']),BDM.url, Literal(row['URL'], datatype=XSD.string)))\n",
    "    g.add((BDM.program+\"/\"+str(row['program_ID']),BDM.duration, Literal(row['Duration'], datatype=XSD.int)))\n",
    "    g.add((BDM.program+\"/\"+str(row['program_ID']),BDM.ap_date, Literal(row['ApplicationDate'], datatype=XSD.string)))\n",
    "    g.add((BDM.program+\"/\"+str(row['program_ID']),BDM.st_date, Literal(row['StartingDate'], datatype=XSD.string)))\n",
    "    g.add((BDM.program+\"/\"+str(row['program_ID']),BDM.score, Literal(row['EligibleScore'], datatype=XSD.int)))\n",
    "    g.add((BDM.program+\"/\"+str(row['program_ID']),BDM.eng_lvl, Literal(row['EnglishLvl'], datatype=XSD.string)))\n",
    "    g.add((BDM.program+\"/\"+str(row['program_ID']),BDM.spa_lvl, Literal(row['SpanishLvl'], datatype=XSD.string)))\n",
    "    g.add((BDM.program+\"/\"+str(row['program_ID']),BDM.bachelor_needed, Literal(row['BachelorNeeded'], datatype=XSD.string)))"
   ]
  },
  {
   "cell_type": "markdown",
   "id": "e7683e27-18ae-4f8e-ab30-64291ec4a38c",
   "metadata": {},
   "source": [
    "### Recommends"
   ]
  },
  {
   "cell_type": "code",
   "execution_count": 11,
   "id": "201210e3-b0f4-4187-a0ac-1da82375b7eb",
   "metadata": {},
   "outputs": [],
   "source": [
    "for index,row in recommended_df.iterrows():\n",
    "    g.add((BDM.program+\"/\"+str(row['START_ID']),BDM.recommends,BDM.program+\"/\"+str(row['END_ID'])))"
   ]
  },
  {
   "cell_type": "markdown",
   "id": "4e6380a4-b6e2-49a2-9dab-f785b089db39",
   "metadata": {
    "id": "e6272b08-6ed6-4f5b-8f1b-09d3257ebf5d"
   },
   "source": [
    "### University"
   ]
  },
  {
   "cell_type": "code",
   "execution_count": 12,
   "id": "d112331b-5b58-4a12-8fd6-c0f124fa6c7e",
   "metadata": {
    "id": "f697f7ce-0339-49b0-b9b4-47ba38398a04"
   },
   "outputs": [],
   "source": [
    "for index,row in universities_df.iterrows():\n",
    "    # Connect with the element\n",
    "    g.add((BDM.university+\"/\"+str(row['ID']),RDF.type,BDM.university))\n",
    "    # Load all the properties\n",
    "    g.add((BDM.university+\"/\"+str(row['ID']),BDM.uni_ID, Literal(str(row['ID']), datatype=XSD.string)))\n",
    "    g.add((BDM.university+\"/\"+str(row['ID']),BDM.name, Literal(row['Name'], datatype=XSD.string)))\n",
    "    g.add((BDM.university+\"/\"+str(row['ID']),BDM.location, Literal(row['Location'], datatype=XSD.string)))"
   ]
  },
  {
   "cell_type": "markdown",
   "id": "4de7c445-795a-4d24-9eec-23601129f456",
   "metadata": {
    "id": "c307e487-872d-4983-9426-7e95306d27b4"
   },
   "source": [
    "### From"
   ]
  },
  {
   "cell_type": "code",
   "execution_count": 13,
   "id": "9215e6a9-d203-4b7b-bd6c-1dbf64d90bba",
   "metadata": {
    "id": "1b004eb7-bcfe-43e3-ba3c-b3ae0072e888"
   },
   "outputs": [],
   "source": [
    "for index,row in from_df.iterrows():\n",
    "    g.add((BDM.program+\"/\"+str(row['START_ID']),BDM.from_uni,BDM.university+\"/\"+str(row['END_ID'])))"
   ]
  },
  {
   "cell_type": "markdown",
   "id": "66826cb8-89eb-4d9c-acb1-c78252cf0286",
   "metadata": {
    "id": "8a230789-609c-4390-9fa7-56c2b9e2ddd6"
   },
   "source": [
    "### Scholarship"
   ]
  },
  {
   "cell_type": "code",
   "execution_count": 14,
   "id": "00b58817-5cdb-4976-8c7b-2030aeb74bbc",
   "metadata": {
    "id": "a1779e4f-335b-4f8e-8cae-567dabd59f2d"
   },
   "outputs": [],
   "source": [
    "for index,row in scholarships_df.iterrows():\n",
    "    # Connect with the element\n",
    "    g.add((BDM.scholarship+\"/\"+str(row['ID']),RDF.type,BDM.scholarship))\n",
    "    # Load all the properties\n",
    "    g.add((BDM.scholarship+\"/\"+str(row['ID']),BDM.sch_ID, Literal(str(row['ID']), datatype=XSD.string)))\n",
    "    g.add((BDM.scholarship+\"/\"+str(row['ID']),BDM.award_name, Literal(row['AwardName'], datatype=XSD.string)))\n",
    "    g.add((BDM.scholarship+\"/\"+str(row['ID']),BDM.deadline, Literal(row['Deadline'], datatype=XSD.string)))\n",
    "    g.add((BDM.scholarship+\"/\"+str(row['ID']),BDM.deadline, Literal(row['Deadline'], datatype=XSD.string)))\n",
    "    g.add((BDM.scholarship+\"/\"+str(row['ID']),BDM.score, Literal(row['EligibleScore'], datatype=XSD.int)))\n",
    "    g.add((BDM.scholarship+\"/\"+str(row['ID']),BDM.eng_lvl, Literal(row['EnglishLvl'], datatype=XSD.string)))\n",
    "    g.add((BDM.scholarship+\"/\"+str(row['ID']),BDM.bachelor_needed, Literal(row['BachelorNeeded'], datatype=XSD.string)))\n",
    "    g.add((BDM.scholarship+\"/\"+str(row['ID']),BDM.spa_lvl, Literal(row['SpanishLvl'], datatype=XSD.string)))\n",
    "    g.add((BDM.scholarship+\"/\"+str(row['ID']),BDM.nationality, Literal(row['Nationality'], datatype=XSD.string)))\n",
    "    g.add((BDM.scholarship+\"/\"+str(row['ID']),BDM.amount, Literal(row['Amount'], datatype=XSD.string)))\n",
    "    g.add((BDM.scholarship+\"/\"+str(row['ID']),BDM.num_awards, Literal(row['NumAwards'], datatype=XSD.string)))\n",
    "    g.add((BDM.scholarship+\"/\"+str(row['ID']),BDM.min_age, Literal(row['MinAge'], datatype=XSD.string)))\n",
    "    g.add((BDM.scholarship+\"/\"+str(row['ID']),BDM.max_age, Literal(row['MaxAge'], datatype=XSD.string)))\n",
    "    g.add((BDM.scholarship+\"/\"+str(row['ID']),BDM.acedemic_perf, Literal(row['AcademicPerformance'], datatype=XSD.string)))"
   ]
  },
  {
   "cell_type": "markdown",
   "id": "fa3e6651-7d26-4d78-aff0-88f8fb7acd32",
   "metadata": {
    "id": "990dfe6e-3a4e-4b9b-8ad8-1a0af1b2ab79"
   },
   "source": [
    "### Eligible_for"
   ]
  },
  {
   "cell_type": "code",
   "execution_count": 15,
   "id": "6044deb0-736b-4a33-80c8-4a689d624f6b",
   "metadata": {
    "id": "3e00ab91-a449-45dd-b923-48d8024f40df"
   },
   "outputs": [],
   "source": [
    "for index,row in eligible_for_df.iterrows():\n",
    "    g.add((BDM.scholarship+\"/\"+str(row['START_ID']),BDM.eligible_for,BDM.program+\"/\"+str(row['END_ID'])))"
   ]
  },
  {
   "cell_type": "markdown",
   "id": "00759c08-4316-4b27-a2ac-a722c0158a53",
   "metadata": {
    "id": "8b6340e7-3203-49a1-8877-d1289cfdabda"
   },
   "source": [
    "### User"
   ]
  },
  {
   "cell_type": "code",
   "execution_count": 16,
   "id": "1829f201-cd65-477f-94e1-b3833d1d80d7",
   "metadata": {
    "id": "4c4dd393-d836-404d-a042-b940838c01d1"
   },
   "outputs": [],
   "source": [
    "for index,row in users_df.iterrows():\n",
    "    # Connect with the element\n",
    "    g.add((BDM.user+\"/\"+str(row['user_ID']),RDF.type,BDM.user))\n",
    "    # Load all the properties\n",
    "    g.add((BDM.user+\"/\"+str(row['user_ID']),BDM.user_ID, Literal(str(row['user_ID']), datatype=XSD.string)))\n",
    "    g.add((BDM.user+\"/\"+str(row['user_ID']),BDM.name, Literal(row['name'], datatype=XSD.string)))\n",
    "    g.add((BDM.user+\"/\"+str(row['user_ID']),BDM.email, Literal(row['email'], datatype=XSD.string)))\n",
    "    g.add((BDM.user+\"/\"+str(row['user_ID']),BDM.register_date, Literal(row['register_date'], datatype=XSD.date)))"
   ]
  },
  {
   "cell_type": "markdown",
   "id": "b0f2ea85-3ba5-45ea-86fe-fb03fbfac67a",
   "metadata": {
    "id": "845a1c0d-3974-4d22-a250-45e5099525cb"
   },
   "source": [
    "### Review"
   ]
  },
  {
   "cell_type": "code",
   "execution_count": 17,
   "id": "c9cafa60-75f5-454c-90a3-7e310ac72610",
   "metadata": {
    "id": "632565b3-5204-47ba-a91c-62e822bdd6a0"
   },
   "outputs": [],
   "source": [
    "for index,row in reviews_df.iterrows():\n",
    "    # Connect with the element\n",
    "    g.add((BDM.review+\"/\"+str(row['review_ID']),RDF.type,BDM.review))\n",
    "    # Load all the properties\n",
    "    g.add((BDM.review+\"/\"+str(row['review_ID']),BDM.review_ID, Literal(str(row['review_ID']), datatype=XSD.string)))\n",
    "    g.add((BDM.review+\"/\"+str(row['review_ID']),BDM.date, Literal(row['date'], datatype=XSD.date)))\n",
    "    g.add((BDM.review+\"/\"+str(row['review_ID']),BDM.comment, Literal(row['comment'], datatype=XSD.string)))\n",
    "    g.add((BDM.review+\"/\"+str(row['review_ID']),BDM.feedback, Literal(row['classification'], datatype=XSD.string)))\n",
    "    g.add((BDM.review+\"/\"+str(row['review_ID']),BDM.topic, Literal(row['top_token'], datatype=XSD.string)))"
   ]
  },
  {
   "cell_type": "markdown",
   "id": "da87318d-b1bc-45d4-a877-0a8c0798133b",
   "metadata": {
    "id": "03f6dd9b-5965-475c-ae6f-37db5841a224"
   },
   "source": [
    "### Opinion_of"
   ]
  },
  {
   "cell_type": "code",
   "execution_count": 18,
   "id": "6d6c7839-4d3d-4585-81d1-7c981c2ea88e",
   "metadata": {
    "id": "f01881b0-d1e5-4dfa-94a9-d13ff7b1de34"
   },
   "outputs": [],
   "source": [
    "for index,row in opinions_df.iterrows():\n",
    "    g.add((BDM.review+\"/\"+str(row['START_ID']),BDM.opinion_of,BDM.program+\"/\"+str(row['END_ID'])))"
   ]
  },
  {
   "cell_type": "markdown",
   "id": "76812b02-e4e7-48bd-a7cd-f6e988707e42",
   "metadata": {
    "id": "89e71a15-3c6a-4c5e-8850-5b659022f5d0"
   },
   "source": [
    "### Writes"
   ]
  },
  {
   "cell_type": "code",
   "execution_count": 19,
   "id": "a814eaab-babe-4471-954c-be0833018258",
   "metadata": {
    "id": "fedd4f54-0753-4ef0-8c90-17d4c49bc0e8"
   },
   "outputs": [],
   "source": [
    "for index,row in writes_df.iterrows():\n",
    "    g.add((BDM.user+\"/\"+str(row['START_ID']),BDM.writes,BDM.review+\"/\"+str(row['END_ID'])))"
   ]
  },
  {
   "cell_type": "markdown",
   "id": "1c3c310f-487a-484e-8c44-b4f9c711c02c",
   "metadata": {
    "id": "25f0bac9-bb90-48e5-8237-68cddc23c64a"
   },
   "source": [
    "### Serialize"
   ]
  },
  {
   "cell_type": "code",
   "execution_count": 20,
   "id": "5a1cf7ea-da51-4932-858b-9e4cb2c74a18",
   "metadata": {
    "id": "d6cb3b32-8db2-432e-aa48-2ed16d7e268e"
   },
   "outputs": [
    {
     "data": {
      "text/plain": [
       "<Graph identifier=N9954af85338542e0bf775d1e63656b12 (<class 'rdflib.graph.Graph'>)>"
      ]
     },
     "execution_count": 20,
     "metadata": {},
     "output_type": "execute_result"
    }
   ],
   "source": [
    "g.serialize('abox.ttl',format='turtle')"
   ]
  },
  {
   "cell_type": "markdown",
   "id": "a26a78e3-524d-4db6-8130-9b317a04609b",
   "metadata": {},
   "source": [
    "# Community detection for programs"
   ]
  },
  {
   "cell_type": "markdown",
   "id": "8620d992-fa1c-45fc-ba17-0a8cb4297c78",
   "metadata": {},
   "source": [
    "In addition, let us create a community detection algorithm for our graph. What we will do is find all the programs and universities in the ontology and assign them a certain community."
   ]
  },
  {
   "cell_type": "code",
   "execution_count": 39,
   "id": "cd7ded3d-2398-4a0f-ae86-bbde7b18624c",
   "metadata": {
    "scrolled": true
   },
   "outputs": [
    {
     "data": {
      "image/png": "[encoded data removed]",
      "text/plain": [
       "<Figure size 1200x1200 with 1 Axes>"
      ]
     },
     "metadata": {},
     "output_type": "display_data"
    }
   ],
   "source": [
    "import networkx as nx\n",
    "import community as community_louvain\n",
    "import matplotlib.pyplot as plt\n",
    "\n",
    "# Convert RDFLib graph to NetworkX graph\n",
    "nx_graph = nx.Graph()\n",
    "\n",
    "# We filter the programs and universities in the graph\n",
    "for s, p, o in g:\n",
    "    if str(p) == 'http://www.example.edu/from_uni':\n",
    "        nx_graph.add_edge(s, o)\n",
    "\n",
    "# Apply Louvain method for community detection\n",
    "partition = community_louvain.best_partition(nx_graph)\n",
    "\n",
    "# Create a color map for visualization\n",
    "communities = set(partition.values())\n",
    "color_map = {community: plt.cm.tab20(i) for i, community in enumerate(communities)}\n",
    "\n",
    "# Draw the graph\n",
    "pos = nx.spring_layout(nx_graph)  # Position the nodes using the spring layout\n",
    "plt.figure(figsize=(12, 12))\n",
    "\n",
    "# Draw nodes with colors based on community\n",
    "for node, community in partition.items():\n",
    "    nx.draw_networkx_nodes(nx_graph, pos, [node], node_size=300, node_color=[color_map[community]])\n",
    "\n",
    "# Draw edges\n",
    "nx.draw_networkx_edges(nx_graph, pos, alpha=0.5)\n",
    "\n",
    "plt.show()"
   ]
  },
  {
   "cell_type": "code",
   "execution_count": 42,
   "id": "56457159-7d29-40fe-8f74-774abde5bc8b",
   "metadata": {},
   "outputs": [],
   "source": [
    "# Save nodes and their communities to a file\n",
    "with open(\"nodes_with_communities.txt\", \"w\") as file:\n",
    "    for node, community in partition.items():\n",
    "        file.write(f\"{node};{community}\\n\")"
   ]
  },
  {
   "cell_type": "markdown",
   "id": "ace4e588-98ad-4cf2-a5ba-1238ad385a49",
   "metadata": {},
   "source": [
    "# Add the new feature into the ontology"
   ]
  },
  {
   "cell_type": "code",
   "execution_count": 19,
   "id": "2dad35d4-dd74-42a0-974b-25f47984bca1",
   "metadata": {},
   "outputs": [
    {
     "data": {
      "text/html": [
       "<div>\n",
       "<style scoped>\n",
       "    .dataframe tbody tr th:only-of-type {\n",
       "        vertical-align: middle;\n",
       "    }\n",
       "\n",
       "    .dataframe tbody tr th {\n",
       "        vertical-align: top;\n",
       "    }\n",
       "\n",
       "    .dataframe thead th {\n",
       "        text-align: right;\n",
       "    }\n",
       "</style>\n",
       "<table border=\"1\" class=\"dataframe\">\n",
       "  <thead>\n",
       "    <tr style=\"text-align: right;\">\n",
       "      <th></th>\n",
       "      <th>uri</th>\n",
       "      <th>com_id</th>\n",
       "    </tr>\n",
       "  </thead>\n",
       "  <tbody>\n",
       "    <tr>\n",
       "      <th>0</th>\n",
       "      <td>http://www.example.edu/program/998</td>\n",
       "      <td>1</td>\n",
       "    </tr>\n",
       "    <tr>\n",
       "      <th>1</th>\n",
       "      <td>http://www.example.edu/university/58</td>\n",
       "      <td>1</td>\n",
       "    </tr>\n",
       "    <tr>\n",
       "      <th>2</th>\n",
       "      <td>http://www.example.edu/program/9025</td>\n",
       "      <td>3</td>\n",
       "    </tr>\n",
       "    <tr>\n",
       "      <th>3</th>\n",
       "      <td>http://www.example.edu/university/68</td>\n",
       "      <td>3</td>\n",
       "    </tr>\n",
       "    <tr>\n",
       "      <th>4</th>\n",
       "      <td>http://www.example.edu/program/9357</td>\n",
       "      <td>5</td>\n",
       "    </tr>\n",
       "  </tbody>\n",
       "</table>\n",
       "</div>"
      ],
      "text/plain": [
       "                                    uri  com_id\n",
       "0    http://www.example.edu/program/998       1\n",
       "1  http://www.example.edu/university/58       1\n",
       "2   http://www.example.edu/program/9025       3\n",
       "3  http://www.example.edu/university/68       3\n",
       "4   http://www.example.edu/program/9357       5"
      ]
     },
     "execution_count": 19,
     "metadata": {},
     "output_type": "execute_result"
    }
   ],
   "source": [
    "import pandas as pd\n",
    "\n",
    "com = pd.read_csv('nodes_with_communities.txt',sep=';',names=['uri', 'com_id'], header=None)\n",
    "com.head()"
   ]
  },
  {
   "cell_type": "code",
   "execution_count": 20,
   "id": "bba6e43d-f0d2-46ad-8950-43609f23fb6c",
   "metadata": {},
   "outputs": [
    {
     "data": {
      "text/html": [
       "<div>\n",
       "<style scoped>\n",
       "    .dataframe tbody tr th:only-of-type {\n",
       "        vertical-align: middle;\n",
       "    }\n",
       "\n",
       "    .dataframe tbody tr th {\n",
       "        vertical-align: top;\n",
       "    }\n",
       "\n",
       "    .dataframe thead th {\n",
       "        text-align: right;\n",
       "    }\n",
       "</style>\n",
       "<table border=\"1\" class=\"dataframe\">\n",
       "  <thead>\n",
       "    <tr style=\"text-align: right;\">\n",
       "      <th></th>\n",
       "      <th>uri</th>\n",
       "      <th>END_ID</th>\n",
       "      <th>type</th>\n",
       "      <th>START_ID</th>\n",
       "    </tr>\n",
       "  </thead>\n",
       "  <tbody>\n",
       "    <tr>\n",
       "      <th>0</th>\n",
       "      <td>http://www.example.edu/program/998</td>\n",
       "      <td>1</td>\n",
       "      <td>program</td>\n",
       "      <td>998</td>\n",
       "    </tr>\n",
       "    <tr>\n",
       "      <th>1</th>\n",
       "      <td>http://www.example.edu/university/58</td>\n",
       "      <td>1</td>\n",
       "      <td>university</td>\n",
       "      <td>58</td>\n",
       "    </tr>\n",
       "    <tr>\n",
       "      <th>2</th>\n",
       "      <td>http://www.example.edu/program/9025</td>\n",
       "      <td>3</td>\n",
       "      <td>program</td>\n",
       "      <td>9025</td>\n",
       "    </tr>\n",
       "    <tr>\n",
       "      <th>3</th>\n",
       "      <td>http://www.example.edu/university/68</td>\n",
       "      <td>3</td>\n",
       "      <td>university</td>\n",
       "      <td>68</td>\n",
       "    </tr>\n",
       "    <tr>\n",
       "      <th>4</th>\n",
       "      <td>http://www.example.edu/program/9357</td>\n",
       "      <td>5</td>\n",
       "      <td>program</td>\n",
       "      <td>9357</td>\n",
       "    </tr>\n",
       "  </tbody>\n",
       "</table>\n",
       "</div>"
      ],
      "text/plain": [
       "                                    uri  END_ID        type START_ID\n",
       "0    http://www.example.edu/program/998       1     program      998\n",
       "1  http://www.example.edu/university/58       1  university       58\n",
       "2   http://www.example.edu/program/9025       3     program     9025\n",
       "3  http://www.example.edu/university/68       3  university       68\n",
       "4   http://www.example.edu/program/9357       5     program     9357"
      ]
     },
     "execution_count": 20,
     "metadata": {},
     "output_type": "execute_result"
    }
   ],
   "source": [
    "pattern = r'http://www.example.edu/(?P<type>\\w+)/(?P<id>\\d+)'\n",
    "\n",
    "# Extract entity ID and type into separate columns\n",
    "com[['type', 'id']] = com['uri'].str.extract(pattern)\n",
    "com = com.rename(columns={'id': 'START_ID', 'com_id': 'END_ID'})\n",
    "\n",
    "com.head()"
   ]
  },
  {
   "cell_type": "code",
   "execution_count": 21,
   "id": "eb98d2e3-7aeb-4bb0-bf13-fd97586515ca",
   "metadata": {},
   "outputs": [],
   "source": [
    "# Create a df with the distinct communities\n",
    "communities_df = com[['END_ID']].drop_duplicates()\n",
    "\n",
    "# Divide between programs and universities\n",
    "programs_communities_df = com[com['type'] == 'program'][['START_ID', 'END_ID']]\n",
    "universities_communities_df = com[com['type'] == 'university'][['START_ID', 'END_ID']]"
   ]
  },
  {
   "cell_type": "markdown",
   "id": "92d53e3f-c907-48da-b7b5-7cae28db3dc3",
   "metadata": {},
   "source": [
    "Now just execute the whole ontology again with minor changes."
   ]
  },
  {
   "cell_type": "code",
   "execution_count": 22,
   "id": "e7019b71-3877-4f9e-983b-dce6a2b85076",
   "metadata": {},
   "outputs": [],
   "source": [
    "programs_df = pd.read_csv('dfs/programs.csv',sep='=')\n",
    "universities_df = pd.read_csv('dfs/universities.csv',sep='=')\n",
    "from_df = pd.read_csv('dfs/from.csv',sep='=')\n",
    "scholarships_df = pd.read_csv('dfs/scholarships.csv',sep='=')\n",
    "eligible_for_df = pd.read_csv('dfs/eligible_for.csv',sep='=')\n",
    "reviews_df = pd.read_csv('dfs/reviews.csv',sep='=')\n",
    "opinions_df = pd.read_csv('dfs/opinions.csv',sep='=')\n",
    "users_df = pd.read_csv('dfs/users.csv',sep='=')\n",
    "writes_df = pd.read_csv('dfs/writes.csv',sep='=')\n",
    "recommended_df = pd.read_csv('dfs/recommends.csv',sep='=')"
   ]
  },
  {
   "cell_type": "markdown",
   "id": "dbe19efe-9a41-4886-bd1e-687049bc3825",
   "metadata": {},
   "source": [
    "## TBOX Definition"
   ]
  },
  {
   "cell_type": "code",
   "execution_count": 23,
   "id": "067d4335-a248-400a-ac60-dcc68c33bb71",
   "metadata": {},
   "outputs": [],
   "source": [
    "from rdflib import Graph, Namespace, Literal\n",
    "from rdflib.namespace import RDFS, RDF, XSD"
   ]
  },
  {
   "cell_type": "markdown",
   "id": "eb97f209-790d-4928-a6a2-3b7c84ce6719",
   "metadata": {
    "id": "fc37f9dd-acd3-4a01-a44f-e165a015b633"
   },
   "source": [
    "Define the namespace,"
   ]
  },
  {
   "cell_type": "code",
   "execution_count": 24,
   "id": "e26f16ba-93e5-4460-9d48-a22d7007eb97",
   "metadata": {
    "id": "c646cdee-f2ce-406e-b353-12ee332da2cc"
   },
   "outputs": [],
   "source": [
    "BDM = Namespace('http://www.example.edu/')"
   ]
  },
  {
   "cell_type": "markdown",
   "id": "c6d11141-99c4-4cd8-8690-7d46ac48daff",
   "metadata": {
    "id": "f0deca0a-d493-4b48-aa0e-3bd8e925f495"
   },
   "source": [
    "In this section, we want to define the TBOX, that is, the conceptual level of entities and their inter-relationships."
   ]
  },
  {
   "cell_type": "code",
   "execution_count": 25,
   "id": "8af75182-b917-476c-80c9-05cb2f608f89",
   "metadata": {
    "id": "33ef648d-9f88-420b-947e-a9fdfa711bf7"
   },
   "outputs": [],
   "source": [
    "g = Graph()\n",
    "g.bind(\"BDM\", BDM)"
   ]
  },
  {
   "cell_type": "markdown",
   "id": "b6e4d6b6-f314-4d82-9c79-0fca21f63bd8",
   "metadata": {
    "id": "39b307f6-ca1b-4a67-abf0-e603a1ba27d5"
   },
   "source": [
    "### Classes"
   ]
  },
  {
   "cell_type": "code",
   "execution_count": 26,
   "id": "aa7429a3-b620-4d07-a9c4-37511e063c50",
   "metadata": {
    "id": "d15794eb-14fa-4e81-85d5-c9062da54aad"
   },
   "outputs": [
    {
     "data": {
      "text/plain": [
       "<Graph identifier=N66799484a8b34043a44d39f812cb624c (<class 'rdflib.graph.Graph'>)>"
      ]
     },
     "execution_count": 26,
     "metadata": {},
     "output_type": "execute_result"
    }
   ],
   "source": [
    "g.add((BDM.program,RDF.type,RDFS.Class))\n",
    "g.add((BDM.university,RDF.type,RDFS.Class))\n",
    "g.add((BDM.scholarship,RDF.type,RDFS.Class))\n",
    "g.add((BDM.review,RDF.type,RDFS.Class))\n",
    "g.add((BDM.user,RDF.type,RDFS.Class))\n",
    "g.add((BDM.community,RDF.type,RDFS.Class))"
   ]
  },
  {
   "cell_type": "markdown",
   "id": "46402c80-5eaf-435a-8fe3-664553c4dfc5",
   "metadata": {
    "id": "fa063352-70df-445c-8c5f-631cd33e8050"
   },
   "source": [
    "### Subclasses"
   ]
  },
  {
   "cell_type": "code",
   "execution_count": 27,
   "id": "a4d8bd37-0caa-436e-8909-4679aa41315e",
   "metadata": {
    "id": "c8548a10-d065-4918-ba9f-23b80813cc0a"
   },
   "outputs": [
    {
     "data": {
      "text/plain": [
       "<Graph identifier=N66799484a8b34043a44d39f812cb624c (<class 'rdflib.graph.Graph'>)>"
      ]
     },
     "execution_count": 27,
     "metadata": {},
     "output_type": "execute_result"
    }
   ],
   "source": [
    "g.add((BDM.bachelor,RDFS.subClassOf,BDM.program))\n",
    "g.add((BDM.master,RDFS.subClassOf,BDM.program))"
   ]
  },
  {
   "cell_type": "markdown",
   "id": "20361f53-6957-4924-a36d-9276037b70d3",
   "metadata": {
    "id": "ab12c2f6-78e2-4add-a216-a4996c99d471"
   },
   "source": [
    "### Properties"
   ]
  },
  {
   "cell_type": "code",
   "execution_count": 28,
   "id": "bb167fa5-6ac1-459b-899f-06514edb3e22",
   "metadata": {
    "id": "0c3a2300-f933-431e-b109-81943d59800a"
   },
   "outputs": [
    {
     "data": {
      "text/plain": [
       "<Graph identifier=N66799484a8b34043a44d39f812cb624c (<class 'rdflib.graph.Graph'>)>"
      ]
     },
     "execution_count": 28,
     "metadata": {},
     "output_type": "execute_result"
    }
   ],
   "source": [
    "# For the properties of program:\n",
    "g.add((BDM.program_ID,RDF.type,RDF.Property))\n",
    "g.add((BDM.program_ID,RDFS.domain,BDM.program))\n",
    "\n",
    "g.add((BDM.title,RDF.type,RDF.Property))\n",
    "g.add((BDM.title,RDFS.domain,BDM.program))\n",
    "\n",
    "g.add((BDM.desciption,RDF.type,RDF.Property))\n",
    "g.add((BDM.description,RDFS.domain,BDM.program))\n",
    "\n",
    "g.add((BDM.url,RDF.type,RDF.Property))\n",
    "g.add((BDM.url,RDFS.domain,BDM.program))\n",
    "\n",
    "g.add((BDM.duration,RDF.type,RDF.Property))\n",
    "g.add((BDM.duration,RDFS.domain,BDM.program))\n",
    "\n",
    "g.add((BDM.ap_date,RDF.type,RDF.Property))\n",
    "g.add((BDM.ap_date,RDFS.domain,BDM.program))\n",
    "\n",
    "g.add((BDM.st_date,RDF.type,RDF.Property))\n",
    "g.add((BDM.st_date,RDFS.domain,BDM.program))\n",
    "\n",
    "g.add((BDM.score,RDF.type,RDF.Property))\n",
    "g.add((BDM.score,RDFS.domain,BDM.program))\n",
    "\n",
    "g.add((BDM.eng_lvl,RDF.type,RDF.Property))\n",
    "g.add((BDM.eng_lvl,RDFS.domain,BDM.program))\n",
    "\n",
    "g.add((BDM.spa_lvl,RDF.type,RDF.Property))\n",
    "g.add((BDM.spa_lvl,RDFS.domain,BDM.program))\n",
    "\n",
    "g.add((BDM.bachelor_needed,RDF.type,RDF.Property))\n",
    "g.add((BDM.bachelor_needed,RDFS.domain,BDM.program))\n",
    "\n",
    "# For the properties of university:\n",
    "g.add((BDM.uni_ID,RDF.type,RDF.Property))\n",
    "g.add((BDM.uni_ID,RDFS.domain,BDM.university))\n",
    "\n",
    "g.add((BDM.name,RDF.type,RDF.Property))\n",
    "g.add((BDM.name,RDFS.domain,BDM.university))\n",
    "\n",
    "g.add((BDM.location,RDF.type,RDF.Property))\n",
    "g.add((BDM.location,RDFS.domain,BDM.university))\n",
    "\n",
    "# For the properties of scholarship:\n",
    "g.add((BDM.sch_ID,RDF.type,RDF.Property))\n",
    "g.add((BDM.sch_ID,RDFS.domain,BDM.scholarship))\n",
    "\n",
    "g.add((BDM.award_name,RDF.type,RDF.Property))\n",
    "g.add((BDM.award_name,RDFS.domain,BDM.scholarship))\n",
    "\n",
    "g.add((BDM.deadline,RDF.type,RDF.Property))\n",
    "g.add((BDM.deadline,RDFS.domain,BDM.scholarship))\n",
    "\n",
    "g.add((BDM.score,RDF.type,RDF.Property))\n",
    "g.add((BDM.score,RDFS.domain,BDM.scholarship))\n",
    "\n",
    "g.add((BDM.eng_lvl,RDF.type,RDF.Property))\n",
    "g.add((BDM.eng_lvl,RDFS.domain,BDM.scholarship))\n",
    "\n",
    "g.add((BDM.spa_lvl,RDF.type,RDF.Property))\n",
    "g.add((BDM.spa_lvl,RDFS.domain,BDM.scholarship))\n",
    "\n",
    "g.add((BDM.bachelor_needed,RDF.type,RDF.Property))\n",
    "g.add((BDM.bachelor_needed,RDFS.domain,BDM.scholarship))\n",
    "\n",
    "g.add((BDM.nationality,RDF.type,RDF.Property))\n",
    "g.add((BDM.nationality,RDFS.domain,BDM.scholarship))\n",
    "\n",
    "g.add((BDM.amount,RDF.type,RDF.Property))\n",
    "g.add((BDM.amount,RDFS.domain,BDM.scholarship))\n",
    "\n",
    "g.add((BDM.num_awards,RDF.type,RDF.Property))\n",
    "g.add((BDM.num_awards,RDFS.domain,BDM.scholarship))\n",
    "\n",
    "g.add((BDM.min_age,RDF.type,RDF.Property))\n",
    "g.add((BDM.min_age,RDFS.domain,BDM.scholarship))\n",
    "\n",
    "g.add((BDM.max_age,RDF.type,RDF.Property))\n",
    "g.add((BDM.max_age,RDFS.domain,BDM.scholarship))\n",
    "\n",
    "g.add((BDM.academic_perf,RDF.type,RDF.Property))\n",
    "g.add((BDM.academic_perf,RDFS.domain,BDM.scholarship))\n",
    "\n",
    "# For the properties of user:\n",
    "g.add((BDM.user_ID,RDF.type,RDF.Property))\n",
    "g.add((BDM.user_ID,RDFS.domain,BDM.user))\n",
    "\n",
    "g.add((BDM.name,RDF.type,RDF.Property))\n",
    "g.add((BDM.name,RDFS.domain,BDM.user))\n",
    "\n",
    "g.add((BDM.email,RDF.type,RDF.Property))\n",
    "g.add((BDM.email,RDFS.domain,BDM.user))\n",
    "\n",
    "g.add((BDM.register_date,RDF.type,RDF.Property))\n",
    "g.add((BDM.register_date,RDFS.domain,BDM.user))\n",
    "\n",
    "# For the properties of review:\n",
    "g.add((BDM.review_ID,RDF.type,RDF.Property))\n",
    "g.add((BDM.review_ID,RDFS.domain,BDM.review))\n",
    "\n",
    "g.add((BDM.date,RDF.type,RDF.Property))\n",
    "g.add((BDM.date,RDFS.domain,BDM.review))\n",
    "\n",
    "g.add((BDM.comment,RDF.type,RDF.Property))\n",
    "g.add((BDM.comment,RDFS.domain,BDM.review))\n",
    "\n",
    "g.add((BDM.feedback,RDF.type,RDF.Property))\n",
    "g.add((BDM.feedback,RDFS.domain,BDM.review))\n",
    "\n",
    "g.add((BDM.topic,RDF.type,RDF.Property))\n",
    "g.add((BDM.topic,RDFS.domain,BDM.review))"
   ]
  },
  {
   "cell_type": "markdown",
   "id": "647a2832-a8ec-4747-9239-400f0a8b25f3",
   "metadata": {
    "id": "bfc5832b-df83-460e-a464-8fde003a5ad4"
   },
   "source": [
    "### Relationships"
   ]
  },
  {
   "cell_type": "code",
   "execution_count": 29,
   "id": "3614ab0b-7f6d-4321-b2e1-bd8a84190d33",
   "metadata": {
    "id": "8e2e4279-d74c-4b08-8d2d-e736537d7a4e"
   },
   "outputs": [
    {
     "data": {
      "text/plain": [
       "<Graph identifier=N66799484a8b34043a44d39f812cb624c (<class 'rdflib.graph.Graph'>)>"
      ]
     },
     "execution_count": 29,
     "metadata": {},
     "output_type": "execute_result"
    }
   ],
   "source": [
    "# For the relationship between Program and University:\n",
    "g.add((BDM.from_uni,RDF.type,RDF.Property))\n",
    "g.add((BDM.from_uni,RDFS.domain,BDM.program))\n",
    "g.add((BDM.from_uni,RDFS.range,BDM.university))\n",
    "g.add((BDM.program,BDM.from_uni,BDM.university))\n",
    "\n",
    "# For the relationship between Scholarship and University\n",
    "g.add((BDM.eligible_for,RDF.type,RDF.Property))\n",
    "g.add((BDM.eligible_for,RDFS.domain,BDM.scholarship))\n",
    "g.add((BDM.eligible_for,RDFS.range,BDM.program))\n",
    "g.add((BDM.scholarship,BDM.eligible_for,BDM.program))\n",
    "\n",
    "# For the relationship between Review and Program\n",
    "g.add((BDM.opinion_of,RDF.type,RDF.Property))\n",
    "g.add((BDM.opinion_of,RDFS.domain,BDM.review))\n",
    "g.add((BDM.opinion_of,RDFS.range,BDM.program))\n",
    "g.add((BDM.review,BDM.opinion_of,BDM.program))\n",
    "\n",
    "# For the relationship between User and Review\n",
    "g.add((BDM.writes,RDF.type,RDF.Property))\n",
    "g.add((BDM.writes,RDFS.domain,BDM.user))\n",
    "g.add((BDM.writes,RDFS.range,BDM.review))\n",
    "g.add((BDM.user,BDM.writes,BDM.review))\n",
    "\n",
    "# For the relationship between Program and Program\n",
    "g.add((BDM.recommends,RDF.type,RDF.Property))\n",
    "g.add((BDM.recommends,RDFS.domain,BDM.program))\n",
    "g.add((BDM.recommends,RDFS.range,BDM.program))\n",
    "g.add((BDM.program,BDM.recommends,BDM.program))\n",
    "\n",
    "# For the relationship between Program and Community\n",
    "g.add((BDM.pro_com,RDF.type,RDF.Property))\n",
    "g.add((BDM.pro_com,RDFS.domain,BDM.program))\n",
    "g.add((BDM.pro_com,RDFS.range,BDM.community))\n",
    "g.add((BDM.program,BDM.pro_com,BDM.community))\n",
    "\n",
    "# For the relationship between University and Community\n",
    "g.add((BDM.uni_com,RDF.type,RDF.Property))\n",
    "g.add((BDM.uni_com,RDFS.domain,BDM.university))\n",
    "g.add((BDM.uni_com,RDFS.range,BDM.community))\n",
    "g.add((BDM.university,BDM.uni_com,BDM.community))"
   ]
  },
  {
   "cell_type": "markdown",
   "id": "80164da7-bc02-4414-83df-15565e7527ce",
   "metadata": {
    "id": "2e43271d-1a6d-4499-b4cc-608c678581bf"
   },
   "source": [
    "### Serialize"
   ]
  },
  {
   "cell_type": "code",
   "execution_count": 30,
   "id": "655a89c4-3677-4015-8e2e-e12137c1d1a0",
   "metadata": {
    "id": "1a2a6821-c324-454e-b47f-eaceea299c61"
   },
   "outputs": [
    {
     "data": {
      "text/plain": [
       "<Graph identifier=N66799484a8b34043a44d39f812cb624c (<class 'rdflib.graph.Graph'>)>"
      ]
     },
     "execution_count": 30,
     "metadata": {},
     "output_type": "execute_result"
    }
   ],
   "source": [
    "g.serialize('tbox.ttl',format='turtle')"
   ]
  },
  {
   "cell_type": "markdown",
   "id": "a7b401d2-498b-4b21-84ec-ca2783d38cbb",
   "metadata": {
    "id": "21928b8d-bb2f-45f0-98fa-2308924e54d8"
   },
   "source": [
    "## ABOX Definition"
   ]
  },
  {
   "cell_type": "markdown",
   "id": "9fd1d83a-4417-48fa-9da6-d918e306f328",
   "metadata": {
    "id": "e15f4486-f405-4b34-8e9e-e93c0e89e033"
   },
   "source": [
    "### Pogram (Bachelor and Master)"
   ]
  },
  {
   "cell_type": "code",
   "execution_count": 31,
   "id": "f30cef53-cf91-4b23-a082-4995e844becf",
   "metadata": {
    "id": "433c1632-d6df-41ca-a1f5-a20d922cad03"
   },
   "outputs": [],
   "source": [
    "for index,row in programs_df.iterrows():\n",
    "    if row['Type'] == 'Bachelor':\n",
    "        # Connect with the element\n",
    "        g.add((BDM.program+\"/\"+str(row['program_ID']),RDF.type,BDM.bachelor))\n",
    "    else:\n",
    "        # Connect with the element\n",
    "        g.add((BDM.program+\"/\"+str(row['program_ID']),RDF.type,BDM.master))\n",
    "\n",
    "    # Load all the properties\n",
    "    g.add((BDM.program+\"/\"+str(row['program_ID']),BDM.program_ID, Literal(str(row['program_ID']), datatype=XSD.string)))\n",
    "    g.add((BDM.program+\"/\"+str(row['program_ID']),BDM.title, Literal(row['Title'], datatype=XSD.string)))\n",
    "    g.add((BDM.program+\"/\"+str(row['program_ID']),BDM.description, Literal(row['Description'], datatype=XSD.string)))\n",
    "    g.add((BDM.program+\"/\"+str(row['program_ID']),BDM.url, Literal(row['URL'], datatype=XSD.string)))\n",
    "    g.add((BDM.program+\"/\"+str(row['program_ID']),BDM.duration, Literal(row['Duration'], datatype=XSD.int)))\n",
    "    g.add((BDM.program+\"/\"+str(row['program_ID']),BDM.ap_date, Literal(row['ApplicationDate'], datatype=XSD.string)))\n",
    "    g.add((BDM.program+\"/\"+str(row['program_ID']),BDM.st_date, Literal(row['StartingDate'], datatype=XSD.string)))\n",
    "    g.add((BDM.program+\"/\"+str(row['program_ID']),BDM.score, Literal(row['EligibleScore'], datatype=XSD.int)))\n",
    "    g.add((BDM.program+\"/\"+str(row['program_ID']),BDM.eng_lvl, Literal(row['EnglishLvl'], datatype=XSD.string)))\n",
    "    g.add((BDM.program+\"/\"+str(row['program_ID']),BDM.spa_lvl, Literal(row['SpanishLvl'], datatype=XSD.string)))\n",
    "    g.add((BDM.program+\"/\"+str(row['program_ID']),BDM.bachelor_needed, Literal(row['BachelorNeeded'], datatype=XSD.string)))"
   ]
  },
  {
   "cell_type": "markdown",
   "id": "f92a2d18-21e8-4753-b851-0fca05c73617",
   "metadata": {},
   "source": [
    "### Recommends"
   ]
  },
  {
   "cell_type": "code",
   "execution_count": 32,
   "id": "71987602-7d29-44fa-a665-4a4fdd9d3d51",
   "metadata": {},
   "outputs": [],
   "source": [
    "for index,row in recommended_df.iterrows():\n",
    "    g.add((BDM.program+\"/\"+str(row['START_ID']),BDM.recommends,BDM.program+\"/\"+str(row['END_ID'])))"
   ]
  },
  {
   "cell_type": "markdown",
   "id": "065f9610-5cf0-4e58-b23b-2fd661c32708",
   "metadata": {
    "id": "e6272b08-6ed6-4f5b-8f1b-09d3257ebf5d"
   },
   "source": [
    "### University"
   ]
  },
  {
   "cell_type": "code",
   "execution_count": 33,
   "id": "3eb8962f-b283-482b-b30b-c0ab7fc88bfc",
   "metadata": {
    "id": "f697f7ce-0339-49b0-b9b4-47ba38398a04"
   },
   "outputs": [],
   "source": [
    "for index,row in universities_df.iterrows():\n",
    "    # Connect with the element\n",
    "    g.add((BDM.university+\"/\"+str(row['ID']),RDF.type,BDM.university))\n",
    "    # Load all the properties\n",
    "    g.add((BDM.university+\"/\"+str(row['ID']),BDM.uni_ID, Literal(str(row['ID']), datatype=XSD.string)))\n",
    "    g.add((BDM.university+\"/\"+str(row['ID']),BDM.name, Literal(row['Name'], datatype=XSD.string)))\n",
    "    g.add((BDM.university+\"/\"+str(row['ID']),BDM.location, Literal(row['Location'], datatype=XSD.string)))"
   ]
  },
  {
   "cell_type": "markdown",
   "id": "7eb0e94e-9c23-43c2-b47c-398758b2e725",
   "metadata": {
    "id": "c307e487-872d-4983-9426-7e95306d27b4"
   },
   "source": [
    "### From"
   ]
  },
  {
   "cell_type": "code",
   "execution_count": 34,
   "id": "9a6c0c29-5e89-4c78-bd8e-e78a8b490822",
   "metadata": {
    "id": "1b004eb7-bcfe-43e3-ba3c-b3ae0072e888"
   },
   "outputs": [],
   "source": [
    "for index,row in from_df.iterrows():\n",
    "    g.add((BDM.program+\"/\"+str(row['START_ID']),BDM.from_uni,BDM.university+\"/\"+str(row['END_ID'])))"
   ]
  },
  {
   "cell_type": "markdown",
   "id": "faff4aae-989f-4a93-bb98-c5128b0105cd",
   "metadata": {
    "id": "8a230789-609c-4390-9fa7-56c2b9e2ddd6"
   },
   "source": [
    "### Scholarship"
   ]
  },
  {
   "cell_type": "code",
   "execution_count": 35,
   "id": "fa68c9de-b8bb-4c22-92d1-edc9b7dc2b52",
   "metadata": {
    "id": "a1779e4f-335b-4f8e-8cae-567dabd59f2d"
   },
   "outputs": [],
   "source": [
    "for index,row in scholarships_df.iterrows():\n",
    "    # Connect with the element\n",
    "    g.add((BDM.scholarship+\"/\"+str(row['ID']),RDF.type,BDM.scholarship))\n",
    "    # Load all the properties\n",
    "    g.add((BDM.scholarship+\"/\"+str(row['ID']),BDM.sch_ID, Literal(str(row['ID']), datatype=XSD.string)))\n",
    "    g.add((BDM.scholarship+\"/\"+str(row['ID']),BDM.award_name, Literal(row['AwardName'], datatype=XSD.string)))\n",
    "    g.add((BDM.scholarship+\"/\"+str(row['ID']),BDM.deadline, Literal(row['Deadline'], datatype=XSD.string)))\n",
    "    g.add((BDM.scholarship+\"/\"+str(row['ID']),BDM.deadline, Literal(row['Deadline'], datatype=XSD.string)))\n",
    "    g.add((BDM.scholarship+\"/\"+str(row['ID']),BDM.score, Literal(row['EligibleScore'], datatype=XSD.int)))\n",
    "    g.add((BDM.scholarship+\"/\"+str(row['ID']),BDM.eng_lvl, Literal(row['EnglishLvl'], datatype=XSD.string)))\n",
    "    g.add((BDM.scholarship+\"/\"+str(row['ID']),BDM.bachelor_needed, Literal(row['BachelorNeeded'], datatype=XSD.string)))\n",
    "    g.add((BDM.scholarship+\"/\"+str(row['ID']),BDM.spa_lvl, Literal(row['SpanishLvl'], datatype=XSD.string)))\n",
    "    g.add((BDM.scholarship+\"/\"+str(row['ID']),BDM.nationality, Literal(row['Nationality'], datatype=XSD.string)))\n",
    "    g.add((BDM.scholarship+\"/\"+str(row['ID']),BDM.amount, Literal(row['Amount'], datatype=XSD.string)))\n",
    "    g.add((BDM.scholarship+\"/\"+str(row['ID']),BDM.num_awards, Literal(row['NumAwards'], datatype=XSD.string)))\n",
    "    g.add((BDM.scholarship+\"/\"+str(row['ID']),BDM.min_age, Literal(row['MinAge'], datatype=XSD.string)))\n",
    "    g.add((BDM.scholarship+\"/\"+str(row['ID']),BDM.max_age, Literal(row['MaxAge'], datatype=XSD.string)))\n",
    "    g.add((BDM.scholarship+\"/\"+str(row['ID']),BDM.acedemic_perf, Literal(row['AcademicPerformance'], datatype=XSD.string)))"
   ]
  },
  {
   "cell_type": "markdown",
   "id": "7bf934b3-80a6-48bf-aeb6-4c27d6567c3d",
   "metadata": {
    "id": "990dfe6e-3a4e-4b9b-8ad8-1a0af1b2ab79"
   },
   "source": [
    "### Eligible_for"
   ]
  },
  {
   "cell_type": "code",
   "execution_count": 36,
   "id": "69129319-bb94-42c3-afa3-3ca42048904a",
   "metadata": {
    "id": "3e00ab91-a449-45dd-b923-48d8024f40df"
   },
   "outputs": [],
   "source": [
    "for index,row in eligible_for_df.iterrows():\n",
    "    g.add((BDM.scholarship+\"/\"+str(row['START_ID']),BDM.eligible_for,BDM.program+\"/\"+str(row['END_ID'])))"
   ]
  },
  {
   "cell_type": "markdown",
   "id": "6f71cb07-8a5b-451a-b0ea-62dc5043dd7d",
   "metadata": {
    "id": "8b6340e7-3203-49a1-8877-d1289cfdabda"
   },
   "source": [
    "### User"
   ]
  },
  {
   "cell_type": "code",
   "execution_count": 37,
   "id": "bd5ddac9-4651-4c13-bbeb-99caf23881db",
   "metadata": {
    "id": "4c4dd393-d836-404d-a042-b940838c01d1"
   },
   "outputs": [],
   "source": [
    "for index,row in users_df.iterrows():\n",
    "    # Connect with the element\n",
    "    g.add((BDM.user+\"/\"+str(row['user_ID']),RDF.type,BDM.user))\n",
    "    # Load all the properties\n",
    "    g.add((BDM.user+\"/\"+str(row['user_ID']),BDM.user_ID, Literal(str(row['user_ID']), datatype=XSD.string)))\n",
    "    g.add((BDM.user+\"/\"+str(row['user_ID']),BDM.name, Literal(row['name'], datatype=XSD.string)))\n",
    "    g.add((BDM.user+\"/\"+str(row['user_ID']),BDM.email, Literal(row['email'], datatype=XSD.string)))\n",
    "    g.add((BDM.user+\"/\"+str(row['user_ID']),BDM.register_date, Literal(row['register_date'], datatype=XSD.date)))"
   ]
  },
  {
   "cell_type": "markdown",
   "id": "cc042dd0-f16e-4df7-b6d8-c92a64b21161",
   "metadata": {
    "id": "845a1c0d-3974-4d22-a250-45e5099525cb"
   },
   "source": [
    "### Review"
   ]
  },
  {
   "cell_type": "code",
   "execution_count": 38,
   "id": "249adff6-300a-4d15-8934-b837cac696d7",
   "metadata": {
    "id": "632565b3-5204-47ba-a91c-62e822bdd6a0"
   },
   "outputs": [],
   "source": [
    "for index,row in reviews_df.iterrows():\n",
    "    # Connect with the element\n",
    "    g.add((BDM.review+\"/\"+str(row['review_ID']),RDF.type,BDM.review))\n",
    "    # Load all the properties\n",
    "    g.add((BDM.review+\"/\"+str(row['review_ID']),BDM.review_ID, Literal(str(row['review_ID']), datatype=XSD.string)))\n",
    "    g.add((BDM.review+\"/\"+str(row['review_ID']),BDM.date, Literal(row['date'], datatype=XSD.date)))\n",
    "    g.add((BDM.review+\"/\"+str(row['review_ID']),BDM.comment, Literal(row['comment'], datatype=XSD.string)))\n",
    "    g.add((BDM.review+\"/\"+str(row['review_ID']),BDM.feedback, Literal(row['classification'], datatype=XSD.string)))\n",
    "    g.add((BDM.review+\"/\"+str(row['review_ID']),BDM.topic, Literal(row['top_token'], datatype=XSD.string)))"
   ]
  },
  {
   "cell_type": "markdown",
   "id": "0b48c4cf-4627-48f6-af19-a17c0af7bae9",
   "metadata": {
    "id": "03f6dd9b-5965-475c-ae6f-37db5841a224"
   },
   "source": [
    "### Opinion_of"
   ]
  },
  {
   "cell_type": "code",
   "execution_count": 39,
   "id": "b216a4a4-22b0-4bfe-916e-a644f890529b",
   "metadata": {
    "id": "f01881b0-d1e5-4dfa-94a9-d13ff7b1de34"
   },
   "outputs": [],
   "source": [
    "for index,row in opinions_df.iterrows():\n",
    "    g.add((BDM.review+\"/\"+str(row['START_ID']),BDM.opinion_of,BDM.program+\"/\"+str(row['END_ID'])))"
   ]
  },
  {
   "cell_type": "markdown",
   "id": "c1f1d0c0-7113-4e86-b312-d4a31695914c",
   "metadata": {
    "id": "89e71a15-3c6a-4c5e-8850-5b659022f5d0"
   },
   "source": [
    "### Writes"
   ]
  },
  {
   "cell_type": "code",
   "execution_count": 40,
   "id": "b275d2fd-0ffb-4575-a650-0c17990cfe22",
   "metadata": {
    "id": "fedd4f54-0753-4ef0-8c90-17d4c49bc0e8"
   },
   "outputs": [],
   "source": [
    "for index,row in writes_df.iterrows():\n",
    "    g.add((BDM.user+\"/\"+str(row['START_ID']),BDM.writes,BDM.review+\"/\"+str(row['END_ID'])))"
   ]
  },
  {
   "cell_type": "markdown",
   "id": "4d8d6b43-6177-45d8-88fc-90a9c990cc82",
   "metadata": {},
   "source": [
    "### Community"
   ]
  },
  {
   "cell_type": "code",
   "execution_count": 41,
   "id": "a7525699-2f48-4920-91b2-00f3529a76ee",
   "metadata": {},
   "outputs": [],
   "source": [
    "for index,row in communities_df.iterrows():\n",
    "    # Connect with the element\n",
    "    g.add((BDM.community+\"/\"+str(row['END_ID']),RDF.type,BDM.community))"
   ]
  },
  {
   "cell_type": "markdown",
   "id": "f731873d-5b46-4cce-bff7-932460daafba",
   "metadata": {},
   "source": [
    "### Pro_com"
   ]
  },
  {
   "cell_type": "code",
   "execution_count": 42,
   "id": "24d13680-9b76-4398-99bd-d3111a4f615c",
   "metadata": {},
   "outputs": [],
   "source": [
    "for index,row in programs_communities_df.iterrows():\n",
    "    g.add((BDM.program+\"/\"+str(row['START_ID']),BDM.pro_com,BDM.community+\"/\"+str(row['END_ID'])))"
   ]
  },
  {
   "cell_type": "markdown",
   "id": "5774fa51-50a0-4fb3-b3bb-fa98257d46f6",
   "metadata": {},
   "source": [
    "### Uni_com"
   ]
  },
  {
   "cell_type": "code",
   "execution_count": 43,
   "id": "441dea31-4482-4296-811a-47a8a7ac6ab6",
   "metadata": {},
   "outputs": [],
   "source": [
    "for index,row in universities_communities_df.iterrows():\n",
    "    g.add((BDM.university+\"/\"+str(row['START_ID']),BDM.uni_com,BDM.community+\"/\"+str(row['END_ID'])))"
   ]
  },
  {
   "cell_type": "markdown",
   "id": "6f092b87-8354-4f6e-8425-3e8ea120b789",
   "metadata": {
    "id": "25f0bac9-bb90-48e5-8237-68cddc23c64a"
   },
   "source": [
    "### Serialize"
   ]
  },
  {
   "cell_type": "code",
   "execution_count": 44,
   "id": "eadaab16-f779-4b7e-af3f-37026a408e76",
   "metadata": {
    "id": "d6cb3b32-8db2-432e-aa48-2ed16d7e268e"
   },
   "outputs": [
    {
     "data": {
      "text/plain": [
       "<Graph identifier=N66799484a8b34043a44d39f812cb624c (<class 'rdflib.graph.Graph'>)>"
      ]
     },
     "execution_count": 44,
     "metadata": {},
     "output_type": "execute_result"
    }
   ],
   "source": [
    "g.serialize('abox.ttl',format='turtle')"
   ]
  },
  {
   "cell_type": "markdown",
   "id": "1f7bb055-1c67-4bf9-a59a-9b8e3814e49b",
   "metadata": {
    "id": "71dbe87a-e15e-452b-a91d-71b5de13a6a0"
   },
   "source": [
    "# Load the data in GraphDB"
   ]
  },
  {
   "cell_type": "markdown",
   "id": "4ea11a91-ad57-42e7-8c69-74484e7c20c4",
   "metadata": {
    "id": "88810dad-6bb0-4a3b-973a-19de0b164a1d"
   },
   "source": [
    "We can load the graph and we will get something like this:"
   ]
  },
  {
   "attachments": {
    "301462f2-4980-49b2-a64c-461501a5f249.png": {
     "image/png": "[encoded data removed]"
    }
   },
   "cell_type": "markdown",
   "id": "d3c4ac32-b9c6-4bd2-8a36-f6e563f62ab1",
   "metadata": {
    "id": "a8af824e-7f83-4ccc-8d4c-bd23bf547bdb"
   },
   "source": [
    "![schema.png](attachment:301462f2-4980-49b2-a64c-461501a5f249.png)"
   ]
  }
 ],
 "metadata": {
  "kernelspec": {
   "display_name": "Python 3 (ipykernel)",
   "language": "python",
   "name": "python3"
  },
  "language_info": {
   "codemirror_mode": {
    "name": "ipython",
    "version": 3
   },
   "file_extension": ".py",
   "mimetype": "text/x-python",
   "name": "python",
   "nbconvert_exporter": "python",
   "pygments_lexer": "ipython3",
   "version": "3.10.12"
  }
 },
 "nbformat": 4,
 "nbformat_minor": 5
}
