{
 "cells": [
  {
   "cell_type": "markdown",
   "id": "3b74ba19-8b2c-42d1-999c-0e3a631233e5",
   "metadata": {},
   "source": [
    "# Creation of the KG"
   ]
  },
  {
   "cell_type": "markdown",
   "id": "007da55e-95f5-4e76-b7e2-10420fa1573d",
   "metadata": {},
   "source": [
    "First, let us upload all the information"
   ]
  },
  {
   "cell_type": "code",
   "execution_count": null,
   "id": "e86092e1-8dd6-4a05-9a4e-042ef2fab000",
   "metadata": {},
   "outputs": [],
   "source": [
    "import pandas as pd\n",
    "\n",
    "programs_df = pd.read_csv('dfs/programs.csv',sep='=')\n",
    "universities_df = pd.read_csv('dfs/universities.csv',sep='=')\n",
    "from_df = pd.read_csv('dfs/from.csv',sep='=')\n",
    "scholarships_df = pd.read_csv('dfs/scholarships.csv',sep='=')\n",
    "eligible_for_df = pd.read_csv('dfs/eligible_for.csv',sep='=')\n",
    "reviews_df = pd.read_csv('dfs/reviews.csv',sep='=')\n",
    "opinions_df = pd.read_csv('dfs/opinions.csv',sep='=')\n",
    "users_df = pd.read_csv('dfs/users.csv',sep='=')\n",
    "writes_df = pd.read_csv('dfs/writes.csv',sep='=')\n",
    "recommended_df = pd.read_csv('dfs/recommends.csv',sep='=')"
   ]
  },
  {
   "cell_type": "markdown",
   "id": "cb3adeb3-b235-4b35-aef9-84a9ce77c361",
   "metadata": {},
   "source": [
    "## TBOX Definition"
   ]
  },
  {
   "cell_type": "code",
   "execution_count": null,
   "id": "7d536d1a-78da-401f-884a-76bacedb453b",
   "metadata": {},
   "outputs": [],
   "source": [
    "from rdflib import Graph, Namespace, Literal\n",
    "from rdflib.namespace import RDFS, RDF, XSD"
   ]
  },
  {
   "cell_type": "markdown",
   "id": "44e8c58e-d2c5-4505-91cc-4eec637c5509",
   "metadata": {
    "id": "fc37f9dd-acd3-4a01-a44f-e165a015b633"
   },
   "source": [
    "Define the namespace,"
   ]
  },
  {
   "cell_type": "code",
   "execution_count": 34,
   "id": "d0b517a4-d998-4ceb-a2a1-32460a098b22",
   "metadata": {
    "id": "c646cdee-f2ce-406e-b353-12ee332da2cc"
   },
   "outputs": [],
   "source": [
    "BDM = Namespace('http://www.example.edu/')"
   ]
  },
  {
   "cell_type": "markdown",
   "id": "fc6d99f0-ac38-45ba-91d9-25f7305c835b",
   "metadata": {
    "id": "f0deca0a-d493-4b48-aa0e-3bd8e925f495"
   },
   "source": [
    "In this section, we want to define the TBOX, that is, the conceptual level of entities and their inter-relationships."
   ]
  },
  {
   "cell_type": "code",
   "execution_count": 35,
   "id": "a14f97fb-115b-4717-a7f5-085a4b776255",
   "metadata": {
    "id": "33ef648d-9f88-420b-947e-a9fdfa711bf7"
   },
   "outputs": [],
   "source": [
    "g = Graph()\n",
    "g.bind(\"BDM\", BDM)"
   ]
  },
  {
   "cell_type": "markdown",
   "id": "63ba420e-ca62-4a19-b320-99a6c64fd46e",
   "metadata": {
    "id": "39b307f6-ca1b-4a67-abf0-e603a1ba27d5"
   },
   "source": [
    "### Classes"
   ]
  },
  {
   "cell_type": "code",
   "execution_count": 36,
   "id": "e87cd194-6c8c-420d-b466-c093260f7101",
   "metadata": {
    "id": "d15794eb-14fa-4e81-85d5-c9062da54aad"
   },
   "outputs": [
    {
     "data": {
      "text/plain": [
       "<Graph identifier=N53f55423170a4ed3aea6e7472aa83ad0 (<class 'rdflib.graph.Graph'>)>"
      ]
     },
     "execution_count": 36,
     "metadata": {},
     "output_type": "execute_result"
    }
   ],
   "source": [
    "g.add((BDM.program,RDF.type,RDFS.Class))\n",
    "g.add((BDM.university,RDF.type,RDFS.Class))\n",
    "g.add((BDM.scholarship,RDF.type,RDFS.Class))\n",
    "g.add((BDM.review,RDF.type,RDFS.Class))\n",
    "g.add((BDM.user,RDF.type,RDFS.Class))"
   ]
  },
  {
   "cell_type": "markdown",
   "id": "a541ee83-1f01-41cd-b383-45026ff65e37",
   "metadata": {
    "id": "fa063352-70df-445c-8c5f-631cd33e8050"
   },
   "source": [
    "### Subclasses"
   ]
  },
  {
   "cell_type": "code",
   "execution_count": 37,
   "id": "5a064dd3-3fd9-4417-aed1-c956e7019b3d",
   "metadata": {
    "id": "c8548a10-d065-4918-ba9f-23b80813cc0a"
   },
   "outputs": [
    {
     "data": {
      "text/plain": [
       "<Graph identifier=N53f55423170a4ed3aea6e7472aa83ad0 (<class 'rdflib.graph.Graph'>)>"
      ]
     },
     "execution_count": 37,
     "metadata": {},
     "output_type": "execute_result"
    }
   ],
   "source": [
    "g.add((BDM.bachelor,RDFS.subClassOf,BDM.program))\n",
    "g.add((BDM.master,RDFS.subClassOf,BDM.program))"
   ]
  },
  {
   "cell_type": "markdown",
   "id": "d93b094d-fb61-4dfd-be9b-00a608b114c3",
   "metadata": {
    "id": "ab12c2f6-78e2-4add-a216-a4996c99d471"
   },
   "source": [
    "### Properties"
   ]
  },
  {
   "cell_type": "code",
   "execution_count": 38,
   "id": "b6c3a5cc-9f74-4c4d-83ec-a9ac25c975f8",
   "metadata": {
    "id": "0c3a2300-f933-431e-b109-81943d59800a"
   },
   "outputs": [
    {
     "data": {
      "text/plain": [
       "<Graph identifier=N53f55423170a4ed3aea6e7472aa83ad0 (<class 'rdflib.graph.Graph'>)>"
      ]
     },
     "execution_count": 38,
     "metadata": {},
     "output_type": "execute_result"
    }
   ],
   "source": [
    "# For the properties of program:\n",
    "g.add((BDM.program_ID,RDF.type,RDF.Property))\n",
    "g.add((BDM.program_ID,RDFS.domain,BDM.program))\n",
    "\n",
    "g.add((BDM.title,RDF.type,RDF.Property))\n",
    "g.add((BDM.title,RDFS.domain,BDM.program))\n",
    "\n",
    "g.add((BDM.desciption,RDF.type,RDF.Property))\n",
    "g.add((BDM.description,RDFS.domain,BDM.program))\n",
    "\n",
    "g.add((BDM.url,RDF.type,RDF.Property))\n",
    "g.add((BDM.url,RDFS.domain,BDM.program))\n",
    "\n",
    "g.add((BDM.duration,RDF.type,RDF.Property))\n",
    "g.add((BDM.duration,RDFS.domain,BDM.program))\n",
    "\n",
    "g.add((BDM.ap_date,RDF.type,RDF.Property))\n",
    "g.add((BDM.ap_date,RDFS.domain,BDM.program))\n",
    "\n",
    "g.add((BDM.st_date,RDF.type,RDF.Property))\n",
    "g.add((BDM.st_date,RDFS.domain,BDM.program))\n",
    "\n",
    "g.add((BDM.score,RDF.type,RDF.Property))\n",
    "g.add((BDM.score,RDFS.domain,BDM.program))\n",
    "\n",
    "g.add((BDM.eng_lvl,RDF.type,RDF.Property))\n",
    "g.add((BDM.eng_lvl,RDFS.domain,BDM.program))\n",
    "\n",
    "g.add((BDM.spa_lvl,RDF.type,RDF.Property))\n",
    "g.add((BDM.spa_lvl,RDFS.domain,BDM.program))\n",
    "\n",
    "g.add((BDM.bachelor_needed,RDF.type,RDF.Property))\n",
    "g.add((BDM.bachelor_needed,RDFS.domain,BDM.program))\n",
    "\n",
    "# For the properties of university:\n",
    "g.add((BDM.uni_ID,RDF.type,RDF.Property))\n",
    "g.add((BDM.uni_ID,RDFS.domain,BDM.university))\n",
    "\n",
    "g.add((BDM.name,RDF.type,RDF.Property))\n",
    "g.add((BDM.name,RDFS.domain,BDM.university))\n",
    "\n",
    "g.add((BDM.location,RDF.type,RDF.Property))\n",
    "g.add((BDM.location,RDFS.domain,BDM.university))\n",
    "\n",
    "# For the properties of scholarship:\n",
    "g.add((BDM.sch_ID,RDF.type,RDF.Property))\n",
    "g.add((BDM.sch_ID,RDFS.domain,BDM.scholarship))\n",
    "\n",
    "g.add((BDM.award_name,RDF.type,RDF.Property))\n",
    "g.add((BDM.award_name,RDFS.domain,BDM.scholarship))\n",
    "\n",
    "g.add((BDM.deadline,RDF.type,RDF.Property))\n",
    "g.add((BDM.deadline,RDFS.domain,BDM.scholarship))\n",
    "\n",
    "g.add((BDM.score,RDF.type,RDF.Property))\n",
    "g.add((BDM.score,RDFS.domain,BDM.scholarship))\n",
    "\n",
    "g.add((BDM.eng_lvl,RDF.type,RDF.Property))\n",
    "g.add((BDM.eng_lvl,RDFS.domain,BDM.scholarship))\n",
    "\n",
    "g.add((BDM.spa_lvl,RDF.type,RDF.Property))\n",
    "g.add((BDM.spa_lvl,RDFS.domain,BDM.scholarship))\n",
    "\n",
    "g.add((BDM.bachelor_needed,RDF.type,RDF.Property))\n",
    "g.add((BDM.bachelor_needed,RDFS.domain,BDM.scholarship))\n",
    "\n",
    "g.add((BDM.nationality,RDF.type,RDF.Property))\n",
    "g.add((BDM.nationality,RDFS.domain,BDM.scholarship))\n",
    "\n",
    "g.add((BDM.amount,RDF.type,RDF.Property))\n",
    "g.add((BDM.amount,RDFS.domain,BDM.scholarship))\n",
    "\n",
    "g.add((BDM.num_awards,RDF.type,RDF.Property))\n",
    "g.add((BDM.num_awards,RDFS.domain,BDM.scholarship))\n",
    "\n",
    "g.add((BDM.min_age,RDF.type,RDF.Property))\n",
    "g.add((BDM.min_age,RDFS.domain,BDM.scholarship))\n",
    "\n",
    "g.add((BDM.max_age,RDF.type,RDF.Property))\n",
    "g.add((BDM.max_age,RDFS.domain,BDM.scholarship))\n",
    "\n",
    "g.add((BDM.academic_perf,RDF.type,RDF.Property))\n",
    "g.add((BDM.academic_perf,RDFS.domain,BDM.scholarship))\n",
    "\n",
    "# For the properties of user:\n",
    "g.add((BDM.user_ID,RDF.type,RDF.Property))\n",
    "g.add((BDM.user_ID,RDFS.domain,BDM.user))\n",
    "\n",
    "g.add((BDM.name,RDF.type,RDF.Property))\n",
    "g.add((BDM.name,RDFS.domain,BDM.user))\n",
    "\n",
    "g.add((BDM.email,RDF.type,RDF.Property))\n",
    "g.add((BDM.email,RDFS.domain,BDM.user))\n",
    "\n",
    "g.add((BDM.register_date,RDF.type,RDF.Property))\n",
    "g.add((BDM.register_date,RDFS.domain,BDM.user))\n",
    "\n",
    "# For the properties of review:\n",
    "g.add((BDM.review_ID,RDF.type,RDF.Property))\n",
    "g.add((BDM.review_ID,RDFS.domain,BDM.review))\n",
    "\n",
    "g.add((BDM.date,RDF.type,RDF.Property))\n",
    "g.add((BDM.date,RDFS.domain,BDM.review))\n",
    "\n",
    "g.add((BDM.comment,RDF.type,RDF.Property))\n",
    "g.add((BDM.comment,RDFS.domain,BDM.review))\n",
    "\n",
    "g.add((BDM.feedback,RDF.type,RDF.Property))\n",
    "g.add((BDM.feedback,RDFS.domain,BDM.review))\n",
    "\n",
    "g.add((BDM.topic,RDF.type,RDF.Property))\n",
    "g.add((BDM.topic,RDFS.domain,BDM.review))"
   ]
  },
  {
   "cell_type": "markdown",
   "id": "3c8f53e6-0bbf-46eb-b568-7897e8abb2bb",
   "metadata": {
    "id": "bfc5832b-df83-460e-a464-8fde003a5ad4"
   },
   "source": [
    "### Relationships"
   ]
  },
  {
   "cell_type": "code",
   "execution_count": 39,
   "id": "50dbed8c-a131-4589-9784-acce8b236380",
   "metadata": {
    "id": "8e2e4279-d74c-4b08-8d2d-e736537d7a4e"
   },
   "outputs": [
    {
     "data": {
      "text/plain": [
       "<Graph identifier=N53f55423170a4ed3aea6e7472aa83ad0 (<class 'rdflib.graph.Graph'>)>"
      ]
     },
     "execution_count": 39,
     "metadata": {},
     "output_type": "execute_result"
    }
   ],
   "source": [
    "# For the relationship between Program and University:\n",
    "g.add((BDM.from_uni,RDF.type,RDF.Property))\n",
    "g.add((BDM.from_uni,RDFS.domain,BDM.program))\n",
    "g.add((BDM.from_uni,RDFS.range,BDM.university))\n",
    "g.add((BDM.program,BDM.from_uni,BDM.university))\n",
    "\n",
    "# For the relationship between Scholarship and University\n",
    "g.add((BDM.eligible_for,RDF.type,RDF.Property))\n",
    "g.add((BDM.eligible_for,RDFS.domain,BDM.scholarship))\n",
    "g.add((BDM.eligible_for,RDFS.range,BDM.program))\n",
    "g.add((BDM.scholarship,BDM.eligible_for,BDM.program))\n",
    "\n",
    "# For the relationship between Review and Program\n",
    "g.add((BDM.opinion_of,RDF.type,RDF.Property))\n",
    "g.add((BDM.opinion_of,RDFS.domain,BDM.review))\n",
    "g.add((BDM.opinion_of,RDFS.range,BDM.program))\n",
    "g.add((BDM.review,BDM.opinion_of,BDM.program))\n",
    "\n",
    "# For the relationship between User and Review\n",
    "g.add((BDM.writes,RDF.type,RDF.Property))\n",
    "g.add((BDM.writes,RDFS.domain,BDM.user))\n",
    "g.add((BDM.writes,RDFS.range,BDM.review))\n",
    "g.add((BDM.user,BDM.writes,BDM.review))\n",
    "\n",
    "# For the relationship between Program and Program\n",
    "g.add((BDM.recommends,RDF.type,RDF.Property))\n",
    "g.add((BDM.recommends,RDFS.domain,BDM.program))\n",
    "g.add((BDM.recommends,RDFS.range,BDM.program))\n",
    "g.add((BDM.program,BDM.recommends,BDM.program))"
   ]
  },
  {
   "cell_type": "markdown",
   "id": "dbc783b5-aa33-4146-a60d-ad192b4942cd",
   "metadata": {
    "id": "2e43271d-1a6d-4499-b4cc-608c678581bf"
   },
   "source": [
    "### Serialize"
   ]
  },
  {
   "cell_type": "code",
   "execution_count": 40,
   "id": "b55d342c-a994-4a36-9b1e-fc208c84fa07",
   "metadata": {
    "id": "1a2a6821-c324-454e-b47f-eaceea299c61"
   },
   "outputs": [
    {
     "data": {
      "text/plain": [
       "<Graph identifier=N53f55423170a4ed3aea6e7472aa83ad0 (<class 'rdflib.graph.Graph'>)>"
      ]
     },
     "execution_count": 40,
     "metadata": {},
     "output_type": "execute_result"
    }
   ],
   "source": [
    "g.serialize('tbox.ttl',format='turtle')"
   ]
  },
  {
   "cell_type": "markdown",
   "id": "0ded4434-272c-4daa-a36d-4b1c3222c26a",
   "metadata": {
    "id": "21928b8d-bb2f-45f0-98fa-2308924e54d8"
   },
   "source": [
    "## ABOX Definition"
   ]
  },
  {
   "cell_type": "markdown",
   "id": "1b08c362-d573-4799-a62e-8eafbbedf821",
   "metadata": {
    "id": "e15f4486-f405-4b34-8e9e-e93c0e89e033"
   },
   "source": [
    "### Pogram (Bachelor and Master)"
   ]
  },
  {
   "cell_type": "code",
   "execution_count": 41,
   "id": "426637e3-c044-40f4-99ec-37ec162ab7ff",
   "metadata": {
    "id": "433c1632-d6df-41ca-a1f5-a20d922cad03"
   },
   "outputs": [],
   "source": [
    "for index,row in programs_df.iterrows():\n",
    "    if row['Type'] == 'Bachelor':\n",
    "        # Connect with the element\n",
    "        g.add((BDM.program+\"/\"+str(row['program_ID']),RDF.type,BDM.bachelor))\n",
    "    else:\n",
    "        # Connect with the element\n",
    "        g.add((BDM.program+\"/\"+str(row['program_ID']),RDF.type,BDM.master))\n",
    "\n",
    "    # Load all the properties\n",
    "    g.add((BDM.program+\"/\"+str(row['program_ID']),BDM.program_ID, Literal(str(row['program_ID']), datatype=XSD.string)))\n",
    "    g.add((BDM.program+\"/\"+str(row['program_ID']),BDM.title, Literal(row['Title'], datatype=XSD.string)))\n",
    "    g.add((BDM.program+\"/\"+str(row['program_ID']),BDM.description, Literal(row['Description'], datatype=XSD.string)))\n",
    "    g.add((BDM.program+\"/\"+str(row['program_ID']),BDM.url, Literal(row['URL'], datatype=XSD.string)))\n",
    "    g.add((BDM.program+\"/\"+str(row['program_ID']),BDM.duration, Literal(row['Duration'], datatype=XSD.int)))\n",
    "    g.add((BDM.program+\"/\"+str(row['program_ID']),BDM.ap_date, Literal(row['ApplicationDate'], datatype=XSD.string)))\n",
    "    g.add((BDM.program+\"/\"+str(row['program_ID']),BDM.st_date, Literal(row['StartingDate'], datatype=XSD.string)))\n",
    "    g.add((BDM.program+\"/\"+str(row['program_ID']),BDM.score, Literal(row['EligibleScore'], datatype=XSD.int)))\n",
    "    g.add((BDM.program+\"/\"+str(row['program_ID']),BDM.eng_lvl, Literal(row['EnglishLvl'], datatype=XSD.string)))\n",
    "    g.add((BDM.program+\"/\"+str(row['program_ID']),BDM.spa_lvl, Literal(row['SpanishLvl'], datatype=XSD.string)))\n",
    "    g.add((BDM.program+\"/\"+str(row['program_ID']),BDM.bachelor_needed, Literal(row['BachelorNeeded'], datatype=XSD.string)))"
   ]
  },
  {
   "cell_type": "markdown",
   "id": "e7683e27-18ae-4f8e-ab30-64291ec4a38c",
   "metadata": {},
   "source": [
    "### Recommends"
   ]
  },
  {
   "cell_type": "code",
   "execution_count": 42,
   "id": "201210e3-b0f4-4187-a0ac-1da82375b7eb",
   "metadata": {},
   "outputs": [],
   "source": [
    "for index,row in recommended_df.iterrows():\n",
    "    g.add((BDM.program+\"/\"+str(row['START_ID']),BDM.recommends,BDM.program+\"/\"+str(row['END_ID'])))"
   ]
  },
  {
   "cell_type": "markdown",
   "id": "4e6380a4-b6e2-49a2-9dab-f785b089db39",
   "metadata": {
    "id": "e6272b08-6ed6-4f5b-8f1b-09d3257ebf5d"
   },
   "source": [
    "### University"
   ]
  },
  {
   "cell_type": "code",
   "execution_count": 43,
   "id": "d112331b-5b58-4a12-8fd6-c0f124fa6c7e",
   "metadata": {
    "id": "f697f7ce-0339-49b0-b9b4-47ba38398a04"
   },
   "outputs": [],
   "source": [
    "for index,row in universities_df.iterrows():\n",
    "    # Connect with the element\n",
    "    g.add((BDM.university+\"/\"+str(row['ID']),RDF.type,BDM.university))\n",
    "    # Load all the properties\n",
    "    g.add((BDM.university+\"/\"+str(row['ID']),BDM.uni_ID, Literal(str(row['ID']), datatype=XSD.string)))\n",
    "    g.add((BDM.university+\"/\"+str(row['ID']),BDM.name, Literal(row['Name'], datatype=XSD.string)))\n",
    "    g.add((BDM.university+\"/\"+str(row['ID']),BDM.location, Literal(row['Location'], datatype=XSD.string)))"
   ]
  },
  {
   "cell_type": "markdown",
   "id": "4de7c445-795a-4d24-9eec-23601129f456",
   "metadata": {
    "id": "c307e487-872d-4983-9426-7e95306d27b4"
   },
   "source": [
    "### From"
   ]
  },
  {
   "cell_type": "code",
   "execution_count": 44,
   "id": "9215e6a9-d203-4b7b-bd6c-1dbf64d90bba",
   "metadata": {
    "id": "1b004eb7-bcfe-43e3-ba3c-b3ae0072e888"
   },
   "outputs": [],
   "source": [
    "for index,row in from_df.iterrows():\n",
    "    g.add((BDM.program+\"/\"+str(row['START_ID']),BDM.from_uni,BDM.university+\"/\"+str(row['END_ID'])))"
   ]
  },
  {
   "cell_type": "markdown",
   "id": "66826cb8-89eb-4d9c-acb1-c78252cf0286",
   "metadata": {
    "id": "8a230789-609c-4390-9fa7-56c2b9e2ddd6"
   },
   "source": [
    "### Scholarship"
   ]
  },
  {
   "cell_type": "code",
   "execution_count": 45,
   "id": "00b58817-5cdb-4976-8c7b-2030aeb74bbc",
   "metadata": {
    "id": "a1779e4f-335b-4f8e-8cae-567dabd59f2d"
   },
   "outputs": [],
   "source": [
    "for index,row in scholarships_df.iterrows():\n",
    "    # Connect with the element\n",
    "    g.add((BDM.scholarship+\"/\"+str(row['ID']),RDF.type,BDM.scholarship))\n",
    "    # Load all the properties\n",
    "    g.add((BDM.scholarship+\"/\"+str(row['ID']),BDM.sch_ID, Literal(str(row['ID']), datatype=XSD.string)))\n",
    "    g.add((BDM.scholarship+\"/\"+str(row['ID']),BDM.award_name, Literal(row['AwardName'], datatype=XSD.string)))\n",
    "    g.add((BDM.scholarship+\"/\"+str(row['ID']),BDM.deadline, Literal(row['Deadline'], datatype=XSD.string)))\n",
    "    g.add((BDM.scholarship+\"/\"+str(row['ID']),BDM.deadline, Literal(row['Deadline'], datatype=XSD.string)))\n",
    "    g.add((BDM.scholarship+\"/\"+str(row['ID']),BDM.score, Literal(row['EligibleScore'], datatype=XSD.int)))\n",
    "    g.add((BDM.scholarship+\"/\"+str(row['ID']),BDM.eng_lvl, Literal(row['EnglishLvl'], datatype=XSD.string)))\n",
    "    g.add((BDM.scholarship+\"/\"+str(row['ID']),BDM.bachelor_needed, Literal(row['BachelorNeeded'], datatype=XSD.string)))\n",
    "    g.add((BDM.scholarship+\"/\"+str(row['ID']),BDM.spa_lvl, Literal(row['SpanishLvl'], datatype=XSD.string)))\n",
    "    g.add((BDM.scholarship+\"/\"+str(row['ID']),BDM.nationality, Literal(row['Nationality'], datatype=XSD.string)))\n",
    "    g.add((BDM.scholarship+\"/\"+str(row['ID']),BDM.amount, Literal(row['Amount'], datatype=XSD.string)))\n",
    "    g.add((BDM.scholarship+\"/\"+str(row['ID']),BDM.num_awards, Literal(row['NumAwards'], datatype=XSD.string)))\n",
    "    g.add((BDM.scholarship+\"/\"+str(row['ID']),BDM.min_age, Literal(row['MinAge'], datatype=XSD.string)))\n",
    "    g.add((BDM.scholarship+\"/\"+str(row['ID']),BDM.max_age, Literal(row['MaxAge'], datatype=XSD.string)))\n",
    "    g.add((BDM.scholarship+\"/\"+str(row['ID']),BDM.acedemic_perf, Literal(row['AcademicPerformance'], datatype=XSD.string)))"
   ]
  },
  {
   "cell_type": "markdown",
   "id": "fa3e6651-7d26-4d78-aff0-88f8fb7acd32",
   "metadata": {
    "id": "990dfe6e-3a4e-4b9b-8ad8-1a0af1b2ab79"
   },
   "source": [
    "### Eligible_for"
   ]
  },
  {
   "cell_type": "code",
   "execution_count": 46,
   "id": "6044deb0-736b-4a33-80c8-4a689d624f6b",
   "metadata": {
    "id": "3e00ab91-a449-45dd-b923-48d8024f40df"
   },
   "outputs": [],
   "source": [
    "for index,row in eligible_for_df.iterrows():\n",
    "    g.add((BDM.scholarship+\"/\"+str(row['START_ID']),BDM.eligible_for,BDM.program+\"/\"+str(row['END_ID'])))"
   ]
  },
  {
   "cell_type": "markdown",
   "id": "00759c08-4316-4b27-a2ac-a722c0158a53",
   "metadata": {
    "id": "8b6340e7-3203-49a1-8877-d1289cfdabda"
   },
   "source": [
    "### User"
   ]
  },
  {
   "cell_type": "code",
   "execution_count": 47,
   "id": "1829f201-cd65-477f-94e1-b3833d1d80d7",
   "metadata": {
    "id": "4c4dd393-d836-404d-a042-b940838c01d1"
   },
   "outputs": [],
   "source": [
    "for index,row in users_df.iterrows():\n",
    "    # Connect with the element\n",
    "    g.add((BDM.user+\"/\"+str(row['user_ID']),RDF.type,BDM.user))\n",
    "    # Load all the properties\n",
    "    g.add((BDM.user+\"/\"+str(row['user_ID']),BDM.user_ID, Literal(str(row['user_ID']), datatype=XSD.string)))\n",
    "    g.add((BDM.user+\"/\"+str(row['user_ID']),BDM.name, Literal(row['name'], datatype=XSD.string)))\n",
    "    g.add((BDM.user+\"/\"+str(row['user_ID']),BDM.email, Literal(row['email'], datatype=XSD.string)))\n",
    "    g.add((BDM.user+\"/\"+str(row['user_ID']),BDM.register_date, Literal(row['register_date'], datatype=XSD.date)))"
   ]
  },
  {
   "cell_type": "markdown",
   "id": "b0f2ea85-3ba5-45ea-86fe-fb03fbfac67a",
   "metadata": {
    "id": "845a1c0d-3974-4d22-a250-45e5099525cb"
   },
   "source": [
    "### Review"
   ]
  },
  {
   "cell_type": "code",
   "execution_count": 48,
   "id": "c9cafa60-75f5-454c-90a3-7e310ac72610",
   "metadata": {
    "id": "632565b3-5204-47ba-a91c-62e822bdd6a0"
   },
   "outputs": [],
   "source": [
    "for index,row in reviews_df.iterrows():\n",
    "    # Connect with the element\n",
    "    g.add((BDM.review+\"/\"+str(row['review_ID']),RDF.type,BDM.review))\n",
    "    # Load all the properties\n",
    "    g.add((BDM.review+\"/\"+str(row['review_ID']),BDM.review_ID, Literal(str(row['review_ID']), datatype=XSD.string)))\n",
    "    g.add((BDM.review+\"/\"+str(row['review_ID']),BDM.date, Literal(row['date'], datatype=XSD.date)))\n",
    "    g.add((BDM.review+\"/\"+str(row['review_ID']),BDM.comment, Literal(row['comment'], datatype=XSD.string)))\n",
    "    g.add((BDM.review+\"/\"+str(row['review_ID']),BDM.feedback, Literal(row['classification'], datatype=XSD.string)))\n",
    "    g.add((BDM.review+\"/\"+str(row['review_ID']),BDM.topic, Literal(row['top_token'], datatype=XSD.string)))"
   ]
  },
  {
   "cell_type": "markdown",
   "id": "da87318d-b1bc-45d4-a877-0a8c0798133b",
   "metadata": {
    "id": "03f6dd9b-5965-475c-ae6f-37db5841a224"
   },
   "source": [
    "### Opinion_of"
   ]
  },
  {
   "cell_type": "code",
   "execution_count": 49,
   "id": "6d6c7839-4d3d-4585-81d1-7c981c2ea88e",
   "metadata": {
    "id": "f01881b0-d1e5-4dfa-94a9-d13ff7b1de34"
   },
   "outputs": [],
   "source": [
    "for index,row in opinions_df.iterrows():\n",
    "    g.add((BDM.review+\"/\"+str(row['START_ID']),BDM.opinion_of,BDM.program+\"/\"+str(row['END_ID'])))"
   ]
  },
  {
   "cell_type": "markdown",
   "id": "76812b02-e4e7-48bd-a7cd-f6e988707e42",
   "metadata": {
    "id": "89e71a15-3c6a-4c5e-8850-5b659022f5d0"
   },
   "source": [
    "### Writes"
   ]
  },
  {
   "cell_type": "code",
   "execution_count": 50,
   "id": "a814eaab-babe-4471-954c-be0833018258",
   "metadata": {
    "id": "fedd4f54-0753-4ef0-8c90-17d4c49bc0e8"
   },
   "outputs": [],
   "source": [
    "for index,row in writes_df.iterrows():\n",
    "    g.add((BDM.user+\"/\"+str(row['START_ID']),BDM.writes,BDM.review+\"/\"+str(row['END_ID'])))"
   ]
  },
  {
   "cell_type": "markdown",
   "id": "1c3c310f-487a-484e-8c44-b4f9c711c02c",
   "metadata": {
    "id": "25f0bac9-bb90-48e5-8237-68cddc23c64a"
   },
   "source": [
    "### Serialize"
   ]
  },
  {
   "cell_type": "code",
   "execution_count": 51,
   "id": "5a1cf7ea-da51-4932-858b-9e4cb2c74a18",
   "metadata": {
    "id": "d6cb3b32-8db2-432e-aa48-2ed16d7e268e"
   },
   "outputs": [
    {
     "data": {
      "text/plain": [
       "<Graph identifier=N53f55423170a4ed3aea6e7472aa83ad0 (<class 'rdflib.graph.Graph'>)>"
      ]
     },
     "execution_count": 51,
     "metadata": {},
     "output_type": "execute_result"
    }
   ],
   "source": [
    "g.serialize('abox.ttl',format='turtle')"
   ]
  },
  {
   "cell_type": "markdown",
   "id": "1f7bb055-1c67-4bf9-a59a-9b8e3814e49b",
   "metadata": {
    "id": "71dbe87a-e15e-452b-a91d-71b5de13a6a0"
   },
   "source": [
    "# Load the data in GraphDB"
   ]
  },
  {
   "cell_type": "markdown",
   "id": "4ea11a91-ad57-42e7-8c69-74484e7c20c4",
   "metadata": {
    "id": "88810dad-6bb0-4a3b-973a-19de0b164a1d"
   },
   "source": [
    "We can load the graph and we will get something like this:"
   ]
  },
  {
   "attachments": {
    "208b38f0-c39b-4b6f-b037-d97a5134b1cd.png": {
     "image/png": "[encoded data removed]"
    }
   },
   "cell_type": "markdown",
   "id": "d3c4ac32-b9c6-4bd2-8a36-f6e563f62ab1",
   "metadata": {
    "id": "a8af824e-7f83-4ccc-8d4c-bd23bf547bdb"
   },
   "source": [
    "![schema.png](attachment:208b38f0-c39b-4b6f-b037-d97a5134b1cd.png)"
   ]
  }
 ],
 "metadata": {
  "kernelspec": {
   "display_name": "Python 3 (ipykernel)",
   "language": "python",
   "name": "python3"
  },
  "language_info": {
   "codemirror_mode": {
    "name": "ipython",
    "version": 3
   },
   "file_extension": ".py",
   "mimetype": "text/x-python",
   "name": "python",
   "nbconvert_exporter": "python",
   "pygments_lexer": "ipython3",
   "version": "3.10.12"
  }
 },
 "nbformat": 4,
 "nbformat_minor": 5
}
